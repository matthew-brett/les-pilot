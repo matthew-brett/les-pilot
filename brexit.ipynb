{
 "cells": [
  {
   "cell_type": "markdown",
   "metadata": {},
   "source": [
    "$\\newcommand{L}[1]{\\| #1 \\|}\\newcommand{VL}[1]{\\L{ \\vec{#1} }}\\newcommand{R}[1]{\\operatorname{Re}\\,(#1)}\\newcommand{I}[1]{\\operatorname{Im}\\, (#1)}$\n",
    "\n",
    "## Analyzing Brexit\n",
    "\n",
    "Every year, the [Hansard Society](https://www.hansardsociety.org.uk/research/audit-of-political-engagement)\n",
    "sponsors a survey on political engagement in the UK.\n",
    "\n",
    "They put topical questions in each survey.  For the 2016 / 7 survey, they\n",
    "asked about how people voted in the Brexit referendum.\n",
    "\n",
    "Luckily, they make the data freely available online for us to analyze.\n",
    "\n",
    "You can get the data for yourself from the UK Data Service:\n",
    "[https://discover.ukdataservice.ac.uk/catalogue/?sn=8183](https://discover.ukdataservice.ac.uk/catalogue/?sn=8183).\n",
    "\n",
    "To save you a tiny bit of work, I’ve made an unchanged copy of the\n",
    "“tab-delimited” data file for you to download directly. I’ve also made a copy\n",
    "of the document describing the questions they ask and the way that they have\n",
    "recorded the answers in the data file.  This is often called the “data\n",
    "dictionary”.  It was originally in Rich Text Format, but I have converted to\n",
    "PDF for convenience.  It is otherwise identical to the file you will find at\n",
    "the UK Data Service.\n",
    "\n",
    "Download these files to the working directory for your Jupyter Notebook:\n",
    "\n",
    "* [tab-delimited data file](https://matthew-brett.github.io/les-pilot/_downloads/audit_of_political_engagement_14_2017.tab);\n",
    "\n",
    "* [data dictionary PDF file](https://matthew-brett.github.io/les-pilot/_downloads/audit_of_political_engagement_14_2017_ukda_data_dictionary.pdf).\n",
    "\n",
    "We are going to load this data using the [Pandas](http://pandas.pydata.org) package for data analysis.\n",
    "\n",
    "Pandas is a large, powerful package that is very popular for data analysis.\n",
    "You might want to read the [Pandas documentation](http://pandas.pydata.org/pandas-docs/stable) and you will find lots of\n",
    "help with Google searches and the [StackOverflow](https://stackoverflow.com) question answer site.\n",
    "\n",
    "First we *import* the package, so it is ready to use.  Actually we will import\n",
    "it, and also give it a nice short name so we do not have to do much typing to\n",
    "use the package:"
   ]
  },
  {
   "cell_type": "code",
   "execution_count": null,
   "metadata": {},
   "outputs": [],
   "source": [
    "import pandas as pd"
   ]
  },
  {
   "cell_type": "markdown",
   "metadata": {},
   "source": [
    "The data file that you just downloaded should be called\n",
    "`audit_of_political_engagement_14_2017.tab`.  We load the data file into\n",
    "memory with Pandas:"
   ]
  },
  {
   "cell_type": "code",
   "execution_count": null,
   "metadata": {},
   "outputs": [],
   "source": [
    "# Notice we use \"pd\" to refer to the Pandas package (see above)\n",
    "audit_data = pd.read_table('audit_of_political_engagement_14_2017.tab')"
   ]
  },
  {
   "cell_type": "markdown",
   "metadata": {},
   "source": [
    "We now have something called a “data frame”.  This is a table, rather like a\n",
    "spreadsheet, where there is one row per person surveyed, and one column for\n",
    "each question in the survey.  The columns have helpful names that you can read\n",
    "about in the data dictionary:"
   ]
  },
  {
   "cell_type": "code",
   "execution_count": null,
   "metadata": {},
   "outputs": [],
   "source": [
    "audit_data"
   ]
  },
  {
   "cell_type": "markdown",
   "metadata": {},
   "source": [
    "The data frame has columns for all the questions listed in the data\n",
    "dictionary:"
   ]
  },
  {
   "cell_type": "code",
   "execution_count": null,
   "metadata": {},
   "outputs": [],
   "source": [
    "audit_data.columns"
   ]
  },
  {
   "cell_type": "markdown",
   "metadata": {},
   "source": [
    "For the moment, we will focus on two questions labeled `cut15`\n",
    "and `numage`.  `cut15` is the question about Brexit. The data dictionary\n",
    "has the *variable label* “CUT15 - How did you vote on the question ‘Should the\n",
    "United Kingdom remain a member of the European Union or leave the European\n",
    "Union’?”.  The recorded values run from 1 through 6 and have the following\n",
    "labels:\n",
    "\n",
    "```\n",
    "Value label information for cut15\n",
    "Value = 1.0    Label = Remain a member of the European Union\n",
    "Value = 2.0    Label = Leave the European Union\n",
    "Value = 3.0    Label = Did not vote\n",
    "Value = 4.0    Label = Too young\n",
    "Value = 5.0    Label = Can't remember\n",
    "Value = 6.0    Label = Refused\n",
    "```\n",
    "\n",
    "We also want the variable `numage`; this is the age of the respondent in\n",
    "years.\n",
    "\n",
    "To reduce clutter, we first make a new data frame that just has the two\n",
    "questions we are interested in:"
   ]
  },
  {
   "cell_type": "code",
   "execution_count": null,
   "metadata": {},
   "outputs": [],
   "source": [
    "# Select the age and Brexit vote questions only\n",
    "brexit_age = audit_data[['numage', 'cut15']]\n",
    "brexit_age"
   ]
  },
  {
   "cell_type": "markdown",
   "metadata": {},
   "source": [
    "The variable name `cut15` is not very memorable, and we care about\n",
    "memorable, because good names help to keep our ideas clear as we are working.\n",
    "We rename the columns from their original names to more memorable ones:"
   ]
  },
  {
   "cell_type": "code",
   "execution_count": null,
   "metadata": {},
   "outputs": [],
   "source": [
    "# Rename the columns to be more memorable\n",
    "brexit_age.columns = ['age', 'brexit']\n",
    "brexit_age"
   ]
  },
  {
   "cell_type": "markdown",
   "metadata": {},
   "source": [
    "Wait — there’s something odd in those numbers.\n",
    "\n",
    "We were lucky to spot that, but in any case, we want to check our data before\n",
    "we continue.  The first thing we do is make a histogram of the ages.\n",
    "\n",
    "To do this we first need to load the standard Python plotting library,\n",
    "[Matplotlib](http://matplotlib.org)."
   ]
  },
  {
   "cell_type": "code",
   "execution_count": null,
   "metadata": {},
   "outputs": [],
   "source": [
    "%matplotlib inline"
   ]
  },
  {
   "cell_type": "markdown",
   "metadata": {},
   "source": [
    "Remember that we did an “import” for the Pandas package above.  Now we import\n",
    "part of `matplotlib`, and again, we give it a short memorable name:"
   ]
  },
  {
   "cell_type": "code",
   "execution_count": null,
   "metadata": {},
   "outputs": [],
   "source": [
    "import matplotlib.pyplot as plt"
   ]
  },
  {
   "cell_type": "markdown",
   "metadata": {},
   "source": [
    "Here is a histogram of the respondents’ ages:"
   ]
  },
  {
   "cell_type": "code",
   "execution_count": null,
   "metadata": {},
   "outputs": [],
   "source": [
    "plt.hist(brexit_age['age'])"
   ]
  },
  {
   "cell_type": "markdown",
   "metadata": {},
   "source": [
    "There appear to be a few subjects with age of 0.\n",
    "\n",
    "It looks as if the survey coders are using the value 0 to mean that the person\n",
    "did not state their age.  We will have to clean that up.  We do that by\n",
    "selecting the cases that have ages not equal to 0:"
   ]
  },
  {
   "cell_type": "code",
   "execution_count": null,
   "metadata": {},
   "outputs": [],
   "source": [
    "# Select rows where the age is not equal to 0\n",
    "brexit_age = brexit_age[brexit_age['age'] != 0]\n",
    "brexit_age"
   ]
  },
  {
   "cell_type": "markdown",
   "metadata": {},
   "source": [
    "Now we want to ask what proportion of the respondents said that they voted\n",
    "Remain or Leave.  Later we will try to work out whether the proportion is\n",
    "consistent with the way that the UK voted in the referendum.\n",
    "\n",
    "First we make a new data frame that contains only the rows for people who said\n",
    "they voted No in the referendum (remain).  Remember, from the data dictionary,\n",
    "that 1 is the code for a No vote:"
   ]
  },
  {
   "cell_type": "code",
   "execution_count": null,
   "metadata": {},
   "outputs": [],
   "source": [
    "# Select the cases who say they voted No (Remain)\n",
    "remainers = brexit_age[brexit_age['brexit'] == 1]\n",
    "remainers"
   ]
  },
  {
   "cell_type": "markdown",
   "metadata": {},
   "source": [
    "Next we make a new data frame for those who claimed to vote Yes (leave) (code\n",
    "2):"
   ]
  },
  {
   "cell_type": "code",
   "execution_count": null,
   "metadata": {},
   "outputs": [],
   "source": [
    "brexiteers = brexit_age[brexit_age['brexit'] == 2]\n",
    "brexiteers"
   ]
  },
  {
   "cell_type": "markdown",
   "metadata": {},
   "source": [
    "In this sample, what are the proportion of Leave voters, compared to all those\n",
    "who will confess to a vote?  We use the `len` function to get the number of\n",
    "cases in each data frame:"
   ]
  },
  {
   "cell_type": "code",
   "execution_count": null,
   "metadata": {},
   "outputs": [],
   "source": [
    "len(brexiteers)"
   ]
  },
  {
   "cell_type": "markdown",
   "metadata": {},
   "source": [
    "Now for the proportion:"
   ]
  },
  {
   "cell_type": "code",
   "execution_count": null,
   "metadata": {},
   "outputs": [],
   "source": [
    "len(brexiteers) / (len(brexiteers) + len(remainers))"
   ]
  },
  {
   "cell_type": "markdown",
   "metadata": {},
   "source": [
    "Let us remind ourselves of the [final referendum vote percentages](https://www.electoralcommission.org.uk/find-information-by-subject/elections-and-referendums/past-elections-and-referendums/eu-referendum/electorate-and-count-information):\n",
    "\n",
    "* Remain: 48.1%\n",
    "\n",
    "* Leave: 51.9%\n",
    "\n",
    "Now let’s have a look at the distribution of ages for the Remain voters:"
   ]
  },
  {
   "cell_type": "code",
   "execution_count": null,
   "metadata": {},
   "outputs": [],
   "source": [
    "plt.hist(remainers['age'])"
   ]
  },
  {
   "cell_type": "markdown",
   "metadata": {},
   "source": [
    "How about the ages of the Brexiteers?"
   ]
  },
  {
   "cell_type": "code",
   "execution_count": null,
   "metadata": {},
   "outputs": [],
   "source": [
    "plt.hist(brexiteers['age'])"
   ]
  },
  {
   "cell_type": "markdown",
   "metadata": {},
   "source": [
    "These distributions look different.  But — how different are they?  And how\n",
    "confident can we be that this difference did not come about by chance?\n",
    "\n",
    "Last, we will save the data to use it later.  First we stack the Remain and\n",
    "Leave cases together into one long data frame:"
   ]
  },
  {
   "cell_type": "code",
   "execution_count": null,
   "metadata": {},
   "outputs": [],
   "source": [
    "remain_leave = pd.concat([remainers, brexiteers])\n",
    "len(remain_leave)"
   ]
  },
  {
   "cell_type": "markdown",
   "metadata": {},
   "source": [
    "Next we save to a simple text file so we can load it later.  The format is\n",
    "CSV, which stands for Comma Separated Values — commas separate the values\n",
    "within each row.  In saving, we drop off the first implicit column, with the\n",
    "case numbers:"
   ]
  },
  {
   "cell_type": "code",
   "execution_count": null,
   "metadata": {},
   "outputs": [],
   "source": [
    "remain_leave.to_csv('remain_leave.csv', index=False)"
   ]
  },
  {
   "cell_type": "markdown",
   "metadata": {},
   "source": [
    "To be safe, we check we can load back that file:"
   ]
  },
  {
   "cell_type": "code",
   "execution_count": null,
   "metadata": {},
   "outputs": [],
   "source": [
    "remain_leave_reloaded = pd.read_csv('remain_leave.csv')\n",
    "remain_leave_reloaded"
   ]
  },
  {
   "cell_type": "markdown",
   "metadata": {},
   "source": [
    "<!-- A file containing links and substitutions -->\n",
    "<!-- vim: ft=rst -->\n",
    "<!-- Version control -->\n",
    "<!-- Editors -->\n",
    "<!-- Python and common libraries -->\n",
    "<!-- Virtualenv and helpers -->\n",
    "<!-- Pypi and packaging -->\n",
    "<!-- Mac development -->\n",
    "<!-- Windows development -->\n",
    "<!-- Nipy and friends -->\n",
    "<!-- Mathematics -->\n",
    "<!-- Licenses -->\n",
    "<!-- Misc Web: -->\n",
    "<!-- Neuroimaging stuff -->\n",
    "<!-- People -->\n",
    "<!-- Birmingham -->\n",
    "<!-- Course: -->\n",
    "<!-- Substitutions -->"
   ]
  }
 ],
 "metadata": {},
 "nbformat": 4,
 "nbformat_minor": 2
}