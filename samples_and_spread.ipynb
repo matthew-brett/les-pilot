{
 "cells": [
  {
   "cell_type": "markdown",
   "metadata": {},
   "source": [
    "$\\newcommand{L}[1]{\\| #1 \\|}\\newcommand{VL}[1]{\\L{ \\vec{#1} }}\\newcommand{R}[1]{\\operatorname{Re}\\,(#1)}\\newcommand{I}[1]{\\operatorname{Im}\\, (#1)}$\n",
    "\n",
    "## Spread of a distribution with number of samples\n",
    "\n",
    "Have a look back at [Testing Brexit Proportions](https://matthew-brett.github.io/les-pilot/brexit_proportions_solution.html).  We found that our\n",
    "sampling distribution of 1315 simulated voters with p=0.519 of voting Brexit\n",
    "was not compatible with the survey proportion of 0.41.\n",
    "\n",
    "We’re going to be doing some plots, so we start of by getting the plotting\n",
    "libraries:"
   ]
  },
  {
   "cell_type": "code",
   "execution_count": null,
   "metadata": {},
   "outputs": [],
   "source": [
    "%matplotlib inline"
   ]
  },
  {
   "cell_type": "code",
   "execution_count": null,
   "metadata": {},
   "outputs": [],
   "source": [
    "#: The stuff you need for plotting a histogram\n",
    "import matplotlib.pyplot as plt"
   ]
  },
  {
   "cell_type": "markdown",
   "metadata": {},
   "source": [
    "Let’s have a look again at the sampling distribution:"
   ]
  },
  {
   "cell_type": "code",
   "execution_count": null,
   "metadata": {},
   "outputs": [],
   "source": [
    "#: The random module\n",
    "import random"
   ]
  },
  {
   "cell_type": "code",
   "execution_count": null,
   "metadata": {},
   "outputs": [],
   "source": [
    "#: function to return a Leave or Remain voter\n",
    "def leave_or_remain():\n",
    "    # Return 1 for Leave, 0 for Remain\n",
    "    random_no = random.random()\n",
    "    if random_no < 0.519:\n",
    "        our_result = 1\n",
    "    else:\n",
    "        our_result = 0\n",
    "    return our_result"
   ]
  },
  {
   "cell_type": "markdown",
   "metadata": {},
   "source": [
    "Here we get 1315 voters, and calculate a *statistic*, the proportion of Brexit\n",
    "voters:"
   ]
  },
  {
   "cell_type": "code",
   "execution_count": null,
   "metadata": {},
   "outputs": [],
   "source": [
    "#: The statistic value from a single trial\n",
    "def one_proportion():\n",
    "    votes = []\n",
    "    for i in range(1315):\n",
    "        vote = leave_or_remain()\n",
    "        votes.append(vote)\n",
    "    brexits = sum(votes)\n",
    "    return brexits / len(votes)"
   ]
  },
  {
   "cell_type": "markdown",
   "metadata": {},
   "source": [
    "Now we want the sampling distribution of this proportion:"
   ]
  },
  {
   "cell_type": "code",
   "execution_count": null,
   "metadata": {},
   "outputs": [],
   "source": [
    "n_trials = 10000\n",
    "proportions = []\n",
    "for i in range(n_trials):\n",
    "    proportion = one_proportion()\n",
    "    proportions.append(proportion)"
   ]
  },
  {
   "cell_type": "markdown",
   "metadata": {},
   "source": [
    "Plot the histogram of the sampling distribution you have just collected:"
   ]
  },
  {
   "cell_type": "code",
   "execution_count": null,
   "metadata": {},
   "outputs": [],
   "source": [
    "#- plot the histogram of the sampling distribution\n",
    "plt.hist(proportions)"
   ]
  },
  {
   "cell_type": "markdown",
   "metadata": {},
   "source": [
    "Now - go back to `one_proportion` above, and change 1315 to 20.  Plot the\n",
    "sampling distribution again, by running the cells above.  What do you see?\n",
    "Try 50, 100 and 1000 instead of 20."
   ]
  }
 ],
 "metadata": {},
 "nbformat": 4,
 "nbformat_minor": 2
}