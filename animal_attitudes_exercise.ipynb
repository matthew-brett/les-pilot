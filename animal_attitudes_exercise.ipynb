{
 "cells": [
  {
   "cell_type": "markdown",
   "metadata": {},
   "source": [
    "$\\newcommand{L}[1]{\\| #1 \\|}\\newcommand{VL}[1]{\\L{ \\vec{#1} }}\\newcommand{R}[1]{\\operatorname{Re}\\,(#1)}\\newcommand{I}[1]{\\operatorname{Im}\\, (#1)}$\n",
    "\n",
    "<!-- vim: ft=rst -->\n",
    "## Attitudes to animal research\n",
    "\n",
    "* For code template see: [animal_attitudes_code.py](https://matthew-brett.github.io/les-pilot/_downloads/animal_attitudes_code.py);\n",
    "\n",
    "* For solution see: [Attitudes to animal research](https://matthew-brett.github.io/les-pilot/animal_attitudes_solution.html).\n",
    "\n",
    "Here we are going to try to analyze the data from this survey:\n",
    "\n",
    "[https://www.ipsos.com/ipsos-mori/en-uk/attitudes-animal-research-2016](https://www.ipsos.com/ipsos-mori/en-uk/attitudes-animal-research-2016)\n",
    "\n",
    "You can download the raw data from here:\n",
    "\n",
    "[https://discover.ukdataservice.ac.uk/catalogue?sn=8059](https://discover.ukdataservice.ac.uk/catalogue?sn=8059)\n",
    "\n",
    "To be helpful, I have unpacked the tab-delimited data file for you, and also\n",
    "converted the data dictionary document to a PDF:\n",
    "\n",
    "* [tab-delimited data file](https://matthew-brett.github.io/les-pilot/_downloads/ols_animal_research_survey_data_2016.tab);\n",
    "\n",
    "* [data dictionary PDF file](https://matthew-brett.github.io/les-pilot/_downloads/ols_animal_research_survey_data_2016_ukda_data_dictionary.pdf).\n",
    "\n",
    "Download the data file to the directory containing this Notebook."
   ]
  },
  {
   "cell_type": "code",
   "execution_count": null,
   "metadata": {},
   "outputs": [],
   "source": [
    "#: Load pandas\n",
    "import pandas as pd"
   ]
  },
  {
   "cell_type": "code",
   "execution_count": null,
   "metadata": {},
   "outputs": [],
   "source": [
    "#: Read file into data frame\n",
    "df = pd.read_table('ols_animal_research_survey_data_2016.tab')"
   ]
  },
  {
   "cell_type": "markdown",
   "metadata": {},
   "source": [
    "Display the data frame:"
   ]
  },
  {
   "cell_type": "code",
   "execution_count": null,
   "metadata": {},
   "outputs": [],
   "source": [
    "#: Display the data frame\n",
    "df"
   ]
  },
  {
   "cell_type": "markdown",
   "metadata": {},
   "source": [
    "Show the list of the all the column names:"
   ]
  },
  {
   "cell_type": "code",
   "execution_count": null,
   "metadata": {},
   "outputs": [],
   "source": [
    "#- Show the column names"
   ]
  },
  {
   "cell_type": "markdown",
   "metadata": {},
   "source": [
    "Have a look at the data dictionary.  Find the name of the column containing\n",
    "the variable with label “Sources of balanced information about use of:\n",
    "Universities”.  Keep a note of that.\n",
    "\n",
    "Now find the name of the column with label “Sources of balanced information\n",
    "about use of: Animal protection organisations”.  Keep a note of that too.\n",
    "\n",
    "Use indexing to select make a new data frame containing only these two columns\n",
    "from the original data frame.  It will look something like `questions =df[` followed by\n",
    "the names of the columns you just found.  Have a look at [Analyzing Brexit](https://matthew-brett.github.io/les-pilot/brexit.html) for\n",
    "inspiration."
   ]
  },
  {
   "cell_type": "code",
   "execution_count": null,
   "metadata": {},
   "outputs": [],
   "source": [
    "#- Select only the two columns we found above.\n",
    "#- Something like\n",
    "#- questions = df[ something here ]"
   ]
  },
  {
   "cell_type": "markdown",
   "metadata": {},
   "source": [
    "Check that your new `questions` data frame has the column names you\n",
    "expected."
   ]
  },
  {
   "cell_type": "code",
   "execution_count": null,
   "metadata": {},
   "outputs": [],
   "source": [
    "#- Show the column names for the new \"questions\" data frame"
   ]
  },
  {
   "cell_type": "markdown",
   "metadata": {},
   "source": [
    "Rename the columns to `\"trust_uni\"` and `\"trust_protectors\"`.   See\n",
    "[Analyzing Brexit](https://matthew-brett.github.io/les-pilot/brexit.html) for inspiration."
   ]
  },
  {
   "cell_type": "code",
   "execution_count": null,
   "metadata": {},
   "outputs": [],
   "source": [
    "#- Rename the columns of the new data frame to:\n",
    "#- \"trust_uni\" and \"trust_protectors\""
   ]
  },
  {
   "cell_type": "code",
   "execution_count": null,
   "metadata": {},
   "outputs": [],
   "source": [
    "%matplotlib inline"
   ]
  },
  {
   "cell_type": "markdown",
   "metadata": {},
   "source": [
    "Import the plotting library, using the same conventions as in [Analyzing Brexit](https://matthew-brett.github.io/les-pilot/brexit.html):"
   ]
  },
  {
   "cell_type": "code",
   "execution_count": null,
   "metadata": {},
   "outputs": [],
   "source": [
    "#- Import the plotting library"
   ]
  },
  {
   "cell_type": "markdown",
   "metadata": {},
   "source": [
    "Plot a histogram of the values for the question about trusting universities."
   ]
  },
  {
   "cell_type": "code",
   "execution_count": null,
   "metadata": {},
   "outputs": [],
   "source": [
    "#- A histogram of the values for the trust universities question"
   ]
  },
  {
   "cell_type": "markdown",
   "metadata": {},
   "source": [
    "Plot a histogram of the values for the question about trusting Animal\n",
    "Protection Organizations:"
   ]
  },
  {
   "cell_type": "code",
   "execution_count": null,
   "metadata": {},
   "outputs": [],
   "source": [
    "#- A histogram of the values for the trust APOs question"
   ]
  },
  {
   "cell_type": "markdown",
   "metadata": {},
   "source": [
    "Do you think there is a substantial difference between these histograms?   How\n",
    "would you check?\n",
    "\n",
    "If you have extra time, why not try and find out whether the respondents trust\n",
    "politicians any better than universities or animal protection organizations."
   ]
  }
 ],
 "metadata": {},
 "nbformat": 4,
 "nbformat_minor": 2
}