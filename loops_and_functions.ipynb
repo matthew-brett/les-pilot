{
 "cells": [
  {
   "cell_type": "markdown",
   "metadata": {},
   "source": [
    "$\\newcommand{L}[1]{\\| #1 \\|}\\newcommand{VL}[1]{\\L{ \\vec{#1} }}\\newcommand{R}[1]{\\operatorname{Re}\\,(#1)}\\newcommand{I}[1]{\\operatorname{Im}\\, (#1)}$\n",
    "\n",
    "## Conditionals, functions and loops\n",
    "\n",
    "In this Notebook, we work out how to simulate a coin toss in Python.  Then we\n",
    "wrap up the coin toss logic into our own function.  Lastly, we work out how to\n",
    "do many coin tosses and collect the result.\n",
    "\n",
    "### Conditionals\n",
    "\n",
    "We want our Python code to do the equivalent of a coin toss.  We want to run\n",
    "the code, and get a random answer, that is 1 50% of the time (representing a\n",
    "Head), and 0 50% of the time (representing a Tail).\n",
    "\n",
    "Let’s start by getting a random number that can be any value, with equal\n",
    "likelihood, all the way between 0 and 1.  We think first of the `random`\n",
    "module:"
   ]
  },
  {
   "cell_type": "code",
   "execution_count": null,
   "metadata": {},
   "outputs": [],
   "source": [
    "import random"
   ]
  },
  {
   "cell_type": "markdown",
   "metadata": {},
   "source": [
    "We can explore the functions inside the random module by tab completion (see\n",
    "[Exercise](https://matthew-brett.github.io/les-pilot/jupyter_intro.html#getting-help)).  We can also look at the [documentation for the random\n",
    "module](https://docs.python.org/3.6/library/random.html).  We discover that\n",
    "the `random` function in the `random` module does what we want:"
   ]
  },
  {
   "cell_type": "code",
   "execution_count": null,
   "metadata": {},
   "outputs": [],
   "source": [
    "# Get a random number between 0 and 1\n",
    "random.random()"
   ]
  },
  {
   "cell_type": "code",
   "execution_count": null,
   "metadata": {},
   "outputs": [],
   "source": [
    "# Get another random number between 0 and 1\n",
    "random.random()"
   ]
  },
  {
   "cell_type": "markdown",
   "metadata": {},
   "source": [
    "To do our coin toss, we can look at the random number.  If it is < 0.5, we can\n",
    "decide this is a 0 (for Tails), and if it is >= 0.5, we will say it is a 1\n",
    "(for Heads).  This is a “if, then” type statement, called a *conditional*.\n",
    "It’s called a conditional because we do something only if a condition is met.\n",
    "The condition here is that the random number is < 0.5.  A conditional in\n",
    "Python looks like this:"
   ]
  },
  {
   "cell_type": "code",
   "execution_count": null,
   "metadata": {},
   "outputs": [],
   "source": [
    "random_no = random.random()\n",
    "# Next we see the condition that is being tested\n",
    "if random_no < 0.5:\n",
    "    # Tails\n",
    "    our_result = 0\n",
    "else:\n",
    "    # Heads\n",
    "    our_result = 1"
   ]
  },
  {
   "cell_type": "markdown",
   "metadata": {},
   "source": [
    "There are a couple of important things to notice here. The conditional starts\n",
    "with `if`, followed by the condition, here `random_no < 0.5`.  There must\n",
    "be a colon () at the end of the line, and this signals the start of the\n",
    "statements that should run if the condition is True.\n",
    "\n",
    "The statement to execute if the condition is True, is `our_result = 0`.\n",
    "Notice that this statement is *indented* by four spaces.  It is this\n",
    "indentation that tells Python that the statement should run only if the\n",
    "condition is True.  You can put many statements to run if the condition is\n",
    "True, but they must all be indented in the same way.  Luckily the Notebook and\n",
    "other code editors usually guess what we want and do the indentation for us.\n",
    "\n",
    "Next we see a line `else:`.  Notice that this line is *not* indented.  That\n",
    "is because we want this line to run if the condition is False.  Remember, the\n",
    "indented lines above run only when the condition is True.\n",
    "\n",
    "Notice again that the `else:` has a colon at the end, to say that more\n",
    "indented lines will follow.  These lines only run if the condition is False.\n",
    "\n",
    "To recap, the indented lines after the `if` and before the `else` run only\n",
    "if the condition is True.  The indented lines after the `else:` only run if\n",
    "the condition is False.\n",
    "\n",
    "You don’t have to have an `else:` part of a conditional block - you can just\n",
    "have the `if` part.  For example, this code would do the same as the code\n",
    "above:"
   ]
  },
  {
   "cell_type": "code",
   "execution_count": null,
   "metadata": {},
   "outputs": [],
   "source": [
    "random_no = random.random()\n",
    "# Default to Heads\n",
    "our_result = 1\n",
    "# We have the \"if\" part, but no \"else:\" part.\n",
    "if random_no < 0.5:\n",
    "    # Tails\n",
    "    our_result = 0"
   ]
  },
  {
   "cell_type": "markdown",
   "metadata": {},
   "source": [
    "# Functions\n",
    "\n",
    "In [Introduction to the Jupyter Notebook](https://matthew-brett.github.io/les-pilot/jupyter_intro.html), we saw functions in action, such as `len` and\n",
    "`max`.\n",
    "\n",
    "These are functions that Python provides for us.\n",
    "\n",
    "We can also write our own functions.\n",
    "\n",
    "We’re going to wrap up our logic for the coin toss into a function, and call\n",
    "the function `coin_toss`.  Like `random.random` our function `coin_toss`\n",
    "will accept no arguments.  It will return a 0 50% of the time and a 1 50% of\n",
    "the time.\n",
    "\n",
    "We make a function like this:"
   ]
  },
  {
   "cell_type": "code",
   "execution_count": null,
   "metadata": {},
   "outputs": [],
   "source": [
    "def coin_toss():\n",
    "    random_no = random.random()\n",
    "    if random_no < 0.5:\n",
    "        our_result = 0\n",
    "    else:\n",
    "        our_result = 1\n",
    "    return our_result"
   ]
  },
  {
   "cell_type": "markdown",
   "metadata": {},
   "source": [
    "The function starts with the word `def` which tells Python we are defining a\n",
    "function.  Next follows the name of the function, followed by, in our case,\n",
    "parentheses.  You specify what arguments the function should have, in the\n",
    "parentheses. In our case, our function as no arguments, so there is nothing\n",
    "between the parentheses.\n",
    "\n",
    "Next there follows a series of statements that are indented.  These statements\n",
    "are the *body* of the function.  They are the code that gets run when the\n",
    "function gets called.\n",
    "\n",
    "We return the result with the `return` statement.  Here we are returning a 0\n",
    "if a random number was < 0.5, and a 1 otherwise.\n",
    "\n",
    "Let’s call the function a few times to see if the results are plausible:"
   ]
  },
  {
   "cell_type": "code",
   "execution_count": null,
   "metadata": {},
   "outputs": [],
   "source": [
    "# Notice, we pass no arguments\n",
    "coin_toss()"
   ]
  },
  {
   "cell_type": "code",
   "execution_count": null,
   "metadata": {},
   "outputs": [],
   "source": [
    "coin_toss()"
   ]
  },
  {
   "cell_type": "code",
   "execution_count": null,
   "metadata": {},
   "outputs": [],
   "source": [
    "coin_toss()"
   ]
  },
  {
   "cell_type": "markdown",
   "metadata": {},
   "source": [
    "# Exercise\n",
    "\n",
    "Up until now, we’ve assumed that the chance that a child is a boy is 0.5.  Now\n",
    "assume the proportion of boys born in the UK is 0.513 .\n",
    "\n",
    "Here is a new copy of the `coin_toss` function, but renamed.  Like the\n",
    "`coin_toss` function, it returns 0 50% of the time, and 1 the rest of the\n",
    "time.  Modify the function to return 0 (for a boy) 51.3% of the time, and 1\n",
    "(for a girl) 48.7% of the time:"
   ]
  },
  {
   "cell_type": "code",
   "execution_count": null,
   "metadata": {},
   "outputs": [],
   "source": [
    "def girl_or_boy():\n",
    "    # Return 1 for a girl, 0 for a boy\n",
    "    random_no = random.random()\n",
    "    if random_no < 0.5:\n",
    "        our_result = 0\n",
    "    else:\n",
    "        our_result = 1\n",
    "    return our_result"
   ]
  },
  {
   "cell_type": "markdown",
   "metadata": {},
   "source": [
    "You can try your function out a few times with the cell below:"
   ]
  },
  {
   "cell_type": "code",
   "execution_count": null,
   "metadata": {},
   "outputs": [],
   "source": [
    "girl_or_boy()"
   ]
  },
  {
   "cell_type": "markdown",
   "metadata": {},
   "source": [
    "# Loops\n",
    "\n",
    "We often want to repeat some code many times.  We could type the same code\n",
    "over and over again, but this would be messy, error-prone and boring.  No,\n",
    "what we want, is a loop.\n",
    "\n",
    "A loop is a set of statements that we can repeat several times.\n",
    "\n",
    "One type of Python loop uses `while`.\n",
    "\n",
    "## While loops\n",
    "\n",
    "For our trials, we need to do four coin tosses, and collect the results.  We\n",
    "can do this with a `while` loop, like this:"
   ]
  },
  {
   "cell_type": "code",
   "execution_count": null,
   "metadata": {},
   "outputs": [],
   "source": [
    "# We use a counter to keep track of how many times we've run\n",
    "counter = 0\n",
    "coin_tosses = []\n",
    "while counter < 4:\n",
    "    result = coin_toss()\n",
    "    coin_tosses.append(result)\n",
    "    counter = counter + 1\n",
    "\n",
    "coin_tosses"
   ]
  },
  {
   "cell_type": "markdown",
   "metadata": {},
   "source": [
    "The `while` loop, like the `if` statement, tests a condition, here\n",
    "`counter < 4`.  Like the `if` statement, there are indented statements\n",
    "after the condition test, that only run if the condition test is True.  The\n",
    "difference is that a while loop keeps running the indented statements until\n",
    "the condition is True.  So, the first time through, when `counter` is set to\n",
    "0, the condition will be True (0 is less than 4), and the body of the while\n",
    "loop executes.  But, when the while loop finishes running `counter = counter\n",
    "+ 1` at the end of the block, it goes back and checks the conditional again.\n",
    "Now `counter` is 1, but this is still less than 4, and so we proceed to run\n",
    "`result = coin_toss()` and the rest of the statements in the body.  We do\n",
    "this until the condition is False, and then the while loop stops and the\n",
    "program continues after the end of the while loop.\n",
    "\n",
    " Sum and count\n",
    "\n",
    "`sum` is a function, like `len` or `max`:"
   ]
  },
  {
   "cell_type": "code",
   "execution_count": null,
   "metadata": {},
   "outputs": [],
   "source": [
    "my_list = [3, 5, 1]\n",
    "sum(my_list)"
   ]
  },
  {
   "cell_type": "markdown",
   "metadata": {},
   "source": [
    "`count` is a method of a list.  As y’all remember, a method is a function\n",
    "attached to something, in this case, a list."
   ]
  },
  {
   "cell_type": "code",
   "execution_count": null,
   "metadata": {},
   "outputs": [],
   "source": [
    "my_list = [3, 5, 1, 3]\n",
    "my_list.count(3)\n",
    "my_list.count(1)"
   ]
  },
  {
   "cell_type": "markdown",
   "metadata": {},
   "source": [
    "# Exercise\n",
    "\n",
    "Using the `while` loop above as a template, make a list of 10000 samples\n",
    "from the `girl_or_boy` function you wrote above.  Calculate how many of\n",
    "these samples are girls (have value of 1) (hint: `sum` might be useful).\n",
    "What proportion of the samples are girls?  How close is this to the number you\n",
    "were expecting?  Here’s a copy of the `while` loop above, for you to use as\n",
    "a template:"
   ]
  },
  {
   "cell_type": "code",
   "execution_count": null,
   "metadata": {},
   "outputs": [],
   "source": [
    "# A copy of the while loop above for you to edit\n",
    "counter = 0\n",
    "coin_tosses = []\n",
    "while counter < 4:\n",
    "    result = coin_toss()\n",
    "    coin_tosses.append(result)\n",
    "    counter = counter + 1\n",
    "\n",
    "coin_tosses"
   ]
  }
 ],
 "metadata": {},
 "nbformat": 4,
 "nbformat_minor": 2
}