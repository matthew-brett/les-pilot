{
 "cells": [
  {
   "cell_type": "markdown",
   "metadata": {},
   "source": [
    "$\\newcommand{L}[1]{\\| #1 \\|}\\newcommand{VL}[1]{\\L{ \\vec{#1} }}\\newcommand{R}[1]{\\operatorname{Re}\\,(#1)}\\newcommand{I}[1]{\\operatorname{Im}\\, (#1)}$\n",
    "\n",
    "<!-- vim: ft=rst -->\n",
    "## Three girls in a family of four"
   ]
  },
  {
   "cell_type": "code",
   "execution_count": null,
   "metadata": {},
   "outputs": [],
   "source": [
    "#: We need the random module\n",
    "import random"
   ]
  },
  {
   "cell_type": "markdown",
   "metadata": {},
   "source": [
    "We need a function to do a coin toss.  We will use the function we wrote in\n",
    "[Conditionals, functions and loops](https://matthew-brett.github.io/les-pilot/loops_and_functions.html):"
   ]
  },
  {
   "cell_type": "code",
   "execution_count": null,
   "metadata": {},
   "outputs": [],
   "source": [
    "#: A function for a single coin toss\n",
    "def coin_toss():\n",
    "    random_no = random.random()\n",
    "    if random_no < 0.5:\n",
    "        our_result = 0\n",
    "    else:\n",
    "        our_result = 1\n",
    "    return our_result"
   ]
  },
  {
   "cell_type": "markdown",
   "metadata": {},
   "source": [
    "Test the function a few times:\n",
    "\n",
    "Test the `coin_toss` function a few times.  It should come up with a few 1s\n",
    "and a few 0s."
   ]
  },
  {
   "cell_type": "code",
   "execution_count": null,
   "metadata": {},
   "outputs": [],
   "source": [
    "#- Test the coin toss a few times\n",
    "coin_toss()\n",
    "coin_toss()\n",
    "coin_toss()\n",
    "coin_toss()\n",
    "coin_toss()\n",
    "coin_toss()"
   ]
  },
  {
   "cell_type": "markdown",
   "metadata": {},
   "source": [
    "Now make a list, called , and collect four coin tosses:"
   ]
  },
  {
   "cell_type": "code",
   "execution_count": null,
   "metadata": {},
   "outputs": [],
   "source": [
    "#- Make a list, and collect four coin tosses\n",
    "a_family = []\n",
    "a_family.append(coin_toss())\n",
    "a_family.append(coin_toss())\n",
    "a_family.append(coin_toss())\n",
    "a_family.append(coin_toss())\n",
    "a_family"
   ]
  },
  {
   "cell_type": "markdown",
   "metadata": {},
   "source": [
    "Let’s take 1 from the coin toss to mean a girl.  Sum up the results of the\n",
    "four coin tosses to say how many girls in this family."
   ]
  },
  {
   "cell_type": "code",
   "execution_count": null,
   "metadata": {},
   "outputs": [],
   "source": [
    "#- Sum the list to give the number of girls in this family\n",
    "sum(a_family)"
   ]
  },
  {
   "cell_type": "markdown",
   "metadata": {},
   "source": [
    "If you didn’t do this before, use a `while` loop to make another family from\n",
    "coin tosses.  See [Conditionals, functions and loops](https://matthew-brett.github.io/les-pilot/loops_and_functions.html) for inspiration:"
   ]
  },
  {
   "cell_type": "code",
   "execution_count": null,
   "metadata": {},
   "outputs": [],
   "source": [
    "#- Make a family from coin tosses, using a while loop.\n",
    "a_family = []\n",
    "counter = 0\n",
    "while counter < 4:\n",
    "    a_family.append(coin_toss())\n",
    "    counter = counter + 1\n",
    "sum(a_family)"
   ]
  },
  {
   "cell_type": "markdown",
   "metadata": {},
   "source": [
    "Now you know how to make one family.  Now you’re going to make 1000 families.\n",
    "\n",
    "First make an empty list to collect the number of girls in each family.\n",
    "\n",
    "Then use another `while` loop to make 1000 families.  Careful of your\n",
    "counters, for each loop. For each family, calculate the number of girls, using\n",
    "the code you just wrote above.  Collect the number of girls in your list.\n",
    "\n",
    "Finally, use the `count` method of the list, to count the number of families\n",
    "with 3 girls."
   ]
  },
  {
   "cell_type": "code",
   "execution_count": null,
   "metadata": {},
   "outputs": [],
   "source": [
    "#- Make a list to store the number of girls in each family\n",
    "number_of_girls = []\n",
    "#- Use a while loop to make 1000 families.\n",
    "#- For each family, calculate the number of girls\n",
    "#- Store in the list\n",
    "sample_counter = 0\n",
    "while sample_counter < 1000:\n",
    "    a_family = []\n",
    "    family_counter = 0\n",
    "    while family_counter < 4:\n",
    "        a_family.append(coin_toss())\n",
    "        family_counter = family_counter + 1\n",
    "    number_of_girls.append(sum(a_family))\n",
    "    sample_counter = sample_counter + 1\n",
    "#- Count the number of families with 3 girls\n",
    "number_of_girls.count(3)"
   ]
  },
  {
   "cell_type": "markdown",
   "metadata": {},
   "source": [
    "Finally, divide the number of families with 3 girls, by the number of families\n",
    "you made (1000) to give the estimated probability of a family of four having\n",
    "three girls:"
   ]
  },
  {
   "cell_type": "code",
   "execution_count": null,
   "metadata": {},
   "outputs": [],
   "source": [
    "#- divide the number of familes with 3 girls by the number of families\n",
    "number_of_girls.count(3) / 1000"
   ]
  }
 ],
 "metadata": {},
 "nbformat": 4,
 "nbformat_minor": 2
}