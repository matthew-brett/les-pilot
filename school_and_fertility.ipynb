{
 "cells": [
  {
   "cell_type": "markdown",
   "metadata": {},
   "source": [
    "$\\newcommand{L}[1]{\\| #1 \\|}\\newcommand{VL}[1]{\\L{ \\vec{#1} }}\\newcommand{R}[1]{\\operatorname{Re}\\,(#1)}\\newcommand{I}[1]{\\operatorname{Im}\\, (#1)}$\n",
    "\n",
    "## Schooling and fertility\n",
    "\n",
    "Here we are analyzing this dataset from the World Bank on gender and\n",
    "inequality:\n",
    "\n",
    "* [https://data.worldbank.org/data-catalog/gender-statistics](https://data.worldbank.org/data-catalog/gender-statistics)\n",
    "\n",
    "You can download the data yourself as a zip file [from that site](http://databank.worldbank.org/data/download/Gender_Stats_csv.zip), but to\n",
    "make your life a little easier, I’ve made a link to the extracted data file:\n",
    "\n",
    "* [Gender_StatsData.csv](https://matthew-brett.github.io/les-pilot/_downloads/Gender_StatsData.csv)\n",
    "\n",
    "Download this file to the same directory as your Jupyter Notebook."
   ]
  },
  {
   "cell_type": "code",
   "execution_count": null,
   "metadata": {},
   "outputs": [],
   "source": [
    "# Import Pandas with its usual short name\n",
    "import pandas as pd"
   ]
  },
  {
   "cell_type": "markdown",
   "metadata": {},
   "source": [
    "Load the Comma Separated Value text file into Pandas as a data frame:"
   ]
  },
  {
   "cell_type": "code",
   "execution_count": null,
   "metadata": {},
   "outputs": [],
   "source": [
    "df = pd.read_csv('Gender_StatsData.csv')"
   ]
  },
  {
   "cell_type": "markdown",
   "metadata": {},
   "source": [
    "This is a slightly clumsy-looking data frame, because it has years for\n",
    "columns, and variables for rows, where there are 630 variables for each\n",
    "country.  So there are 630 rows \\* the number of countries.  To investigate, we\n",
    "first look at the column names:"
   ]
  },
  {
   "cell_type": "code",
   "execution_count": null,
   "metadata": {},
   "outputs": [],
   "source": [
    "df.columns"
   ]
  },
  {
   "cell_type": "markdown",
   "metadata": {},
   "source": [
    "Next we look at the data frame itself:"
   ]
  },
  {
   "cell_type": "code",
   "execution_count": null,
   "metadata": {},
   "outputs": [],
   "source": [
    "df"
   ]
  },
  {
   "cell_type": "markdown",
   "metadata": {},
   "source": [
    "There are lots of countries here, so to start, let’s look at the variables for\n",
    "the UK.\n",
    "\n",
    "We get the UK country code from [http://www.worldatlas.com/aatlas/ctycodes.htm](http://www.worldatlas.com/aatlas/ctycodes.htm).\n",
    "The code is `GBR`."
   ]
  },
  {
   "cell_type": "code",
   "execution_count": null,
   "metadata": {},
   "outputs": [],
   "source": [
    "# We select only the UK rows\n",
    "gb = df[df['Country Code'] == 'GBR']\n",
    "gb"
   ]
  },
  {
   "cell_type": "markdown",
   "metadata": {},
   "source": [
    "Pandas truncates the output to only show a certain number of rows, and only a\n",
    "certain length for the text fields.  To investigate further, you can increase\n",
    "these limits to see all 630 rows for the UK, and more of the text for the text\n",
    "fields:"
   ]
  },
  {
   "cell_type": "code",
   "execution_count": null,
   "metadata": {},
   "outputs": [],
   "source": [
    "# See more of the text, more rows in the displayed output\n",
    "pd.options.display.max_colwidth = 80\n",
    "pd.options.display.max_rows = 700"
   ]
  },
  {
   "cell_type": "markdown",
   "metadata": {},
   "source": [
    "If you are working in the Notebook, you will now see all of the rows and the\n",
    "whole text field with the variable description."
   ]
  },
  {
   "cell_type": "code",
   "execution_count": null,
   "metadata": {},
   "outputs": [],
   "source": [
    "# This will be different from above when working in the Notebook\n",
    "gb"
   ]
  },
  {
   "cell_type": "markdown",
   "metadata": {},
   "source": [
    "After scanning through this output, we decide we want to look at these two\n",
    "variables:\n",
    "\n",
    "* `SP.ADO.TFRT` : Adolescent fertility rate (births per 1,000 women ages\n",
    "  15-19)\n",
    "\n",
    "* `SE.SCH.LIFE.FE` : Expected years of schooling, female\n",
    "\n",
    "Remember that, for each variable there is one row per country.  We have to\n",
    "select the rows corresponding to this variable, for all countries.  We do that\n",
    "for both variables we are interested in."
   ]
  },
  {
   "cell_type": "code",
   "execution_count": null,
   "metadata": {},
   "outputs": [],
   "source": [
    "# Put the variables we want into their own data frames\n",
    "fertility_rate = df[df['Indicator Code'] == 'SP.ADO.TFRT']\n",
    "age_female_sch = df[df['Indicator Code'] == 'SE.SCH.LIFE.FE']"
   ]
  },
  {
   "cell_type": "markdown",
   "metadata": {},
   "source": [
    "For convenience, we are going to put the values from these columns back into\n",
    "their own data frame.  To do that, we make a new data frame, and fill it with\n",
    "the values from our variables:"
   ]
  },
  {
   "cell_type": "code",
   "execution_count": null,
   "metadata": {},
   "outputs": [],
   "source": [
    "# Make a new data frame to store our school and fertility columns\n",
    "school_fertility = pd.DataFrame(columns=['school', 'fertility'])\n",
    "school_fertility"
   ]
  },
  {
   "cell_type": "markdown",
   "metadata": {},
   "source": [
    "We fill the empty data frame with the values we selected:"
   ]
  },
  {
   "cell_type": "code",
   "execution_count": null,
   "metadata": {},
   "outputs": [],
   "source": [
    "school_fertility['school'] = age_female_sch['2014'].values\n",
    "school_fertility['fertility'] = fertility_rate['2014'].values\n",
    "school_fertility"
   ]
  },
  {
   "cell_type": "markdown",
   "metadata": {},
   "source": [
    "We do not have the expected length of schooling for quite a few contries;\n",
    "these are the rows with `NaN` in the corresponding columns.  “NaN” stands\n",
    "for Not a Number. We often call these *missing values*. They can also be\n",
    "called “NA” for “Not Applicable”.  There are some missing values for the\n",
    "fertility statistic too.  For simplicity, we drop rows that have missing\n",
    "values in either of these two columns:"
   ]
  },
  {
   "cell_type": "code",
   "execution_count": null,
   "metadata": {},
   "outputs": [],
   "source": [
    "# Drop the rows with any missing (NaN) values\n",
    "school_fertility = school_fertility.dropna()\n",
    "school_fertility"
   ]
  },
  {
   "cell_type": "markdown",
   "metadata": {},
   "source": [
    "Now we have the data we think we want, we do a quick check for odd values by\n",
    "doing a histogram of each column:"
   ]
  },
  {
   "cell_type": "code",
   "execution_count": null,
   "metadata": {},
   "outputs": [],
   "source": [
    "%matplotlib inline"
   ]
  },
  {
   "cell_type": "code",
   "execution_count": null,
   "metadata": {},
   "outputs": [],
   "source": [
    "# Import the plotting library with a memorable name\n",
    "import matplotlib.pyplot as plt"
   ]
  },
  {
   "cell_type": "code",
   "execution_count": null,
   "metadata": {},
   "outputs": [],
   "source": [
    "# Histogram of the school length\n",
    "plt.hist(school_fertility['school']);"
   ]
  },
  {
   "cell_type": "code",
   "execution_count": null,
   "metadata": {},
   "outputs": [],
   "source": [
    "# Histogram of the fertility rate\n",
    "plt.hist(school_fertility['fertility']);"
   ]
  },
  {
   "cell_type": "markdown",
   "metadata": {},
   "source": [
    "Now to the part we are interested in.  We speculate that countries that don’t\n",
    "keep their women in school for long, may have higher adolescent fertility\n",
    "rates.  We plot length of schooling on the X axis and fertility rates on the Y\n",
    "axis:"
   ]
  },
  {
   "cell_type": "code",
   "execution_count": null,
   "metadata": {},
   "outputs": [],
   "source": [
    "# Scatterplot of school length against fertility rate\n",
    "plt.scatter(school_fertility['school'], school_fertility['fertility'])"
   ]
  },
  {
   "cell_type": "markdown",
   "metadata": {},
   "source": [
    "Last, we save the data frame we made to a file, so we can use these values\n",
    "again.  When saving, we drop off the first implicit column, with the case\n",
    "numbers:"
   ]
  },
  {
   "cell_type": "code",
   "execution_count": null,
   "metadata": {},
   "outputs": [],
   "source": [
    "school_fertility.to_csv('school_fertility.csv', index=False)"
   ]
  }
 ],
 "metadata": {},
 "nbformat": 4,
 "nbformat_minor": 2
}