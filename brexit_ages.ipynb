{
 "cells": [
  {
   "cell_type": "markdown",
   "metadata": {},
   "source": [
    "$\\newcommand{L}[1]{\\| #1 \\|}\\newcommand{VL}[1]{\\L{ \\vec{#1} }}\\newcommand{R}[1]{\\operatorname{Re}\\,(#1)}\\newcommand{I}[1]{\\operatorname{Im}\\, (#1)}$\n",
    "\n",
    "## Comparing two groups with permutation testing\n",
    "\n",
    "We return to the Brexit age data from [Analyzing Brexit](https://matthew-brett.github.io/les-pilot/brexit.html).\n",
    "\n",
    "Here’s the data from the processing we did in [Analyzing Brexit](https://matthew-brett.github.io/les-pilot/brexit.html):\n",
    "\n",
    "* [remain_leave.csv](https://matthew-brett.github.io/les-pilot/_downloads/remain_leave.csv).\n",
    "\n",
    "Download the data file from the link above if you haven’t already got it in\n",
    "your Notebook directory."
   ]
  },
  {
   "cell_type": "code",
   "execution_count": null,
   "metadata": {},
   "outputs": [],
   "source": [
    "import pandas as pd\n",
    "remain_leave = pd.read_csv('remain_leave.csv')\n",
    "remainers = remain_leave[remain_leave['brexit'] == 1]\n",
    "brexiteers = remain_leave[remain_leave['brexit'] == 2]\n",
    "# Confirm our proportions haven't changed\n",
    "len(brexiteers) / (len(brexiteers) + len(remainers))"
   ]
  },
  {
   "cell_type": "markdown",
   "metadata": {},
   "source": [
    "For convenience we get our ages scores into lists for each group:"
   ]
  },
  {
   "cell_type": "code",
   "execution_count": null,
   "metadata": {},
   "outputs": [],
   "source": [
    "# We make a list from the Pandas column with the \"list\" function\n",
    "brexit_ages = list(brexiteers['age'])\n",
    "remain_ages = list(remainers['age'])\n",
    "# Check our proportions again\n",
    "len(brexit_ages) / (len(brexit_ages) + len(remain_ages))"
   ]
  },
  {
   "cell_type": "markdown",
   "metadata": {},
   "source": [
    "Let’s put up the histograms of these two groups again:"
   ]
  },
  {
   "cell_type": "code",
   "execution_count": null,
   "metadata": {},
   "outputs": [],
   "source": [
    "%matplotlib inline"
   ]
  },
  {
   "cell_type": "code",
   "execution_count": null,
   "metadata": {},
   "outputs": [],
   "source": [
    "import matplotlib.pyplot as plt"
   ]
  },
  {
   "cell_type": "code",
   "execution_count": null,
   "metadata": {},
   "outputs": [],
   "source": [
    "plt.hist(brexit_ages)"
   ]
  },
  {
   "cell_type": "code",
   "execution_count": null,
   "metadata": {},
   "outputs": [],
   "source": [
    "plt.hist(remain_ages)"
   ]
  },
  {
   "cell_type": "markdown",
   "metadata": {},
   "source": [
    "The remainers look as though they may be a bit younger on average.\n",
    "\n",
    "Let’s look at the mean age for the two groups.\n",
    "\n",
    "The *mean* of the values in the list is defined as the sum divided by\n",
    "the number of items.  Here is the mean age of the Brexit Leave voters:"
   ]
  },
  {
   "cell_type": "code",
   "execution_count": null,
   "metadata": {},
   "outputs": [],
   "source": [
    "sum(brexit_ages) / len(brexit_ages)"
   ]
  },
  {
   "cell_type": "markdown",
   "metadata": {},
   "source": [
    "We can define a function to calculate the mean:"
   ]
  },
  {
   "cell_type": "code",
   "execution_count": null,
   "metadata": {},
   "outputs": [],
   "source": [
    "def mean(some_list):\n",
    "    # Calculates the mean of the values in `some_list`\n",
    "    return sum(some_list) / len(some_list)"
   ]
  },
  {
   "cell_type": "markdown",
   "metadata": {},
   "source": [
    "Now we can get the mean with:"
   ]
  },
  {
   "cell_type": "code",
   "execution_count": null,
   "metadata": {},
   "outputs": [],
   "source": [
    "mean(brexit_ages)"
   ]
  },
  {
   "cell_type": "markdown",
   "metadata": {},
   "source": [
    "The mean is lower for the Remain group:"
   ]
  },
  {
   "cell_type": "code",
   "execution_count": null,
   "metadata": {},
   "outputs": [],
   "source": [
    "mean(remain_ages)"
   ]
  },
  {
   "cell_type": "markdown",
   "metadata": {},
   "source": [
    "The difference between the means is:"
   ]
  },
  {
   "cell_type": "code",
   "execution_count": null,
   "metadata": {},
   "outputs": [],
   "source": [
    "observed_difference = mean(brexit_ages) - mean(remain_ages)\n",
    "observed_difference"
   ]
  },
  {
   "cell_type": "markdown",
   "metadata": {},
   "source": [
    "We see that the means of the two groups are different - but can we be\n",
    "confident that this difference did not come about by chance?\n",
    "\n",
    "What do we mean by chance?  Now we have to define our null hypothesis.\n",
    "\n",
    "We hypothesize that there is in fact no difference between the ages of the two\n",
    "groups.  We propose that the difference between the means we see could\n",
    "reasonably occur if we did the following procedure:\n",
    "\n",
    "* sample 541 + 774 = 1315 people from this same underlying\n",
    "  doesn’t-matter-what-you-voted population;\n",
    "\n",
    "* arbitrarily split this sample into a group of 541 and a group of 774, call\n",
    "  these `group_A` and `group_B`;\n",
    "\n",
    "* calculate the mean age for `group_A` and subtract the mean age of\n",
    "  `group_B`;\n",
    "\n",
    "Call this procedure - one trial.  To test our null hypothesis, we would like\n",
    "to repeat this trial many times, recording the difference in means for each\n",
    "trial. By doing this we could build up a distribution of the kind of\n",
    "differences we would expect by chance - the sampling distribution.\n",
    "\n",
    "But - we don’t have any more data - so we don’t have many new groups of 541 +\n",
    "774 = 1315 to sample.  But it turns out, we can use the data we have to build\n",
    "the distribution we need.\n",
    "\n",
    "Let’s start with the null hypothesis - that there is no difference in the ages\n",
    "of the Leave and Remain groups. If that hypothesis is true, then all the\n",
    "ages in `brexit_ages` and in `remain_ages` can be considered as\n",
    "being samples from the same underlying group.\n",
    "\n",
    "To express this, I’m going to pool all the weights into one big group, like\n",
    "this:"
   ]
  },
  {
   "cell_type": "code",
   "execution_count": null,
   "metadata": {},
   "outputs": [],
   "source": [
    "# The + below appends the second list to the first\n",
    "all_ages = brexit_ages + remain_ages\n",
    "len(all_ages)"
   ]
  },
  {
   "cell_type": "markdown",
   "metadata": {},
   "source": [
    "In this new pooled list, the first 541 ages are from the `brexit_ages` list,\n",
    "and the rest are from the `remain_ages` list.\n",
    "\n",
    "Now we have the new pooled list, we can do something similar to taking the new\n",
    "`group_A` and `group_B` groups we imagined above.  That is, we can\n",
    "*shuffle* the combined group to a random order, and split this shuffled\n",
    "combined group into a group of 541 and a group of 774.  We get the difference\n",
    "in means of these two groups, and store it.  We keep shuffling, to create more\n",
    "`group_A` and `group_B` groups, and more differences in means. The\n",
    "generated distribution of the mean differences is the distribution we expect\n",
    "on the null hypothesis, that there is no real difference between the two\n",
    "groups.  We can see where `observed_difference` lies in this generated\n",
    "distribution, and this gives us a measure of whether the\n",
    "`observed_difference` is likely on the null hypothesis.\n",
    "\n",
    "Python’s `random.shuffle` function can do the shuffle for us (see:\n",
    "[Shuffling list element order](https://matthew-brett.github.io/les-pilot/more_on_lists.html#list-shuffle)):"
   ]
  },
  {
   "cell_type": "code",
   "execution_count": null,
   "metadata": {},
   "outputs": [],
   "source": [
    "import random"
   ]
  },
  {
   "cell_type": "markdown",
   "metadata": {},
   "source": [
    "Here’s a random shuffle of the combined list of ages:"
   ]
  },
  {
   "cell_type": "code",
   "execution_count": null,
   "metadata": {},
   "outputs": [],
   "source": [
    "# The first 10 ages before shuffling (all brexit)\n",
    "all_ages[:10]\n",
    "random.shuffle(all_ages)\n",
    "# The first 10 ages of the shuffled list, mixed brexit and remain.\n",
    "all_ages[:10]"
   ]
  },
  {
   "cell_type": "markdown",
   "metadata": {},
   "source": [
    "Now for our permutation test.  We’ve assumed the null hypothesis.  We have\n",
    "randomly shuffled the combined group.  We’ll call the first 541 values\n",
    "`group_A` and the last 774 values `group_B`.\n",
    "\n",
    "After the shuffling, the `group_A` group is a random mix of the\n",
    "`brexit_ages` and `remain_ages` values, as is the `group_B` group.\n",
    "\n",
    "Here is a function that takes the combined list and returns the difference in\n",
    "means:"
   ]
  },
  {
   "cell_type": "code",
   "execution_count": null,
   "metadata": {},
   "outputs": [],
   "source": [
    "def difference_in_means(combined_list):\n",
    "    \"\"\" Split suffled combind group into two, return mean difference\n",
    "    \"\"\"\n",
    "    group_A = combined_list[:541]\n",
    "    group_B = combined_list[541:]\n",
    "    return mean(group_B) - mean(group_A)"
   ]
  },
  {
   "cell_type": "markdown",
   "metadata": {},
   "source": [
    "Let’s get the difference in means for these new groups, generated by the\n",
    "shuffle:"
   ]
  },
  {
   "cell_type": "code",
   "execution_count": null,
   "metadata": {},
   "outputs": [],
   "source": [
    "difference_in_means(all_ages)"
   ]
  },
  {
   "cell_type": "markdown",
   "metadata": {},
   "source": [
    "That difference from the shuffled groups looks a lot less than the difference\n",
    "we originally found:"
   ]
  },
  {
   "cell_type": "code",
   "execution_count": null,
   "metadata": {},
   "outputs": [],
   "source": [
    "observed_difference"
   ]
  },
  {
   "cell_type": "markdown",
   "metadata": {},
   "source": [
    "One difference is not enough.  We need more shuffled mean differences to see\n",
    "whether `observed_difference` is really unusual compared to the range of\n",
    "permuted group differences.  Here we run the shuffle procedure 10000 times, to\n",
    "get a large range of values:"
   ]
  },
  {
   "cell_type": "code",
   "execution_count": null,
   "metadata": {},
   "outputs": [],
   "source": [
    "n_repeats = 10000\n",
    "shuffled_differences = []  # An empty list to store the differences\n",
    "for i in range(n_repeats):\n",
    "    random.shuffle(all_ages)\n",
    "    new_difference = difference_in_means(all_ages)\n",
    "    # Collect the new mean by adding to the end of the list\n",
    "    shuffled_differences.append(new_difference)"
   ]
  },
  {
   "cell_type": "markdown",
   "metadata": {},
   "source": [
    "This gives us 10000 differences from groups that are compatible with our null\n",
    "hypothesis.   We can now ask whether `observed_difference` is unusually\n",
    "large compared to the distribution of these 10000 differences."
   ]
  },
  {
   "cell_type": "code",
   "execution_count": null,
   "metadata": {},
   "outputs": [],
   "source": [
    "%matplotlib inline"
   ]
  },
  {
   "cell_type": "code",
   "execution_count": null,
   "metadata": {},
   "outputs": [],
   "source": [
    "# The plotting package\n",
    "import matplotlib.pyplot as plt"
   ]
  },
  {
   "cell_type": "code",
   "execution_count": null,
   "metadata": {},
   "outputs": [],
   "source": [
    "plt.hist(shuffled_differences)"
   ]
  },
  {
   "cell_type": "markdown",
   "metadata": {},
   "source": [
    "Remember our `observed_difference`?"
   ]
  },
  {
   "cell_type": "code",
   "execution_count": null,
   "metadata": {},
   "outputs": [],
   "source": [
    "observed_difference"
   ]
  },
  {
   "cell_type": "markdown",
   "metadata": {},
   "source": [
    "`observed_difference` looks like it is at the extreme right of the\n",
    "distribution. But - how far to the right? What proportion of the 10000 null\n",
    "hypothesis differences are greater than or equal to the observed value?\n",
    "\n",
    "To test this, we first sort the null hypothesis differences from lowest to\n",
    "highest:"
   ]
  },
  {
   "cell_type": "code",
   "execution_count": null,
   "metadata": {},
   "outputs": [],
   "source": [
    "sorted_differences = sorted(shuffled_differences)"
   ]
  },
  {
   "cell_type": "markdown",
   "metadata": {},
   "source": [
    "Next we find how many of these null hypothesis differences are greater than or\n",
    "equal to the `observed_difference`:"
   ]
  },
  {
   "cell_type": "code",
   "execution_count": null,
   "metadata": {},
   "outputs": [],
   "source": [
    "# Go through all the differences one by one.\n",
    "# When we've found a difference greater than or equal to the observed\n",
    "# one, stop.\n",
    "index = 0\n",
    "while index < n_repeats:\n",
    "    # Check the sorted difference at the current index\n",
    "    if sorted_differences[index] >= observed_difference:\n",
    "        # Stop checking, we've found a null hypothesis difference\n",
    "        # greater than or equal to the observed difference.\n",
    "        break\n",
    "    # Otherwise, move on to the next null difference\n",
    "    index = index + 1"
   ]
  },
  {
   "cell_type": "markdown",
   "metadata": {},
   "source": [
    "So, the index of the first difference greater than or equal to the observed\n",
    "difference is:"
   ]
  },
  {
   "cell_type": "code",
   "execution_count": null,
   "metadata": {},
   "outputs": [],
   "source": [
    "index"
   ]
  },
  {
   "cell_type": "markdown",
   "metadata": {},
   "source": [
    "We calculate how many values in `sorted_differences` are greater than or\n",
    "equal to `observed_difference`:"
   ]
  },
  {
   "cell_type": "code",
   "execution_count": null,
   "metadata": {},
   "outputs": [],
   "source": [
    "n_greater_than_equal = n_repeats - index\n",
    "n_greater_than_equal"
   ]
  },
  {
   "cell_type": "markdown",
   "metadata": {},
   "source": [
    "Therefore, the *proportion* of the null-hypothesis differences that are\n",
    "greater than or equal to the observed difference is:"
   ]
  },
  {
   "cell_type": "code",
   "execution_count": null,
   "metadata": {},
   "outputs": [],
   "source": [
    "prop_greater_equal = n_greater_than_equal / n_repeats\n",
    "prop_greater_equal"
   ]
  },
  {
   "cell_type": "markdown",
   "metadata": {},
   "source": [
    "This proportion is very small.  Therefore, our observed difference is very\n",
    "unlikely on the null hypothesis that observations in the two groups are\n",
    "equivalent. We might be tempted to reject the null hypothesis, and conclude\n",
    "that the two groups are not equivalent, and therefore, that people who say\n",
    "they voted Leave really do tend to be older than people who say they voted\n",
    "Remain."
   ]
  }
 ],
 "metadata": {},
 "nbformat": 4,
 "nbformat_minor": 2
}