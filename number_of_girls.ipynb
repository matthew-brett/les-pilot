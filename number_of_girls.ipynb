{
 "cells": [
  {
   "cell_type": "markdown",
   "metadata": {},
   "source": [
    "$\\newcommand{L}[1]{\\| #1 \\|}\\newcommand{VL}[1]{\\L{ \\vec{#1} }}\\newcommand{R}[1]{\\operatorname{Re}\\,(#1)}\\newcommand{I}[1]{\\operatorname{Im}\\, (#1)}$\n",
    "\n",
    "<!-- vim: ft=rst -->\n",
    "## Three girls in a family of four"
   ]
  },
  {
   "cell_type": "code",
   "execution_count": null,
   "metadata": {},
   "outputs": [],
   "source": [
    "#: We need the random module\n",
    "import random"
   ]
  },
  {
   "cell_type": "markdown",
   "metadata": {},
   "source": [
    "We need a function to give us a boy (0) or a girl (1) following the real\n",
    "proportions of p=0.513 of a male child in the UK .  We will use\n",
    "the function we wrote in [Conditionals, functions and loops](https://matthew-brett.github.io/les-pilot/loops_and_functions.html):"
   ]
  },
  {
   "cell_type": "code",
   "execution_count": null,
   "metadata": {},
   "outputs": [],
   "source": [
    "def girl_or_boy():\n",
    "    # Return 1 for a girl, 0 for a boy\n",
    "    random_no = random.random()\n",
    "    if random_no < 0.513:\n",
    "        # A boy\n",
    "        our_result = 0\n",
    "    else:\n",
    "        # A girl\n",
    "        our_result = 1\n",
    "    return our_result"
   ]
  },
  {
   "cell_type": "markdown",
   "metadata": {},
   "source": [
    "Test the function a few times:\n",
    "\n",
    "Test the `girl_or_boy` function a few times.  It should come up with a few\n",
    "1s and a few 0s."
   ]
  },
  {
   "cell_type": "code",
   "execution_count": null,
   "metadata": {},
   "outputs": [],
   "source": [
    "#- Test the boy / girl function a few times\n",
    "girl_or_boy()\n",
    "girl_or_boy()\n",
    "girl_or_boy()\n",
    "girl_or_boy()\n",
    "girl_or_boy()\n",
    "girl_or_boy()"
   ]
  },
  {
   "cell_type": "markdown",
   "metadata": {},
   "source": [
    "Now make a list, called , and collect four boy or girl choices:"
   ]
  },
  {
   "cell_type": "code",
   "execution_count": null,
   "metadata": {},
   "outputs": [],
   "source": [
    "#- Make a list, and collect four boy or girl choices\n",
    "a_family = []\n",
    "a_family.append(girl_or_boy())\n",
    "a_family.append(girl_or_boy())\n",
    "a_family.append(girl_or_boy())\n",
    "a_family.append(girl_or_boy())\n",
    "a_family"
   ]
  },
  {
   "cell_type": "markdown",
   "metadata": {},
   "source": [
    "Remember 1 means a girl.  Sum up the results of the four coin tosses to say\n",
    "how many girls in this family."
   ]
  },
  {
   "cell_type": "code",
   "execution_count": null,
   "metadata": {},
   "outputs": [],
   "source": [
    "#- Sum the list to give the number of girls in this family\n",
    "sum(a_family)"
   ]
  },
  {
   "cell_type": "markdown",
   "metadata": {},
   "source": [
    "If you didn’t do this before, use a `for` loop to make another family from\n",
    "boy or girl choices.  See [Conditionals, functions and loops](https://matthew-brett.github.io/les-pilot/loops_and_functions.html) for inspiration:"
   ]
  },
  {
   "cell_type": "code",
   "execution_count": null,
   "metadata": {},
   "outputs": [],
   "source": [
    "#- Make a family from boy or girl choices, using a for loop.\n",
    "a_family = []\n",
    "for i in range(4):\n",
    "    a_family.append(girl_or_boy())\n",
    "sum(a_family)"
   ]
  },
  {
   "cell_type": "markdown",
   "metadata": {},
   "source": [
    "We know how to make one family.  Now we make 1000 families.\n",
    "\n",
    "First make an empty list to collect the number of girls in each family.\n",
    "\n",
    "Then use another `for` loop to make 1000 families.  For each family,\n",
    "calculate the number of girls, using the code you just wrote above.  Collect\n",
    "the number of girls in your list.\n",
    "\n",
    "We use the `count` method of the list, to count the number of families with\n",
    "3 girls."
   ]
  },
  {
   "cell_type": "code",
   "execution_count": null,
   "metadata": {},
   "outputs": [],
   "source": [
    "#- Make a list to store the number of girls in each family\n",
    "number_of_girls = []\n",
    "#- Use a for loop to make 1000 families.\n",
    "#- For each family, calculate the number of girls\n",
    "#- Store in the list\n",
    "for i in range(1000):\n",
    "    a_family = []\n",
    "    for j in range(4):\n",
    "        a_family.append(girl_or_boy())\n",
    "    number_of_girls.append(sum(a_family))\n",
    "#- Count the number of families with 3 girls\n",
    "number_of_girls.count(3)"
   ]
  },
  {
   "cell_type": "markdown",
   "metadata": {},
   "source": [
    "Finally, we divide the number of families with 3 girls, by the number of\n",
    "families you made (1000) to give the estimated probability of a family of four\n",
    "having three girls:"
   ]
  },
  {
   "cell_type": "code",
   "execution_count": null,
   "metadata": {},
   "outputs": [],
   "source": [
    "#- divide the number of familes with 3 girls by the number of families\n",
    "number_of_girls.count(3) / 1000"
   ]
  }
 ],
 "metadata": {},
 "nbformat": 4,
 "nbformat_minor": 2
}