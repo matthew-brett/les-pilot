{
 "cells": [
  {
   "cell_type": "code",
   "execution_count": 1,
   "metadata": {
    "collapsed": true
   },
   "outputs": [],
   "source": [
    "import pandas as pd"
   ]
  },
  {
   "cell_type": "code",
   "execution_count": 2,
   "metadata": {
    "collapsed": true
   },
   "outputs": [],
   "source": [
    "df = pd.read_csv('school_fertility.csv')"
   ]
  },
  {
   "cell_type": "code",
   "execution_count": 3,
   "metadata": {},
   "outputs": [
    {
     "data": {
      "text/html": [
       "<div>\n",
       "<style>\n",
       "    .dataframe thead tr:only-child th {\n",
       "        text-align: right;\n",
       "    }\n",
       "\n",
       "    .dataframe thead th {\n",
       "        text-align: left;\n",
       "    }\n",
       "\n",
       "    .dataframe tbody tr th {\n",
       "        vertical-align: top;\n",
       "    }\n",
       "</style>\n",
       "<table border=\"1\" class=\"dataframe\">\n",
       "  <thead>\n",
       "    <tr style=\"text-align: right;\">\n",
       "      <th></th>\n",
       "      <th>school</th>\n",
       "      <th>fertility</th>\n",
       "    </tr>\n",
       "  </thead>\n",
       "  <tbody>\n",
       "    <tr>\n",
       "      <th>0</th>\n",
       "      <td>10.993670</td>\n",
       "      <td>48.479108</td>\n",
       "    </tr>\n",
       "    <tr>\n",
       "      <th>1</th>\n",
       "      <td>16.449970</td>\n",
       "      <td>19.519840</td>\n",
       "    </tr>\n",
       "    <tr>\n",
       "      <th>2</th>\n",
       "      <td>11.816701</td>\n",
       "      <td>41.685074</td>\n",
       "    </tr>\n",
       "    <tr>\n",
       "      <th>3</th>\n",
       "      <td>13.469607</td>\n",
       "      <td>21.358688</td>\n",
       "    </tr>\n",
       "    <tr>\n",
       "      <th>4</th>\n",
       "      <td>13.257181</td>\n",
       "      <td>22.752998</td>\n",
       "    </tr>\n",
       "    <tr>\n",
       "      <th>5</th>\n",
       "      <td>13.280039</td>\n",
       "      <td>23.077289</td>\n",
       "    </tr>\n",
       "    <tr>\n",
       "      <th>6</th>\n",
       "      <td>17.231726</td>\n",
       "      <td>7.868662</td>\n",
       "    </tr>\n",
       "    <tr>\n",
       "      <th>7</th>\n",
       "      <td>16.036749</td>\n",
       "      <td>18.045264</td>\n",
       "    </tr>\n",
       "    <tr>\n",
       "      <th>8</th>\n",
       "      <td>14.683034</td>\n",
       "      <td>26.669994</td>\n",
       "    </tr>\n",
       "    <tr>\n",
       "      <th>9</th>\n",
       "      <td>14.864902</td>\n",
       "      <td>25.723278</td>\n",
       "    </tr>\n",
       "    <tr>\n",
       "      <th>10</th>\n",
       "      <td>17.351223</td>\n",
       "      <td>10.983664</td>\n",
       "    </tr>\n",
       "    <tr>\n",
       "      <th>11</th>\n",
       "      <td>8.543136</td>\n",
       "      <td>87.844226</td>\n",
       "    </tr>\n",
       "    <tr>\n",
       "      <th>12</th>\n",
       "      <td>8.620033</td>\n",
       "      <td>100.947704</td>\n",
       "    </tr>\n",
       "    <tr>\n",
       "      <th>13</th>\n",
       "      <td>16.989361</td>\n",
       "      <td>14.557770</td>\n",
       "    </tr>\n",
       "    <tr>\n",
       "      <th>14</th>\n",
       "      <td>13.156569</td>\n",
       "      <td>32.869742</td>\n",
       "    </tr>\n",
       "    <tr>\n",
       "      <th>15</th>\n",
       "      <td>11.585368</td>\n",
       "      <td>48.876478</td>\n",
       "    </tr>\n",
       "    <tr>\n",
       "      <th>16</th>\n",
       "      <td>8.891668</td>\n",
       "      <td>75.253595</td>\n",
       "    </tr>\n",
       "    <tr>\n",
       "      <th>17</th>\n",
       "      <td>8.988434</td>\n",
       "      <td>89.120079</td>\n",
       "    </tr>\n",
       "    <tr>\n",
       "      <th>18</th>\n",
       "      <td>8.956658</td>\n",
       "      <td>84.691597</td>\n",
       "    </tr>\n",
       "    <tr>\n",
       "      <th>19</th>\n",
       "      <td>14.145913</td>\n",
       "      <td>22.192876</td>\n",
       "    </tr>\n",
       "    <tr>\n",
       "      <th>20</th>\n",
       "      <td>14.633652</td>\n",
       "      <td>64.643221</td>\n",
       "    </tr>\n",
       "    <tr>\n",
       "      <th>21</th>\n",
       "      <td>14.568609</td>\n",
       "      <td>65.297618</td>\n",
       "    </tr>\n",
       "    <tr>\n",
       "      <th>22</th>\n",
       "      <td>14.624439</td>\n",
       "      <td>65.025323</td>\n",
       "    </tr>\n",
       "    <tr>\n",
       "      <th>23</th>\n",
       "      <td>8.763260</td>\n",
       "      <td>92.756081</td>\n",
       "    </tr>\n",
       "    <tr>\n",
       "      <th>24</th>\n",
       "      <td>8.562490</td>\n",
       "      <td>98.975745</td>\n",
       "    </tr>\n",
       "    <tr>\n",
       "      <th>25</th>\n",
       "      <td>11.168320</td>\n",
       "      <td>47.965893</td>\n",
       "    </tr>\n",
       "    <tr>\n",
       "      <th>26</th>\n",
       "      <td>12.587447</td>\n",
       "      <td>38.581155</td>\n",
       "    </tr>\n",
       "    <tr>\n",
       "      <th>27</th>\n",
       "      <td>12.271703</td>\n",
       "      <td>42.193259</td>\n",
       "    </tr>\n",
       "    <tr>\n",
       "      <th>28</th>\n",
       "      <td>12.248262</td>\n",
       "      <td>41.925008</td>\n",
       "    </tr>\n",
       "    <tr>\n",
       "      <th>29</th>\n",
       "      <td>12.284490</td>\n",
       "      <td>41.140721</td>\n",
       "    </tr>\n",
       "    <tr>\n",
       "      <th>...</th>\n",
       "      <td>...</td>\n",
       "      <td>...</td>\n",
       "    </tr>\n",
       "    <tr>\n",
       "      <th>101</th>\n",
       "      <td>13.466290</td>\n",
       "      <td>63.459200</td>\n",
       "    </tr>\n",
       "    <tr>\n",
       "      <th>102</th>\n",
       "      <td>12.057310</td>\n",
       "      <td>23.236000</td>\n",
       "    </tr>\n",
       "    <tr>\n",
       "      <th>103</th>\n",
       "      <td>9.068680</td>\n",
       "      <td>142.533400</td>\n",
       "    </tr>\n",
       "    <tr>\n",
       "      <th>104</th>\n",
       "      <td>19.959961</td>\n",
       "      <td>23.937800</td>\n",
       "    </tr>\n",
       "    <tr>\n",
       "      <th>105</th>\n",
       "      <td>18.306629</td>\n",
       "      <td>5.939800</td>\n",
       "    </tr>\n",
       "    <tr>\n",
       "      <th>106</th>\n",
       "      <td>7.384400</td>\n",
       "      <td>39.156000</td>\n",
       "    </tr>\n",
       "    <tr>\n",
       "      <th>107</th>\n",
       "      <td>16.949089</td>\n",
       "      <td>13.664000</td>\n",
       "    </tr>\n",
       "    <tr>\n",
       "      <th>108</th>\n",
       "      <td>16.515640</td>\n",
       "      <td>10.283400</td>\n",
       "    </tr>\n",
       "    <tr>\n",
       "      <th>109</th>\n",
       "      <td>15.425830</td>\n",
       "      <td>42.878800</td>\n",
       "    </tr>\n",
       "    <tr>\n",
       "      <th>110</th>\n",
       "      <td>13.615290</td>\n",
       "      <td>10.885800</td>\n",
       "    </tr>\n",
       "    <tr>\n",
       "      <th>111</th>\n",
       "      <td>15.264330</td>\n",
       "      <td>24.130200</td>\n",
       "    </tr>\n",
       "    <tr>\n",
       "      <th>112</th>\n",
       "      <td>11.100700</td>\n",
       "      <td>27.046200</td>\n",
       "    </tr>\n",
       "    <tr>\n",
       "      <th>113</th>\n",
       "      <td>11.956960</td>\n",
       "      <td>85.168000</td>\n",
       "    </tr>\n",
       "    <tr>\n",
       "      <th>114</th>\n",
       "      <td>15.278820</td>\n",
       "      <td>9.233000</td>\n",
       "    </tr>\n",
       "    <tr>\n",
       "      <th>115</th>\n",
       "      <td>14.817670</td>\n",
       "      <td>19.333400</td>\n",
       "    </tr>\n",
       "    <tr>\n",
       "      <th>116</th>\n",
       "      <td>14.899140</td>\n",
       "      <td>57.937800</td>\n",
       "    </tr>\n",
       "    <tr>\n",
       "      <th>117</th>\n",
       "      <td>15.515860</td>\n",
       "      <td>20.405200</td>\n",
       "    </tr>\n",
       "    <tr>\n",
       "      <th>118</th>\n",
       "      <td>18.071390</td>\n",
       "      <td>3.920800</td>\n",
       "    </tr>\n",
       "    <tr>\n",
       "      <th>119</th>\n",
       "      <td>14.086620</td>\n",
       "      <td>46.580800</td>\n",
       "    </tr>\n",
       "    <tr>\n",
       "      <th>120</th>\n",
       "      <td>18.031250</td>\n",
       "      <td>8.522000</td>\n",
       "    </tr>\n",
       "    <tr>\n",
       "      <th>121</th>\n",
       "      <td>19.565929</td>\n",
       "      <td>5.618000</td>\n",
       "    </tr>\n",
       "    <tr>\n",
       "      <th>122</th>\n",
       "      <td>16.000620</td>\n",
       "      <td>3.057800</td>\n",
       "    </tr>\n",
       "    <tr>\n",
       "      <th>123</th>\n",
       "      <td>16.612181</td>\n",
       "      <td>44.635800</td>\n",
       "    </tr>\n",
       "    <tr>\n",
       "      <th>124</th>\n",
       "      <td>16.354700</td>\n",
       "      <td>28.416000</td>\n",
       "    </tr>\n",
       "    <tr>\n",
       "      <th>125</th>\n",
       "      <td>10.552070</td>\n",
       "      <td>16.698800</td>\n",
       "    </tr>\n",
       "    <tr>\n",
       "      <th>126</th>\n",
       "      <td>15.529570</td>\n",
       "      <td>24.885000</td>\n",
       "    </tr>\n",
       "    <tr>\n",
       "      <th>127</th>\n",
       "      <td>18.414209</td>\n",
       "      <td>15.334200</td>\n",
       "    </tr>\n",
       "    <tr>\n",
       "      <th>128</th>\n",
       "      <td>17.345310</td>\n",
       "      <td>24.110200</td>\n",
       "    </tr>\n",
       "    <tr>\n",
       "      <th>129</th>\n",
       "      <td>11.920430</td>\n",
       "      <td>17.817800</td>\n",
       "    </tr>\n",
       "    <tr>\n",
       "      <th>130</th>\n",
       "      <td>13.658240</td>\n",
       "      <td>59.142200</td>\n",
       "    </tr>\n",
       "  </tbody>\n",
       "</table>\n",
       "<p>131 rows × 2 columns</p>\n",
       "</div>"
      ],
      "text/plain": [
       "        school   fertility\n",
       "0    10.993670   48.479108\n",
       "1    16.449970   19.519840\n",
       "2    11.816701   41.685074\n",
       "3    13.469607   21.358688\n",
       "4    13.257181   22.752998\n",
       "5    13.280039   23.077289\n",
       "6    17.231726    7.868662\n",
       "7    16.036749   18.045264\n",
       "8    14.683034   26.669994\n",
       "9    14.864902   25.723278\n",
       "10   17.351223   10.983664\n",
       "11    8.543136   87.844226\n",
       "12    8.620033  100.947704\n",
       "13   16.989361   14.557770\n",
       "14   13.156569   32.869742\n",
       "15   11.585368   48.876478\n",
       "16    8.891668   75.253595\n",
       "17    8.988434   89.120079\n",
       "18    8.956658   84.691597\n",
       "19   14.145913   22.192876\n",
       "20   14.633652   64.643221\n",
       "21   14.568609   65.297618\n",
       "22   14.624439   65.025323\n",
       "23    8.763260   92.756081\n",
       "24    8.562490   98.975745\n",
       "25   11.168320   47.965893\n",
       "26   12.587447   38.581155\n",
       "27   12.271703   42.193259\n",
       "28   12.248262   41.925008\n",
       "29   12.284490   41.140721\n",
       "..         ...         ...\n",
       "101  13.466290   63.459200\n",
       "102  12.057310   23.236000\n",
       "103   9.068680  142.533400\n",
       "104  19.959961   23.937800\n",
       "105  18.306629    5.939800\n",
       "106   7.384400   39.156000\n",
       "107  16.949089   13.664000\n",
       "108  16.515640   10.283400\n",
       "109  15.425830   42.878800\n",
       "110  13.615290   10.885800\n",
       "111  15.264330   24.130200\n",
       "112  11.100700   27.046200\n",
       "113  11.956960   85.168000\n",
       "114  15.278820    9.233000\n",
       "115  14.817670   19.333400\n",
       "116  14.899140   57.937800\n",
       "117  15.515860   20.405200\n",
       "118  18.071390    3.920800\n",
       "119  14.086620   46.580800\n",
       "120  18.031250    8.522000\n",
       "121  19.565929    5.618000\n",
       "122  16.000620    3.057800\n",
       "123  16.612181   44.635800\n",
       "124  16.354700   28.416000\n",
       "125  10.552070   16.698800\n",
       "126  15.529570   24.885000\n",
       "127  18.414209   15.334200\n",
       "128  17.345310   24.110200\n",
       "129  11.920430   17.817800\n",
       "130  13.658240   59.142200\n",
       "\n",
       "[131 rows x 2 columns]"
      ]
     },
     "execution_count": 3,
     "metadata": {},
     "output_type": "execute_result"
    }
   ],
   "source": [
    "df"
   ]
  },
  {
   "cell_type": "code",
   "execution_count": 4,
   "metadata": {},
   "outputs": [
    {
     "data": {
      "text/html": [
       "<div>\n",
       "<style>\n",
       "    .dataframe thead tr:only-child th {\n",
       "        text-align: right;\n",
       "    }\n",
       "\n",
       "    .dataframe thead th {\n",
       "        text-align: left;\n",
       "    }\n",
       "\n",
       "    .dataframe tbody tr th {\n",
       "        vertical-align: top;\n",
       "    }\n",
       "</style>\n",
       "<table border=\"1\" class=\"dataframe\">\n",
       "  <thead>\n",
       "    <tr style=\"text-align: right;\">\n",
       "      <th></th>\n",
       "      <th>school</th>\n",
       "      <th>fertility</th>\n",
       "    </tr>\n",
       "  </thead>\n",
       "  <tbody>\n",
       "    <tr>\n",
       "      <th>count</th>\n",
       "      <td>131.000000</td>\n",
       "      <td>131.000000</td>\n",
       "    </tr>\n",
       "    <tr>\n",
       "      <th>mean</th>\n",
       "      <td>13.989730</td>\n",
       "      <td>39.973020</td>\n",
       "    </tr>\n",
       "    <tr>\n",
       "      <th>std</th>\n",
       "      <td>3.254467</td>\n",
       "      <td>33.172291</td>\n",
       "    </tr>\n",
       "    <tr>\n",
       "      <th>min</th>\n",
       "      <td>4.811870</td>\n",
       "      <td>1.658400</td>\n",
       "    </tr>\n",
       "    <tr>\n",
       "      <th>25%</th>\n",
       "      <td>11.679324</td>\n",
       "      <td>13.822900</td>\n",
       "    </tr>\n",
       "    <tr>\n",
       "      <th>50%</th>\n",
       "      <td>14.633652</td>\n",
       "      <td>27.098800</td>\n",
       "    </tr>\n",
       "    <tr>\n",
       "      <th>75%</th>\n",
       "      <td>16.402335</td>\n",
       "      <td>61.216056</td>\n",
       "    </tr>\n",
       "    <tr>\n",
       "      <th>max</th>\n",
       "      <td>20.945499</td>\n",
       "      <td>142.533400</td>\n",
       "    </tr>\n",
       "  </tbody>\n",
       "</table>\n",
       "</div>"
      ],
      "text/plain": [
       "           school   fertility\n",
       "count  131.000000  131.000000\n",
       "mean    13.989730   39.973020\n",
       "std      3.254467   33.172291\n",
       "min      4.811870    1.658400\n",
       "25%     11.679324   13.822900\n",
       "50%     14.633652   27.098800\n",
       "75%     16.402335   61.216056\n",
       "max     20.945499  142.533400"
      ]
     },
     "execution_count": 4,
     "metadata": {},
     "output_type": "execute_result"
    }
   ],
   "source": [
    "df.describe()"
   ]
  },
  {
   "cell_type": "code",
   "execution_count": 5,
   "metadata": {},
   "outputs": [
    {
     "data": {
      "text/plain": [
       "array([ 10.99367046,  16.44997025,  11.81670094,  13.46960735,\n",
       "        13.25718117,  13.28003883,  17.23172569,  16.03674889,\n",
       "        14.68303394,  14.8649025 ,  17.35122299,   8.54313564,\n",
       "         8.62003326,  16.98936081,  13.15656853,  11.58536816,\n",
       "         8.89166832,   8.98843384,   8.95665836,  14.14591312,\n",
       "        14.63365173,  14.56860924,  14.62443924,   8.76325989,\n",
       "         8.56249046,  11.1683197 ,  12.58744717,  12.27170277,\n",
       "        12.24826241,  12.28448963,  17.2917614 ,  16.53768158,\n",
       "        11.74402809,  17.07126999,   8.44846916,  11.11404324,\n",
       "        11.11404324,   8.74116421,   8.74083233,   8.74116421,\n",
       "        14.20934963,  12.22087955,   8.29856968,  16.02327919,\n",
       "        18.4887104 ,  20.94549942,  16.19996071,  15.47455025,\n",
       "        16.13186073,  20.9202404 ,  15.74170971,  15.3654604 ,\n",
       "        15.28592968,  10.5522604 ,  13.91079998,  10.96683025,\n",
       "        16.56002045,  13.98099041,  14.67084026,  10.9563303 ,\n",
       "        15.55047035,   7.79711008,  15.95118999,  14.69701958,\n",
       "        17.57933044,  19.96471024,  13.65989971,  12.96712971,\n",
       "        13.03711033,   4.8118701 ,  17.19297981,  20.07926941,\n",
       "        16.61304092,  15.19995975,  16.89826012,  11.07584   ,\n",
       "        17.56778908,   7.54567003,  11.61462021,  15.95944977,\n",
       "        12.2214098 ,  12.85463047,  14.63663006,  19.32242012,\n",
       "        16.49707985,  16.82428932,  15.24685955,  15.32631969,\n",
       "        15.80012035,  13.39325047,  10.44736958,  16.60239029,\n",
       "        11.37839031,  11.2172699 ,  17.09972   ,  14.77949047,\n",
       "        12.86987019,  10.40769958,  13.58356953,  15.68293953,\n",
       "        15.50189018,  13.46629047,  12.0573101 ,   9.06867981,\n",
       "        19.95996094,  18.30662918,   7.38439989,  16.94908905,\n",
       "        16.51564026,  15.42582989,  13.61528969,  15.26432991,\n",
       "        11.10070038,  11.95695972,  15.27882004,  14.81766987,\n",
       "        14.89914036,  15.5158596 ,  18.07139015,  14.08662033,\n",
       "        18.03125   ,  19.56592941,  16.00061989,  16.61218071,\n",
       "        16.35470009,  10.55206966,  15.52956963,  18.41420937,\n",
       "        17.34531021,  11.92043018,  13.65824032])"
      ]
     },
     "execution_count": 5,
     "metadata": {},
     "output_type": "execute_result"
    }
   ],
   "source": [
    "school = df['school'].values\n",
    "school"
   ]
  },
  {
   "cell_type": "code",
   "execution_count": 6,
   "metadata": {},
   "outputs": [
    {
     "data": {
      "text/plain": [
       "array([  48.47910815,   19.51984003,   41.68507412,   21.35868811,\n",
       "         22.75299766,   23.07728858,    7.86866158,   18.04526354,\n",
       "         26.6699944 ,   25.72327825,   10.98366382,   87.84422608,\n",
       "        100.94770427,   14.55776976,   32.86974217,   48.87647807,\n",
       "         75.25359477,   89.12007875,   84.69159717,   22.19287567,\n",
       "         64.64322089,   65.29761792,   65.02532279,   92.75608078,\n",
       "         98.9757448 ,   47.96589348,   38.58115476,   42.19325906,\n",
       "         41.92500768,   41.14072078,   22.80669398,   22.87283262,\n",
       "         63.28991163,   14.58667941,  112.5295158 ,   34.99719038,\n",
       "         34.99719038,  103.30800925,  103.31077346,  103.30800925,\n",
       "         30.2268373 ,   44.88308495,   76.7336    ,   21.4896    ,\n",
       "         63.8512    ,   14.405     ,    7.379     ,   13.5426    ,\n",
       "         18.84      ,    8.3764    ,   67.3106    ,   21.1164    ,\n",
       "         38.5874    ,   28.6552    ,   73.6546    ,  106.853     ,\n",
       "         48.1088    ,    7.3478    ,   51.6738    ,   69.5516    ,\n",
       "         57.0388    ,  135.464     ,    9.925     ,    5.0858    ,\n",
       "         10.1304    ,    4.1192    ,   98.4344    ,   52.4352    ,\n",
       "         65.5554    ,   55.6712    ,   13.6678    ,    6.6682    ,\n",
       "          9.0482    ,   41.1308    ,    6.9604    ,   67.5004    ,\n",
       "          7.6694    ,  141.6722    ,   65.6586    ,   18.2126    ,\n",
       "         25.6746    ,   50.001     ,   27.0988    ,   10.7732    ,\n",
       "         10.0612    ,    6.0838    ,    4.1584    ,   28.586     ,\n",
       "          1.6584    ,   39.9964    ,   64.541     ,   13.978     ,\n",
       "         12.6554    ,   92.2794    ,   11.6044    ,    3.4972    ,\n",
       "         17.8554    ,  117.494     ,   13.3984    ,   16.8426    ,\n",
       "         28.5974    ,   63.4592    ,   23.236     ,  142.5334    ,\n",
       "         23.9378    ,    5.9398    ,   39.156     ,   13.664     ,\n",
       "         10.2834    ,   42.8788    ,   10.8858    ,   24.1302    ,\n",
       "         27.0462    ,   85.168     ,    9.233     ,   19.3334    ,\n",
       "         57.9378    ,   20.4052    ,    3.9208    ,   46.5808    ,\n",
       "          8.522     ,    5.618     ,    3.0578    ,   44.6358    ,\n",
       "         28.416     ,   16.6988    ,   24.885     ,   15.3342    ,\n",
       "         24.1102    ,   17.8178    ,   59.1422    ])"
      ]
     },
     "execution_count": 6,
     "metadata": {},
     "output_type": "execute_result"
    }
   ],
   "source": [
    "fertility = df['fertility'].values\n",
    "fertility"
   ]
  },
  {
   "cell_type": "code",
   "execution_count": 7,
   "metadata": {
    "collapsed": true
   },
   "outputs": [],
   "source": [
    "def mean(sequence):\n",
    "    return sum(sequence) / len(sequence)"
   ]
  },
  {
   "cell_type": "code",
   "execution_count": 8,
   "metadata": {},
   "outputs": [
    {
     "data": {
      "text/plain": [
       "13.98972971384762"
      ]
     },
     "execution_count": 8,
     "metadata": {},
     "output_type": "execute_result"
    }
   ],
   "source": [
    "mean(school)"
   ]
  },
  {
   "cell_type": "code",
   "execution_count": 9,
   "metadata": {
    "collapsed": true
   },
   "outputs": [],
   "source": [
    "%matplotlib inline"
   ]
  },
  {
   "cell_type": "code",
   "execution_count": 10,
   "metadata": {
    "collapsed": true
   },
   "outputs": [],
   "source": [
    "import matplotlib.pyplot as plt"
   ]
  },
  {
   "cell_type": "code",
   "execution_count": 11,
   "metadata": {},
   "outputs": [
    {
     "data": {
      "text/plain": [
       "(array([  1.,   3.,  13.,  13.,  16.,  17.,  32.,  24.,   6.,   6.]),\n",
       " array([  4.8118701 ,   6.42523303,   8.03859596,   9.65195889,\n",
       "         11.26532183,  12.87868476,  14.49204769,  16.10541062,\n",
       "         17.71877356,  19.33213649,  20.94549942]),\n",
       " <a list of 10 Patch objects>)"
      ]
     },
     "execution_count": 11,
     "metadata": {},
     "output_type": "execute_result"
    },
    {
     "data": {
      "image/png": "[encoded data removed]",
      "text/plain": [
       "<matplotlib.figure.Figure at 0x7fc6c5c91668>"
      ]
     },
     "metadata": {},
     "output_type": "display_data"
    }
   ],
   "source": [
    "plt.hist(school)"
   ]
  },
  {
   "cell_type": "code",
   "execution_count": 12,
   "metadata": {},
   "outputs": [
    {
     "data": {
      "text/plain": [
       "(array([ 38.,  32.,  14.,  13.,  13.,   5.,   6.,   6.,   1.,   3.]),\n",
       " array([   1.6584,   15.7459,   29.8334,   43.9209,   58.0084,   72.0959,\n",
       "          86.1834,  100.2709,  114.3584,  128.4459,  142.5334]),\n",
       " <a list of 10 Patch objects>)"
      ]
     },
     "execution_count": 12,
     "metadata": {},
     "output_type": "execute_result"
    },
    {
     "data": {
      "image/png": "[encoded data removed]",
      "text/plain": [
       "<matplotlib.figure.Figure at 0x7fc6c39ee2e8>"
      ]
     },
     "metadata": {},
     "output_type": "display_data"
    }
   ],
   "source": [
    "plt.hist(fertility)"
   ]
  },
  {
   "cell_type": "code",
   "execution_count": 13,
   "metadata": {
    "collapsed": true
   },
   "outputs": [],
   "source": [
    "def variance(sequence):\n",
    "    mu = mean(sequence)\n",
    "    n = len(sequence)\n",
    "    sum_of_squares = 0\n",
    "    for i in range(n):\n",
    "        value = sequence[i]\n",
    "        value = value - mu\n",
    "        sum_of_squares = sum_of_squares + value ** 2\n",
    "    return sum_of_squares / (n - 1)"
   ]
  },
  {
   "cell_type": "code",
   "execution_count": 14,
   "metadata": {},
   "outputs": [
    {
     "data": {
      "text/plain": [
       "10.591555242664437"
      ]
     },
     "execution_count": 14,
     "metadata": {},
     "output_type": "execute_result"
    }
   ],
   "source": [
    "variance(school)"
   ]
  },
  {
   "cell_type": "code",
   "execution_count": 15,
   "metadata": {
    "collapsed": true
   },
   "outputs": [],
   "source": [
    "import math\n",
    "\n",
    "def stdev(sequence):\n",
    "    return math.sqrt(variance(sequence))"
   ]
  },
  {
   "cell_type": "code",
   "execution_count": 16,
   "metadata": {},
   "outputs": [
    {
     "data": {
      "text/plain": [
       "3.2544669675177897"
      ]
     },
     "execution_count": 16,
     "metadata": {},
     "output_type": "execute_result"
    }
   ],
   "source": [
    "stdev(school)"
   ]
  },
  {
   "cell_type": "code",
   "execution_count": 17,
   "metadata": {},
   "outputs": [
    {
     "data": {
      "text/plain": [
       "<matplotlib.collections.PathCollection at 0x7fc6c382dc50>"
      ]
     },
     "execution_count": 17,
     "metadata": {},
     "output_type": "execute_result"
    },
    {
     "data": {
      "image/png": "[encoded data removed]",
      "text/plain": [
       "<matplotlib.figure.Figure at 0x7fc6c38b9668>"
      ]
     },
     "metadata": {},
     "output_type": "display_data"
    }
   ],
   "source": [
    "plt.scatter(school, fertility)"
   ]
  },
  {
   "cell_type": "code",
   "execution_count": 18,
   "metadata": {
    "collapsed": true
   },
   "outputs": [],
   "source": [
    "def mean_centre(sequence):\n",
    "    centred = []\n",
    "    mu = mean(sequence)\n",
    "    n = len(sequence)\n",
    "    for i in range(n):\n",
    "        value = sequence[i]\n",
    "        centred.append(value - mu)\n",
    "    return centred"
   ]
  },
  {
   "cell_type": "code",
   "execution_count": 19,
   "metadata": {},
   "outputs": [
    {
     "data": {
      "text/plain": [
       "<matplotlib.collections.PathCollection at 0x7fc6c37b26a0>"
      ]
     },
     "execution_count": 19,
     "metadata": {},
     "output_type": "execute_result"
    },
    {
     "data": {
      "image/png": "[encoded data removed]",
      "text/plain": [
       "<matplotlib.figure.Figure at 0x7fc6c3882ef0>"
      ]
     },
     "metadata": {},
     "output_type": "display_data"
    }
   ],
   "source": [
    "school_centred = mean_centre(school)\n",
    "fertility_centred = mean_centre(fertility)\n",
    "plt.scatter(school_centred, fertility_centred)"
   ]
  },
  {
   "cell_type": "code",
   "execution_count": 20,
   "metadata": {
    "collapsed": true
   },
   "outputs": [],
   "source": [
    "def z_score(sequence):\n",
    "    mu = mean(sequence)\n",
    "    std = stdev(sequence)\n",
    "    n = len(sequence)\n",
    "    z_scores = []\n",
    "    for i in range(n):\n",
    "        value = sequence[i]\n",
    "        z = (value - mu) / std\n",
    "        z_scores.append(z)\n",
    "    return z_scores     "
   ]
  },
  {
   "cell_type": "code",
   "execution_count": 21,
   "metadata": {},
   "outputs": [
    {
     "data": {
      "text/plain": [
       "<matplotlib.collections.PathCollection at 0x7fc6c37289b0>"
      ]
     },
     "execution_count": 21,
     "metadata": {},
     "output_type": "execute_result"
    },
    {
     "data": {
      "image/png": "[encoded data removed]",
      "text/plain": [
       "<matplotlib.figure.Figure at 0x7fc6c37f6dd8>"
      ]
     },
     "metadata": {},
     "output_type": "display_data"
    }
   ],
   "source": [
    "z_school = z_score(school)\n",
    "z_fertility = z_score(fertility)\n",
    "plt.scatter(z_school, z_fertility)"
   ]
  },
  {
   "cell_type": "code",
   "execution_count": 22,
   "metadata": {},
   "outputs": [
    {
     "data": {
      "text/plain": [
       "(-3.0778063692884583,\n",
       " 2.3950248472777931,\n",
       " -1.382533777072531,\n",
       " 3.3192634037458291)"
      ]
     },
     "execution_count": 22,
     "metadata": {},
     "output_type": "execute_result"
    },
    {
     "data": {
      "image/png": "[encoded data removed]",
      "text/plain": [
       "<matplotlib.figure.Figure at 0x7fc6c3737a90>"
      ]
     },
     "metadata": {},
     "output_type": "display_data"
    }
   ],
   "source": [
    "plt.scatter(z_school, z_fertility)\n",
    "plt.gca().axis([-3, 3, -3, 3])\n",
    "plt.gca().axis('equal')"
   ]
  },
  {
   "cell_type": "code",
   "execution_count": 23,
   "metadata": {
    "collapsed": true
   },
   "outputs": [],
   "source": [
    "def line_prediction(x_values, slope, y_intercept):\n",
    "    n = len(x_values)\n",
    "    predictions = []\n",
    "    for i in range(n):\n",
    "        prediction = y_intercept + slope * x_values[i]\n",
    "        predictions.append(prediction)\n",
    "    return predictions"
   ]
  },
  {
   "cell_type": "code",
   "execution_count": 24,
   "metadata": {},
   "outputs": [
    {
     "data": {
      "text/plain": [
       "<matplotlib.collections.PathCollection at 0x7fc6c37c2390>"
      ]
     },
     "execution_count": 24,
     "metadata": {},
     "output_type": "execute_result"
    },
    {
     "data": {
      "image/png": "[encoded data removed]",
      "text/plain": [
       "<matplotlib.figure.Figure at 0x7fc6c37c2278>"
      ]
     },
     "metadata": {},
     "output_type": "display_data"
    }
   ],
   "source": [
    "predictions = line_prediction(z_school, -1, 0)\n",
    "plt.scatter(z_school, z_fertility)\n",
    "plt.scatter(z_school, predictions)"
   ]
  },
  {
   "cell_type": "code",
   "execution_count": 25,
   "metadata": {
    "collapsed": true
   },
   "outputs": [],
   "source": [
    "def sum_squared_error(predicted, actual):\n",
    "    n = len(predicted)\n",
    "    sum_squared_error = 0\n",
    "    for i in range(n):\n",
    "        error = actual[i] - predicted[i]\n",
    "        sum_squared_error = sum_squared_error + error ** 2\n",
    "    return sum_squared_error"
   ]
  },
  {
   "cell_type": "code",
   "execution_count": 26,
   "metadata": {},
   "outputs": [
    {
     "data": {
      "text/plain": [
       "73.89522571583727"
      ]
     },
     "execution_count": 26,
     "metadata": {},
     "output_type": "execute_result"
    }
   ],
   "source": [
    "sum_squared_error(predictions, z_fertility)"
   ]
  },
  {
   "cell_type": "code",
   "execution_count": 27,
   "metadata": {},
   "outputs": [
    {
     "data": {
      "text/plain": [
       "69.447612857918628"
      ]
     },
     "execution_count": 27,
     "metadata": {},
     "output_type": "execute_result"
    }
   ],
   "source": [
    "predictions = line_prediction(z_school, -0.5, 0)\n",
    "sum_squared_error(predictions, z_fertility)"
   ]
  },
  {
   "cell_type": "code",
   "execution_count": 28,
   "metadata": {},
   "outputs": [
    {
     "data": {
      "text/plain": [
       "73.89522571583727"
      ]
     },
     "execution_count": 28,
     "metadata": {},
     "output_type": "execute_result"
    }
   ],
   "source": [
    "predictions = line_prediction(z_school, -1, 0)\n",
    "sum_squared_error(predictions, z_fertility)"
   ]
  },
  {
   "cell_type": "code",
   "execution_count": 29,
   "metadata": {},
   "outputs": [
    {
     "data": {
      "text/plain": [
       "array([-2.        , -1.95959596, -1.91919192, -1.87878788, -1.83838384,\n",
       "       -1.7979798 , -1.75757576, -1.71717172, -1.67676768, -1.63636364,\n",
       "       -1.5959596 , -1.55555556, -1.51515152, -1.47474747, -1.43434343,\n",
       "       -1.39393939, -1.35353535, -1.31313131, -1.27272727, -1.23232323,\n",
       "       -1.19191919, -1.15151515, -1.11111111, -1.07070707, -1.03030303,\n",
       "       -0.98989899, -0.94949495, -0.90909091, -0.86868687, -0.82828283,\n",
       "       -0.78787879, -0.74747475, -0.70707071, -0.66666667, -0.62626263,\n",
       "       -0.58585859, -0.54545455, -0.50505051, -0.46464646, -0.42424242,\n",
       "       -0.38383838, -0.34343434, -0.3030303 , -0.26262626, -0.22222222,\n",
       "       -0.18181818, -0.14141414, -0.1010101 , -0.06060606, -0.02020202,\n",
       "        0.02020202,  0.06060606,  0.1010101 ,  0.14141414,  0.18181818,\n",
       "        0.22222222,  0.26262626,  0.3030303 ,  0.34343434,  0.38383838,\n",
       "        0.42424242,  0.46464646,  0.50505051,  0.54545455,  0.58585859,\n",
       "        0.62626263,  0.66666667,  0.70707071,  0.74747475,  0.78787879,\n",
       "        0.82828283,  0.86868687,  0.90909091,  0.94949495,  0.98989899,\n",
       "        1.03030303,  1.07070707,  1.11111111,  1.15151515,  1.19191919,\n",
       "        1.23232323,  1.27272727,  1.31313131,  1.35353535,  1.39393939,\n",
       "        1.43434343,  1.47474747,  1.51515152,  1.55555556,  1.5959596 ,\n",
       "        1.63636364,  1.67676768,  1.71717172,  1.75757576,  1.7979798 ,\n",
       "        1.83838384,  1.87878788,  1.91919192,  1.95959596,  2.        ])"
      ]
     },
     "execution_count": 29,
     "metadata": {},
     "output_type": "execute_result"
    }
   ],
   "source": [
    "import numpy as np\n",
    "slopes = np.linspace(-2, 2, 100)\n",
    "slopes"
   ]
  },
  {
   "cell_type": "code",
   "execution_count": 30,
   "metadata": {
    "collapsed": true
   },
   "outputs": [],
   "source": [
    "y_intercepts = np.linspace(-2, 2, 100)"
   ]
  },
  {
   "cell_type": "code",
   "execution_count": 31,
   "metadata": {
    "collapsed": true
   },
   "outputs": [],
   "source": [
    "n_to_try = len(slopes)\n",
    "best_so_far = []\n",
    "min_sos = math.inf\n",
    "for i in range(n_to_try):\n",
    "    slope = slopes[i]\n",
    "    for j in range(n_to_try):\n",
    "        y_intercept = y_intercepts[j]\n",
    "        predicted = line_prediction(z_school, slope, y_intercept)\n",
    "        sos = sum_squared_error(predicted, z_fertility)\n",
    "        if sos < min_sos:\n",
    "            best_so_far = [slope, y_intercept]\n",
    "            min_sos = sos"
   ]
  },
  {
   "cell_type": "code",
   "execution_count": 32,
   "metadata": {},
   "outputs": [
    {
     "data": {
      "text/plain": [
       "63.457597613585534"
      ]
     },
     "execution_count": 32,
     "metadata": {},
     "output_type": "execute_result"
    }
   ],
   "source": [
    "min_sos"
   ]
  },
  {
   "cell_type": "code",
   "execution_count": 33,
   "metadata": {},
   "outputs": [
    {
     "data": {
      "text/plain": [
       "[-0.70707070707070696, -0.02020202020202011]"
      ]
     },
     "execution_count": 33,
     "metadata": {},
     "output_type": "execute_result"
    }
   ],
   "source": [
    "best_so_far"
   ]
  },
  {
   "cell_type": "code",
   "execution_count": 34,
   "metadata": {},
   "outputs": [
    {
     "data": {
      "text/plain": [
       "-0.71578759340062625"
      ]
     },
     "execution_count": 34,
     "metadata": {},
     "output_type": "execute_result"
    }
   ],
   "source": [
    "n = len(z_school)\n",
    "xy_sum = 0\n",
    "for i in range(n):\n",
    "    xy_sum = xy_sum + z_school[i] * z_fertility[i]\n",
    "xy_mean = xy_sum / (n - 1)\n",
    "xy_mean"
   ]
  },
  {
   "cell_type": "code",
   "execution_count": 35,
   "metadata": {},
   "outputs": [
    {
     "data": {
      "text/plain": [
       "63.394255747386239"
      ]
     },
     "execution_count": 35,
     "metadata": {},
     "output_type": "execute_result"
    }
   ],
   "source": [
    "predicted = line_prediction(z_school, xy_mean, 0)\n",
    "sum_squared_error(predicted, z_fertility)"
   ]
  },
  {
   "cell_type": "code",
   "execution_count": 36,
   "metadata": {},
   "outputs": [
    {
     "data": {
      "text/plain": [
       "<matplotlib.collections.PathCollection at 0x7fc6c36cb6a0>"
      ]
     },
     "execution_count": 36,
     "metadata": {},
     "output_type": "execute_result"
    },
    {
     "data": {
      "image/png": "[encoded data removed]",
      "text/plain": [
       "<matplotlib.figure.Figure at 0x7fc6c36cb8d0>"
      ]
     },
     "metadata": {},
     "output_type": "display_data"
    }
   ],
   "source": [
    "slope_for_raw = xy_mean * stdev(fertility) / stdev(school)\n",
    "inter_for_raw = mean(fertility) - slope_for_raw * mean(school)\n",
    "predicted = line_prediction(school, slope_for_raw, inter_for_raw)\n",
    "plt.scatter(school, fertility)\n",
    "plt.scatter(school, predicted)"
   ]
  },
  {
   "cell_type": "code",
   "execution_count": 37,
   "metadata": {},
   "outputs": [
    {
     "data": {
      "text/plain": [
       "(-7.2959150357026292, 142.04089979441648)"
      ]
     },
     "execution_count": 37,
     "metadata": {},
     "output_type": "execute_result"
    }
   ],
   "source": [
    "slope_for_raw, inter_for_raw"
   ]
  },
  {
   "cell_type": "code",
   "execution_count": 38,
   "metadata": {
    "collapsed": true
   },
   "outputs": [],
   "source": [
    "def least_squares_line(x_values, y_values):\n",
    "    n = len(x_values)\n",
    "    X = np.ones((n, 2))\n",
    "    X[:, 0] = x_values\n",
    "    return np.linalg.pinv(X).dot(y_values)"
   ]
  },
  {
   "cell_type": "code",
   "execution_count": 39,
   "metadata": {},
   "outputs": [
    {
     "data": {
      "text/plain": [
       "array([  -7.29591504,  142.04089979])"
      ]
     },
     "execution_count": 39,
     "metadata": {},
     "output_type": "execute_result"
    }
   ],
   "source": [
    "least_squares_line(school, fertility)"
   ]
  },
  {
   "cell_type": "code",
   "execution_count": 41,
   "metadata": {},
   "outputs": [
    {
     "data": {
      "text/plain": [
       "-0.71578759340062614"
      ]
     },
     "execution_count": 41,
     "metadata": {},
     "output_type": "execute_result"
    }
   ],
   "source": [
    "df.school.corr(df.fertility)"
   ]
  },
  {
   "cell_type": "code",
   "execution_count": 43,
   "metadata": {},
   "outputs": [
    {
     "data": {
      "text/plain": [
       "<matplotlib.axes._subplots.AxesSubplot at 0x7fc6c36a9048>"
      ]
     },
     "execution_count": 43,
     "metadata": {},
     "output_type": "execute_result"
    },
    {
     "data": {
      "image/png": "[encoded data removed]",
      "text/plain": [
       "<matplotlib.figure.Figure at 0x7fc6c36e6c50>"
      ]
     },
     "metadata": {},
     "output_type": "display_data"
    }
   ],
   "source": [
    "df.school.hist()"
   ]
  },
  {
   "cell_type": "code",
   "execution_count": 44,
   "metadata": {},
   "outputs": [
    {
     "data": {
      "text/plain": [
       "<matplotlib.axes._subplots.AxesSubplot at 0x7fc6c325d4e0>"
      ]
     },
     "execution_count": 44,
     "metadata": {},
     "output_type": "execute_result"
    },
    {
     "data": {
      "image/png": "[encoded data removed]",
      "text/plain": [
       "<matplotlib.figure.Figure at 0x7fc6c32582e8>"
      ]
     },
     "metadata": {},
     "output_type": "display_data"
    }
   ],
   "source": [
    "df.plot.scatter('school', 'fertility')"
   ]
  },
  {
   "cell_type": "code",
   "execution_count": 45,
   "metadata": {
    "collapsed": true
   },
   "outputs": [],
   "source": [
    "df.plot.scatter?"
   ]
  },
  {
   "cell_type": "code",
   "execution_count": 46,
   "metadata": {
    "collapsed": true
   },
   "outputs": [],
   "source": [
    "df.plot?"
   ]
  },
  {
   "cell_type": "code",
   "execution_count": 48,
   "metadata": {},
   "outputs": [],
   "source": [
    "df.corr?"
   ]
  },
  {
   "cell_type": "code",
   "execution_count": 49,
   "metadata": {},
   "outputs": [
    {
     "data": {
      "text/html": [
       "<div>\n",
       "<style>\n",
       "    .dataframe thead tr:only-child th {\n",
       "        text-align: right;\n",
       "    }\n",
       "\n",
       "    .dataframe thead th {\n",
       "        text-align: left;\n",
       "    }\n",
       "\n",
       "    .dataframe tbody tr th {\n",
       "        vertical-align: top;\n",
       "    }\n",
       "</style>\n",
       "<table border=\"1\" class=\"dataframe\">\n",
       "  <thead>\n",
       "    <tr style=\"text-align: right;\">\n",
       "      <th></th>\n",
       "      <th>school</th>\n",
       "      <th>fertility</th>\n",
       "    </tr>\n",
       "  </thead>\n",
       "  <tbody>\n",
       "    <tr>\n",
       "      <th>school</th>\n",
       "      <td>1.000000</td>\n",
       "      <td>-0.715788</td>\n",
       "    </tr>\n",
       "    <tr>\n",
       "      <th>fertility</th>\n",
       "      <td>-0.715788</td>\n",
       "      <td>1.000000</td>\n",
       "    </tr>\n",
       "  </tbody>\n",
       "</table>\n",
       "</div>"
      ],
      "text/plain": [
       "             school  fertility\n",
       "school     1.000000  -0.715788\n",
       "fertility -0.715788   1.000000"
      ]
     },
     "execution_count": 49,
     "metadata": {},
     "output_type": "execute_result"
    }
   ],
   "source": [
    "df.corr()"
   ]
  },
  {
   "cell_type": "code",
   "execution_count": 50,
   "metadata": {},
   "outputs": [
    {
     "name": "stdout",
     "output_type": "stream",
     "text": [
      "Collecting statsmodels\n",
      "  Downloading statsmodels-0.8.0-cp35-cp35m-manylinux1_x86_64.whl (6.2MB)\n",
      "\u001b[K    100% |████████████████████████████████| 6.2MB 154kB/s ta 0:00:01    81% |██████████████████████████      | 5.0MB 2.7MB/s eta 0:00:01\n",
      "\u001b[?25hRequirement already satisfied: pandas in /home/mb312/.local/lib/python3.5/site-packages (from statsmodels)\n",
      "Requirement already satisfied: scipy in /home/mb312/.local/lib/python3.5/site-packages (from statsmodels)\n",
      "Collecting patsy (from statsmodels)\n",
      "  Downloading patsy-0.4.1-py2.py3-none-any.whl (233kB)\n",
      "\u001b[K    100% |████████████████████████████████| 235kB 1.9MB/s ta 0:00:01\n",
      "\u001b[?25hRequirement already satisfied: pytz>=2011k in /home/mb312/.local/lib/python3.5/site-packages (from pandas->statsmodels)\n",
      "Requirement already satisfied: numpy>=1.7.0 in /home/mb312/.local/lib/python3.5/site-packages (from pandas->statsmodels)\n",
      "Requirement already satisfied: python-dateutil>=2 in /home/mb312/.local/lib/python3.5/site-packages (from pandas->statsmodels)\n",
      "Requirement already satisfied: six in /usr/lib/python3/dist-packages (from patsy->statsmodels)\n",
      "Installing collected packages: patsy, statsmodels\n",
      "Successfully installed patsy-0.4.1 statsmodels-0.8.0\n"
     ]
    }
   ],
   "source": [
    "!pip install --user statsmodels"
   ]
  },
  {
   "cell_type": "code",
   "execution_count": 51,
   "metadata": {
    "collapsed": true
   },
   "outputs": [],
   "source": [
    "import statsmodels.formula.api as smf\n",
    "mod = smf.ols(formula='fertility ~ school', data=df)"
   ]
  },
  {
   "cell_type": "code",
   "execution_count": 54,
   "metadata": {},
   "outputs": [
    {
     "data": {
      "text/html": [
       "<table class=\"simpletable\">\n",
       "<caption>OLS Regression Results</caption>\n",
       "<tr>\n",
       "  <th>Dep. Variable:</th>        <td>fertility</td>    <th>  R-squared:         </th> <td>   0.512</td>\n",
       "</tr>\n",
       "<tr>\n",
       "  <th>Model:</th>                   <td>OLS</td>       <th>  Adj. R-squared:    </th> <td>   0.509</td>\n",
       "</tr>\n",
       "<tr>\n",
       "  <th>Method:</th>             <td>Least Squares</td>  <th>  F-statistic:       </th> <td>   135.5</td>\n",
       "</tr>\n",
       "<tr>\n",
       "  <th>Date:</th>             <td>Wed, 04 Oct 2017</td> <th>  Prob (F-statistic):</th> <td>7.43e-22</td>\n",
       "</tr>\n",
       "<tr>\n",
       "  <th>Time:</th>                 <td>15:47:53</td>     <th>  Log-Likelihood:    </th> <td> -597.06</td>\n",
       "</tr>\n",
       "<tr>\n",
       "  <th>No. Observations:</th>      <td>   131</td>      <th>  AIC:               </th> <td>   1198.</td>\n",
       "</tr>\n",
       "<tr>\n",
       "  <th>Df Residuals:</th>          <td>   129</td>      <th>  BIC:               </th> <td>   1204.</td>\n",
       "</tr>\n",
       "<tr>\n",
       "  <th>Df Model:</th>              <td>     1</td>      <th>                     </th>     <td> </td>   \n",
       "</tr>\n",
       "<tr>\n",
       "  <th>Covariance Type:</th>      <td>nonrobust</td>    <th>                     </th>     <td> </td>   \n",
       "</tr>\n",
       "</table>\n",
       "<table class=\"simpletable\">\n",
       "<tr>\n",
       "      <td></td>         <th>coef</th>     <th>std err</th>      <th>t</th>      <th>P>|t|</th>  <th>[0.025</th>    <th>0.975]</th>  \n",
       "</tr>\n",
       "<tr>\n",
       "  <th>Intercept</th> <td>  142.0409</td> <td>    9.000</td> <td>   15.783</td> <td> 0.000</td> <td>  124.235</td> <td>  159.847</td>\n",
       "</tr>\n",
       "<tr>\n",
       "  <th>school</th>    <td>   -7.2959</td> <td>    0.627</td> <td>  -11.642</td> <td> 0.000</td> <td>   -8.536</td> <td>   -6.056</td>\n",
       "</tr>\n",
       "</table>\n",
       "<table class=\"simpletable\">\n",
       "<tr>\n",
       "  <th>Omnibus:</th>       <td> 4.311</td> <th>  Durbin-Watson:     </th> <td>   1.989</td>\n",
       "</tr>\n",
       "<tr>\n",
       "  <th>Prob(Omnibus):</th> <td> 0.116</td> <th>  Jarque-Bera (JB):  </th> <td>   3.851</td>\n",
       "</tr>\n",
       "<tr>\n",
       "  <th>Skew:</th>          <td> 0.408</td> <th>  Prob(JB):          </th> <td>   0.146</td>\n",
       "</tr>\n",
       "<tr>\n",
       "  <th>Kurtosis:</th>      <td> 3.199</td> <th>  Cond. No.          </th> <td>    63.9</td>\n",
       "</tr>\n",
       "</table>"
      ],
      "text/plain": [
       "<class 'statsmodels.iolib.summary.Summary'>\n",
       "\"\"\"\n",
       "                            OLS Regression Results                            \n",
       "==============================================================================\n",
       "Dep. Variable:              fertility   R-squared:                       0.512\n",
       "Model:                            OLS   Adj. R-squared:                  0.509\n",
       "Method:                 Least Squares   F-statistic:                     135.5\n",
       "Date:                Wed, 04 Oct 2017   Prob (F-statistic):           7.43e-22\n",
       "Time:                        15:47:53   Log-Likelihood:                -597.06\n",
       "No. Observations:                 131   AIC:                             1198.\n",
       "Df Residuals:                     129   BIC:                             1204.\n",
       "Df Model:                           1                                         \n",
       "Covariance Type:            nonrobust                                         \n",
       "==============================================================================\n",
       "                 coef    std err          t      P>|t|      [0.025      0.975]\n",
       "------------------------------------------------------------------------------\n",
       "Intercept    142.0409      9.000     15.783      0.000     124.235     159.847\n",
       "school        -7.2959      0.627    -11.642      0.000      -8.536      -6.056\n",
       "==============================================================================\n",
       "Omnibus:                        4.311   Durbin-Watson:                   1.989\n",
       "Prob(Omnibus):                  0.116   Jarque-Bera (JB):                3.851\n",
       "Skew:                           0.408   Prob(JB):                        0.146\n",
       "Kurtosis:                       3.199   Cond. No.                         63.9\n",
       "==============================================================================\n",
       "\n",
       "Warnings:\n",
       "[1] Standard Errors assume that the covariance matrix of the errors is correctly specified.\n",
       "\"\"\""
      ]
     },
     "execution_count": 54,
     "metadata": {},
     "output_type": "execute_result"
    }
   ],
   "source": [
    "fit = mod.fit()\n",
    "fit.summary()"
   ]
  },
  {
   "cell_type": "code",
   "execution_count": 53,
   "metadata": {},
   "outputs": [
    {
     "data": {
      "text/plain": [
       "<statsmodels.regression.linear_model.RegressionResultsWrapper at 0x7fc6c2a19c88>"
      ]
     },
     "execution_count": 53,
     "metadata": {},
     "output_type": "execute_result"
    }
   ],
   "source": [
    "fit"
   ]
  },
  {
   "cell_type": "code",
   "execution_count": 56,
   "metadata": {},
   "outputs": [],
   "source": [
    "fitted = fit.fittedvalues"
   ]
  },
  {
   "cell_type": "code",
   "execution_count": 61,
   "metadata": {},
   "outputs": [
    {
     "data": {
      "text/plain": [
       "[<matplotlib.lines.Line2D at 0x7fc6ba4edba8>]"
      ]
     },
     "execution_count": 61,
     "metadata": {},
     "output_type": "execute_result"
    },
    {
     "data": {
      "image/png": "[encoded data removed]",
      "text/plain": [
       "<matplotlib.figure.Figure at 0x7fc6ba521550>"
      ]
     },
     "metadata": {},
     "output_type": "display_data"
    }
   ],
   "source": [
    "plt.plot(school, fertility, 'x')\n",
    "plt.plot(school, fit.fittedvalues, '-')"
   ]
  },
  {
   "cell_type": "code",
   "execution_count": null,
   "metadata": {
    "collapsed": true
   },
   "outputs": [],
   "source": []
  }
 ],
 "metadata": {
  "kernelspec": {
   "display_name": "Python 3",
   "language": "python",
   "name": "python3"
  },
  "language_info": {
   "codemirror_mode": {
    "name": "ipython",
    "version": 3
   },
   "file_extension": ".py",
   "mimetype": "text/x-python",
   "name": "python",
   "nbconvert_exporter": "python",
   "pygments_lexer": "ipython3",
   "version": "3.5.4"
  }
 },
 "nbformat": 4,
 "nbformat_minor": 2
}
