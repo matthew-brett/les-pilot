{
 "cells": [
  {
   "cell_type": "markdown",
   "metadata": {},
   "source": [
    "$\\newcommand{L}[1]{\\| #1 \\|}\\newcommand{VL}[1]{\\L{ \\vec{#1} }}\\newcommand{R}[1]{\\operatorname{Re}\\,(#1)}\\newcommand{I}[1]{\\operatorname{Im}\\, (#1)}$\n",
    "\n",
    "## A two-group permutation test\n",
    "\n",
    "Test the null hypothesis that two samples of values could have come from the\n",
    "same underlying distribution.\n",
    "\n",
    "See: [Comparing two groups with permutation testing](https://matthew-brett.github.io/les-pilot/brexit_ages.html)."
   ]
  },
  {
   "cell_type": "code",
   "execution_count": null,
   "metadata": {},
   "outputs": [],
   "source": [
    "import random"
   ]
  },
  {
   "cell_type": "code",
   "execution_count": null,
   "metadata": {},
   "outputs": [],
   "source": [
    "def mean(some_list):\n",
    "    return sum(some_list) / len(some_list)"
   ]
  },
  {
   "cell_type": "code",
   "execution_count": null,
   "metadata": {},
   "outputs": [],
   "source": [
    "def two_group_permute(group_1, group_2):\n",
    "    n_samples = 10000\n",
    "    n_group_1 = len(group_1)\n",
    "    combined = list(group_1) + list(group_2)\n",
    "    observed = mean(group_1) - mean(group_2)\n",
    "    samples = []\n",
    "    for i in range(n_samples):\n",
    "        random.shuffle(combined)\n",
    "        fake_mean_1 = mean(combined[:n_group_1])\n",
    "        fake_mean_2 = mean(combined[n_group_1:])\n",
    "        samples.append(fake_mean_1 - fake_mean_2)\n",
    "    return observed, samples"
   ]
  },
  {
   "cell_type": "markdown",
   "metadata": {},
   "source": [
    "In action on the Brexit age data:"
   ]
  },
  {
   "cell_type": "code",
   "execution_count": null,
   "metadata": {},
   "outputs": [],
   "source": [
    "import pandas as pd\n",
    "remain_leave = pd.read_csv('remain_leave.csv')\n",
    "remainers = remain_leave[remain_leave['brexit'] == 1]\n",
    "brexiteers = remain_leave[remain_leave['brexit'] == 2]"
   ]
  },
  {
   "cell_type": "code",
   "execution_count": null,
   "metadata": {},
   "outputs": [],
   "source": [
    "# We make a list from the Pandas column with the \"list\" function\n",
    "brexit_ages = list(brexiteers['age'])\n",
    "remain_ages = list(remainers['age'])"
   ]
  },
  {
   "cell_type": "code",
   "execution_count": null,
   "metadata": {},
   "outputs": [],
   "source": [
    "actual, samples = two_group_permute(brexit_ages, remain_ages)\n",
    "actual"
   ]
  },
  {
   "cell_type": "code",
   "execution_count": null,
   "metadata": {},
   "outputs": [],
   "source": [
    "%matplotlib inline"
   ]
  },
  {
   "cell_type": "code",
   "execution_count": null,
   "metadata": {},
   "outputs": [],
   "source": [
    "import matplotlib.pyplot as plt\n",
    "plt.hist(samples)"
   ]
  }
 ],
 "metadata": {},
 "nbformat": 4,
 "nbformat_minor": 2
}