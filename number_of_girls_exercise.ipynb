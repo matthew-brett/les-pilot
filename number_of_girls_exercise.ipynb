{
 "cells": [
  {
   "cell_type": "markdown",
   "metadata": {},
   "source": [
    "$\\newcommand{L}[1]{\\| #1 \\|}\\newcommand{VL}[1]{\\L{ \\vec{#1} }}\\newcommand{R}[1]{\\operatorname{Re}\\,(#1)}\\newcommand{I}[1]{\\operatorname{Im}\\, (#1)}$\n",
    "\n",
    "<!-- vim: ft=rst -->\n",
    "## Three girls in a family of four\n",
    "\n",
    "* For code template see: [number_of_girls_code.py](https://matthew-brett.github.io/les-pilot/_downloads/number_of_girls_code.py);\n",
    "\n",
    "* For solution see: [Three girls in a family of four](https://matthew-brett.github.io/les-pilot/number_of_girls_solution.html)."
   ]
  },
  {
   "cell_type": "code",
   "execution_count": null,
   "metadata": {},
   "outputs": [],
   "source": [
    "#: We need the random module\n",
    "import random"
   ]
  },
  {
   "cell_type": "markdown",
   "metadata": {},
   "source": [
    "We need a function to do a coin toss.  Assume that probability of heads\n",
    "is 0.5.  The function returns 1 for head and 0 for a tail:"
   ]
  },
  {
   "cell_type": "code",
   "execution_count": null,
   "metadata": {},
   "outputs": [],
   "source": [
    "#: A function for a single coin toss\n",
    "def coin_toss():\n",
    "    random_no = random.random()\n",
    "    if random_no <= 0.5:\n",
    "        return 1\n",
    "    return 0"
   ]
  },
  {
   "cell_type": "markdown",
   "metadata": {},
   "source": [
    "Test the function a few times:\n",
    "\n",
    "Test the `coin_toss` function a few times.  It should come up with a few 1s\n",
    "and a few 0s."
   ]
  },
  {
   "cell_type": "code",
   "execution_count": null,
   "metadata": {},
   "outputs": [],
   "source": [
    "#- Test the coin toss a few times"
   ]
  },
  {
   "cell_type": "markdown",
   "metadata": {},
   "source": [
    "Now make a list, called , and collect four coin tosses:"
   ]
  },
  {
   "cell_type": "code",
   "execution_count": null,
   "metadata": {},
   "outputs": [],
   "source": [
    "#- Make a list, and collect four coin tosses"
   ]
  },
  {
   "cell_type": "markdown",
   "metadata": {},
   "source": [
    "Let’s take 1 from the coin toss to mean a girl.  Sum up the results of the\n",
    "four coin tosses to say how many girls in this family."
   ]
  },
  {
   "cell_type": "code",
   "execution_count": null,
   "metadata": {},
   "outputs": [],
   "source": [
    "#- Sum the list to give the number of girls in this family"
   ]
  },
  {
   "cell_type": "markdown",
   "metadata": {},
   "source": [
    "If you didn’t do this before, use a `for i in range(...)` loop to make\n",
    "another family from coin tosses.  See [Programming in Python](https://matthew-brett.github.io/les-pilot/programs_in_python.html) for\n",
    "inspiration:"
   ]
  },
  {
   "cell_type": "code",
   "execution_count": null,
   "metadata": {},
   "outputs": [],
   "source": [
    "#- Make a family from coin tosses, using a for loop."
   ]
  },
  {
   "cell_type": "markdown",
   "metadata": {},
   "source": [
    "Now you know how to make one family.  Now you’re going to make 1000 families.\n",
    "\n",
    "First make an empty list to collect the number of girls in each family.\n",
    "\n",
    "Then use another `for s in range(...)` loop to make 1000 families.  For each\n",
    "family, calculate the number of girls, using the code you just wrote above.\n",
    "Collect the number of girls in your list.\n",
    "\n",
    "Finally, use the `count` method of the list, to count the number of families\n",
    "with 3 girls."
   ]
  },
  {
   "cell_type": "code",
   "execution_count": null,
   "metadata": {},
   "outputs": [],
   "source": [
    "#- Make a list to store the number of girls in each family\n",
    "#- Use a for loop to make 1000 families.\n",
    "#- For each family, calculate the number of girls\n",
    "#- Store in the list\n",
    "#- Count the number of families with 3 girls"
   ]
  },
  {
   "cell_type": "markdown",
   "metadata": {},
   "source": [
    "Finally, divide the number of families with 3 girls, by the number of families\n",
    "you made (1000) to give the estimated probability of a family of four having\n",
    "three girls:"
   ]
  },
  {
   "cell_type": "code",
   "execution_count": null,
   "metadata": {},
   "outputs": [],
   "source": [
    "#- divide the number of familes with 3 girls by the number of families"
   ]
  }
 ],
 "metadata": {},
 "nbformat": 4,
 "nbformat_minor": 2
}