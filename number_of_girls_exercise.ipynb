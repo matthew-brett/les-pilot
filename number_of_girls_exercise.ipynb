{
 "cells": [
  {
   "cell_type": "markdown",
   "metadata": {},
   "source": [
    "$\\newcommand{L}[1]{\\| #1 \\|}\\newcommand{VL}[1]{\\L{ \\vec{#1} }}\\newcommand{R}[1]{\\operatorname{Re}\\,(#1)}\\newcommand{I}[1]{\\operatorname{Im}\\, (#1)}$\n",
    "\n",
    "<!-- vim: ft=rst -->\n",
    "## Three girls in a family of four\n",
    "\n",
    "* For code template see: [number_of_girls_code.py](https://matthew-brett.github.io/les-pilot/_downloads/number_of_girls_code.py);\n",
    "\n",
    "* For solution see: [Three girls in a family of four](https://matthew-brett.github.io/les-pilot/number_of_girls_solution.html)."
   ]
  },
  {
   "cell_type": "code",
   "execution_count": null,
   "metadata": {},
   "outputs": [],
   "source": [
    "#: We need the random module\n",
    "import random"
   ]
  },
  {
   "cell_type": "markdown",
   "metadata": {},
   "source": [
    "We need a function to give us a boy (0) or a girl (1) following the real\n",
    "proportions of p=0.513 of a male child in the UK.  We will use the function we\n",
    "wrote in [Conditionals, functions and loops](https://matthew-brett.github.io/les-pilot/loops_and_functions.html):"
   ]
  },
  {
   "cell_type": "code",
   "execution_count": null,
   "metadata": {},
   "outputs": [],
   "source": []
  },
  {
   "cell_type": "markdown",
   "metadata": {},
   "source": [
    "Test the function a few times:\n",
    "\n",
    "Test the `girl_or_boy` function a few times.  It should come up with a few\n",
    "1s and a few 0s."
   ]
  },
  {
   "cell_type": "code",
   "execution_count": null,
   "metadata": {},
   "outputs": [],
   "source": [
    "#- Test the boy / girl function a few times"
   ]
  },
  {
   "cell_type": "markdown",
   "metadata": {},
   "source": [
    "Now make a list, called , and collect four boy or girl choices:"
   ]
  },
  {
   "cell_type": "code",
   "execution_count": null,
   "metadata": {},
   "outputs": [],
   "source": [
    "#- Make a list, and collect four boy or girl choices"
   ]
  },
  {
   "cell_type": "markdown",
   "metadata": {},
   "source": [
    "Remember 1 means a girl.  Sum up the results of the four coin tosses to say\n",
    "how many girls in this family."
   ]
  },
  {
   "cell_type": "code",
   "execution_count": null,
   "metadata": {},
   "outputs": [],
   "source": [
    "#- Sum the list to give the number of girls in this family"
   ]
  },
  {
   "cell_type": "markdown",
   "metadata": {},
   "source": [
    "If you didn’t do this before, use a `while` loop to make another family from\n",
    "boy or girl choices.  See [Conditionals, functions and loops](https://matthew-brett.github.io/les-pilot/loops_and_functions.html) for inspiration:"
   ]
  },
  {
   "cell_type": "code",
   "execution_count": null,
   "metadata": {},
   "outputs": [],
   "source": [
    "#- Make a family from boy or girl choices, using a while loop."
   ]
  },
  {
   "cell_type": "markdown",
   "metadata": {},
   "source": [
    "Now you know how to make one family.  Now you’re going to make 1000 families.\n",
    "\n",
    "First make an empty list to collect the number of girls in each family.\n",
    "\n",
    "Then use another `while` loop to make 1000 families.  Careful of your\n",
    "counters, for each loop. For each family, calculate the number of girls, using\n",
    "the code you just wrote above.  Collect the number of girls in your list.\n",
    "\n",
    "Finally, use the `count` method of the list, to count the number of families\n",
    "with 3 girls."
   ]
  },
  {
   "cell_type": "code",
   "execution_count": null,
   "metadata": {},
   "outputs": [],
   "source": [
    "#- Make a list to store the number of girls in each family\n",
    "#- Use a while loop to make 1000 families.\n",
    "#- For each family, calculate the number of girls\n",
    "#- Store in the list\n",
    "#- Count the number of families with 3 girls"
   ]
  },
  {
   "cell_type": "markdown",
   "metadata": {},
   "source": [
    "Finally, divide the number of families with 3 girls, by the number of families\n",
    "you made (1000) to give the estimated probability of a family of four having\n",
    "three girls:"
   ]
  },
  {
   "cell_type": "code",
   "execution_count": null,
   "metadata": {},
   "outputs": [],
   "source": [
    "#- divide the number of familes with 3 girls by the number of families"
   ]
  }
 ],
 "metadata": {},
 "nbformat": 4,
 "nbformat_minor": 2
}