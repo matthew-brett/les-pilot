{
 "cells": [
  {
   "cell_type": "markdown",
   "metadata": {},
   "source": [
    "$\\newcommand{L}[1]{\\| #1 \\|}\\newcommand{VL}[1]{\\L{ \\vec{#1} }}\\newcommand{R}[1]{\\operatorname{Re}\\,(#1)}\\newcommand{I}[1]{\\operatorname{Im}\\, (#1)}$\n",
    "\n",
    "<!-- vim: ft=rst -->\n",
    "## Attitudes to animal research\n",
    "\n",
    "### Introduction to the data\n",
    "\n",
    "Here we are going to try to analyze the data from this survey:\n",
    "\n",
    "[https://www.ipsos.com/ipsos-mori/en-uk/attitudes-animal-research-2016](https://www.ipsos.com/ipsos-mori/en-uk/attitudes-animal-research-2016)\n",
    "\n",
    "You can download the raw data from here:\n",
    "\n",
    "[https://discover.ukdataservice.ac.uk/catalogue?sn=8059](https://discover.ukdataservice.ac.uk/catalogue?sn=8059)\n",
    "\n",
    "To be helpful, I have unpacked the tab-delimited data file for you, and also\n",
    "converted the data dictionary document to a PDF:\n",
    "\n",
    "* [tab-delimited data file](https://matthew-brett.github.io/les-pilot/_downloads/ols_animal_research_survey_data_2016.tab);\n",
    "\n",
    "* [data dictionary PDF file](https://matthew-brett.github.io/les-pilot/_downloads/ols_animal_research_survey_data_2016_ukda_data_dictionary.pdf).\n",
    "\n",
    "Download the data file to the directory containing this Notebook."
   ]
  },
  {
   "cell_type": "code",
   "execution_count": null,
   "metadata": {},
   "outputs": [],
   "source": [
    "#: Load pandas\n",
    "import pandas as pd"
   ]
  },
  {
   "cell_type": "code",
   "execution_count": null,
   "metadata": {},
   "outputs": [],
   "source": [
    "#: Read file into data frame\n",
    "df = pd.read_table('ols_animal_research_survey_data_2016.tab')"
   ]
  },
  {
   "cell_type": "markdown",
   "metadata": {},
   "source": [
    "Display the data frame:"
   ]
  },
  {
   "cell_type": "code",
   "execution_count": null,
   "metadata": {},
   "outputs": [],
   "source": [
    "#: Display the data frame\n",
    "df"
   ]
  },
  {
   "cell_type": "markdown",
   "metadata": {},
   "source": [
    "Show the list of the all the column names:"
   ]
  },
  {
   "cell_type": "code",
   "execution_count": null,
   "metadata": {},
   "outputs": [],
   "source": [
    "#- Show the column names\n",
    "df.columns"
   ]
  },
  {
   "cell_type": "markdown",
   "metadata": {},
   "source": [
    "Have a look at the data dictionary.  Find the name of the column containing\n",
    "the variable with label “Sources of balanced information about use of:\n",
    "Universities”.  Keep a note of that.\n",
    "\n",
    "Now find the name of the column with label “Sources of balanced information\n",
    "about use of: Animal protection organisations”.  Keep a note of that too.\n",
    "\n",
    "Finally, find the column for “Sources of balanced information about use of:\n",
    "Politicians / MPs”.  Note as well.\n",
    "\n",
    "Use indexing to select make a new data frame containing only these three\n",
    "columns from the original data frame.  It will look something like `questions\n",
    "=df[` followed by the names of the columns you just found.  Have a look at\n",
    "[Analyzing Brexit](https://matthew-brett.github.io/les-pilot/brexit.html) for inspiration."
   ]
  },
  {
   "cell_type": "code",
   "execution_count": null,
   "metadata": {},
   "outputs": [],
   "source": [
    "#- Select only the two columns we found above.\n",
    "#- Something like\n",
    "#- questions = df[ something here ]\n",
    "questions = df[['Q7_1', 'Q7_2', 'Q7_6']]"
   ]
  },
  {
   "cell_type": "markdown",
   "metadata": {},
   "source": [
    "Check that your new `questions` data frame has the column names you\n",
    "expected."
   ]
  },
  {
   "cell_type": "code",
   "execution_count": null,
   "metadata": {},
   "outputs": [],
   "source": [
    "#- Show the column names for the new \"questions\" data frame\n",
    "questions.columns"
   ]
  },
  {
   "cell_type": "markdown",
   "metadata": {},
   "source": [
    "Rename the columns to `\"trust_uni\"`, `\"trust_protectors\"`,\n",
    "`\"trust_politicians\"`.   See [Analyzing Brexit](https://matthew-brett.github.io/les-pilot/brexit.html) for inspiration."
   ]
  },
  {
   "cell_type": "code",
   "execution_count": null,
   "metadata": {},
   "outputs": [],
   "source": [
    "#- Rename the columns of the new data frame to:\n",
    "#- \"trust_uni\", \"trust_protectors\", \"trust_politicians\"\n",
    "questions.columns = ['trust_uni', 'trust_protectors', 'trust_politicians']\n",
    "questions.columns"
   ]
  },
  {
   "cell_type": "code",
   "execution_count": null,
   "metadata": {},
   "outputs": [],
   "source": [
    "%matplotlib inline"
   ]
  },
  {
   "cell_type": "markdown",
   "metadata": {},
   "source": [
    "Import the plotting library, using the same conventions as in [Analyzing Brexit](https://matthew-brett.github.io/les-pilot/brexit.html):"
   ]
  },
  {
   "cell_type": "code",
   "execution_count": null,
   "metadata": {},
   "outputs": [],
   "source": [
    "#- Import the plotting library\n",
    "import matplotlib.pyplot as plt"
   ]
  },
  {
   "cell_type": "markdown",
   "metadata": {},
   "source": [
    "Plot a histogram of the values for the question about trusting universities."
   ]
  },
  {
   "cell_type": "code",
   "execution_count": null,
   "metadata": {},
   "outputs": [],
   "source": [
    "#- A histogram of the values for the trust universities question\n",
    "plt.hist(questions['trust_uni']);"
   ]
  },
  {
   "cell_type": "markdown",
   "metadata": {},
   "source": [
    "Check in the data dictionary above - what do 0 and 1 mean?\n",
    "\n",
    "Plot a histogram of the values for the question about trusting Animal\n",
    "Protection Organizations:"
   ]
  },
  {
   "cell_type": "code",
   "execution_count": null,
   "metadata": {},
   "outputs": [],
   "source": [
    "#- A histogram of the values for the trust APOs question\n",
    "plt.hist(questions['trust_protectors']);"
   ]
  },
  {
   "cell_type": "markdown",
   "metadata": {},
   "source": [
    "Do you think there is a substantial difference between these histograms?   How\n",
    "would you check?\n",
    "\n",
    "Plot the histogram for the trust in politicians.  Is there a difference\n",
    "between this question and the other two?  How would you check?"
   ]
  },
  {
   "cell_type": "code",
   "execution_count": null,
   "metadata": {},
   "outputs": [],
   "source": [
    "#- A histogram of the values for the trust APOs question\n",
    "plt.hist(questions['trust_politicians']);"
   ]
  },
  {
   "cell_type": "markdown",
   "metadata": {},
   "source": [
    "Save the reduced data frame in case we want to use it later:"
   ]
  },
  {
   "cell_type": "code",
   "execution_count": null,
   "metadata": {},
   "outputs": [],
   "source": [
    "questions.to_csv('animal_questions.csv', index=False)"
   ]
  },
  {
   "cell_type": "markdown",
   "metadata": {},
   "source": [
    "# A permutation test\n",
    "\n",
    "Here we try and answer one of the questions above - is there a difference\n",
    "between the yes / no answers for the `trust_uni` answers and the\n",
    "`trust_proectors` answers.  Do the respondents trust universities more than\n",
    "Animal Protection Organizations (APOs)?\n",
    "\n",
    "To start, let’s make lists for the data we are going to study:"
   ]
  },
  {
   "cell_type": "code",
   "execution_count": null,
   "metadata": {},
   "outputs": [],
   "source": [
    "trust_uni = list(questions['trust_uni'])\n",
    "trust_protectors = list(questions['trust_protectors'])"
   ]
  },
  {
   "cell_type": "markdown",
   "metadata": {},
   "source": [
    "They came from the same data frame, so we are pretty sure they have the same\n",
    "lengths:"
   ]
  },
  {
   "cell_type": "code",
   "execution_count": null,
   "metadata": {},
   "outputs": [],
   "source": [
    "len(trust_uni)"
   ]
  },
  {
   "cell_type": "code",
   "execution_count": null,
   "metadata": {},
   "outputs": [],
   "source": [
    "len(trust_protectors)"
   ]
  },
  {
   "cell_type": "markdown",
   "metadata": {},
   "source": [
    "First - is there any differences in the answers?  We can see in the data\n",
    "dictionary that 0 means “No” or “Do not trust” and 1 means “Yes” or “Do\n",
    "trust”.  So we can see how many “Yes” votes there were with `sum`:"
   ]
  },
  {
   "cell_type": "code",
   "execution_count": null,
   "metadata": {},
   "outputs": [],
   "source": [
    "sum(trust_uni)"
   ]
  },
  {
   "cell_type": "code",
   "execution_count": null,
   "metadata": {},
   "outputs": [],
   "source": [
    "sum(trust_protectors)"
   ]
  },
  {
   "cell_type": "code",
   "execution_count": null,
   "metadata": {},
   "outputs": [],
   "source": [
    "observed_difference = sum(trust_uni) - sum(trust_protectors)\n",
    "observed_difference"
   ]
  },
  {
   "cell_type": "markdown",
   "metadata": {},
   "source": [
    "Of course we could also use `mean`, where the result will be the average\n",
    "answer, towards 0 if more people don’t trust, towards 1 if more people do\n",
    "trust:"
   ]
  },
  {
   "cell_type": "code",
   "execution_count": null,
   "metadata": {},
   "outputs": [],
   "source": [
    "def mean(my_list):\n",
    "    return sum(my_list) / len(my_list)"
   ]
  },
  {
   "cell_type": "code",
   "execution_count": null,
   "metadata": {},
   "outputs": [],
   "source": [
    "mean(trust_uni)"
   ]
  },
  {
   "cell_type": "code",
   "execution_count": null,
   "metadata": {},
   "outputs": [],
   "source": [
    "mean(trust_protectors)"
   ]
  },
  {
   "cell_type": "code",
   "execution_count": null,
   "metadata": {},
   "outputs": [],
   "source": [
    "mean(trust_uni) - mean(trust_protectors)"
   ]
  },
  {
   "cell_type": "markdown",
   "metadata": {},
   "source": [
    "So, there is a difference.  But did this difference come about through some\n",
    "random factor in the way people were answering the questions?  Or can we\n",
    "exclude that as unlikely?\n",
    "\n",
    "What is our null hypothesis.\n",
    "\n",
    "There is some randomness to the answers to both questions `trust_uni` and\n",
    "`trust_protectors`.  This randomness is a reasonable explanation for the\n",
    "observed differences in the sum or mean of the answers to these questions.\n",
    "\n",
    "If the null hypothesis is true, then we can consider the answers to the two\n",
    "questions to be, effectively, an answer to the same question, maybe something\n",
    "like “do you trust special interest groups?”.\n",
    "\n",
    "But - careful - does our null hypothesis make us believe that we can take the\n",
    "answer from one person and allocate it to another?  No - our null hypothesis\n",
    "allows different people to have different views on “do you trust special\n",
    "interest groups”, but not to have different views on universities versus\n",
    "Animal Protection Organizations?\n",
    "\n",
    "So, how can we let people have their different views on the general question,\n",
    "while pretending (for now) that they have the same view of universities and\n",
    "APOs?\n",
    "\n",
    "Our null hypothesis allows us to *swap* the answers for the two questions,\n",
    "within one person.   Here is what it looks like if we randomly swap the\n",
    "answers to the questions:"
   ]
  },
  {
   "cell_type": "code",
   "execution_count": null,
   "metadata": {},
   "outputs": [],
   "source": [
    "import random"
   ]
  },
  {
   "cell_type": "code",
   "execution_count": null,
   "metadata": {},
   "outputs": [],
   "source": [
    "def sum_with_swap(answers_1, answers_2):\n",
    "    # Make new lists for the answers where some are swapped\n",
    "    new_answers_1 = []\n",
    "    new_answers_2 = []\n",
    "    for i in range(len(answers_1)):\n",
    "        answer_1 = answers_1[i]\n",
    "        answer_2 = answers_2[i]\n",
    "        if random.random() >= 0.5:\n",
    "            # Don't swap\n",
    "            answer_1 = answers_1[i]\n",
    "            answer_2 = answers_2[i]\n",
    "        else:\n",
    "            # Swap\n",
    "            answer_2 = answers_1[i]\n",
    "            answer_1 = answers_2[i]\n",
    "        new_answers_1.append(answer_1)\n",
    "        new_answers_2.append(answer_2)\n",
    "    return sum(new_answers_1) - sum(new_answers_2)"
   ]
  },
  {
   "cell_type": "markdown",
   "metadata": {},
   "source": [
    "Try a single trial with swaps:"
   ]
  },
  {
   "cell_type": "code",
   "execution_count": null,
   "metadata": {},
   "outputs": [],
   "source": [
    "sum_with_swap(trust_uni, trust_protectors)"
   ]
  },
  {
   "cell_type": "markdown",
   "metadata": {},
   "source": [
    "Now we can do one trial, we build up our sampling distribution:"
   ]
  },
  {
   "cell_type": "code",
   "execution_count": null,
   "metadata": {},
   "outputs": [],
   "source": [
    "n_repeats = 10000\n",
    "sampled_sums = []\n",
    "for i in range(n_repeats):\n",
    "    one_trial = sum_with_swap(trust_uni, trust_protectors)\n",
    "    sampled_sums.append(one_trial)"
   ]
  },
  {
   "cell_type": "markdown",
   "metadata": {},
   "source": [
    "We plot the distribution:"
   ]
  },
  {
   "cell_type": "code",
   "execution_count": null,
   "metadata": {},
   "outputs": [],
   "source": [
    "%matplotlib inline"
   ]
  },
  {
   "cell_type": "code",
   "execution_count": null,
   "metadata": {},
   "outputs": [],
   "source": [
    "import matplotlib.pyplot as plt"
   ]
  },
  {
   "cell_type": "code",
   "execution_count": null,
   "metadata": {},
   "outputs": [],
   "source": [
    "plt.hist(sampled_sums)"
   ]
  },
  {
   "cell_type": "markdown",
   "metadata": {},
   "source": [
    "Remember the observed difference:"
   ]
  },
  {
   "cell_type": "code",
   "execution_count": null,
   "metadata": {},
   "outputs": [],
   "source": [
    "observed_difference"
   ]
  },
  {
   "cell_type": "markdown",
   "metadata": {},
   "source": [
    "What do you think - is the difference in the answers to `trust_uni` and\n",
    "`trust_protectors` compatible with randomness in the answers to the\n",
    "questions, or is there some real difference here?\n",
    "\n",
    "Let’s do the same test for trust in politicians:"
   ]
  },
  {
   "cell_type": "code",
   "execution_count": null,
   "metadata": {},
   "outputs": [],
   "source": [
    "trust_politicians = list(questions['trust_politicians'])\n",
    "politicians_observed = sum(trust_uni) - sum(trust_politicians)\n",
    "politicians_observed"
   ]
  },
  {
   "cell_type": "markdown",
   "metadata": {},
   "source": [
    "Ouch.\n",
    "\n",
    "Now for our pair swap test:"
   ]
  },
  {
   "cell_type": "code",
   "execution_count": null,
   "metadata": {},
   "outputs": [],
   "source": [
    "sampled_sums = []\n",
    "for i in range(n_repeats):\n",
    "    one_trial = sum_with_swap(trust_uni, trust_politicians)\n",
    "    sampled_sums.append(one_trial)"
   ]
  },
  {
   "cell_type": "code",
   "execution_count": null,
   "metadata": {},
   "outputs": [],
   "source": [
    "plt.hist(sampled_sums)"
   ]
  },
  {
   "cell_type": "markdown",
   "metadata": {},
   "source": [
    "What do you think about the difference in trust between universities and\n",
    "politicians?"
   ]
  }
 ],
 "metadata": {},
 "nbformat": 4,
 "nbformat_minor": 2
}