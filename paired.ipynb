{
 "cells": [
  {
   "cell_type": "markdown",
   "metadata": {},
   "source": [
    "$\\newcommand{L}[1]{\\| #1 \\|}\\newcommand{VL}[1]{\\L{ \\vec{#1} }}\\newcommand{R}[1]{\\operatorname{Re}\\,(#1)}\\newcommand{I}[1]{\\operatorname{Im}\\, (#1)}$\n",
    "\n",
    "## Paired permutation test\n",
    "\n",
    "Test the null hypothesis that the values for two variables are\n",
    "interchangeable.\n",
    "\n",
    "See [Attitudes to animal research](https://matthew-brett.github.io/les-pilot/animal_attitudes.html)."
   ]
  },
  {
   "cell_type": "code",
   "execution_count": null,
   "metadata": {},
   "outputs": [],
   "source": [
    "import random"
   ]
  },
  {
   "cell_type": "code",
   "execution_count": null,
   "metadata": {},
   "outputs": [],
   "source": [
    "def mean(a_list):\n",
    "    return sum(a_list) / len(a_list)"
   ]
  },
  {
   "cell_type": "code",
   "execution_count": null,
   "metadata": {},
   "outputs": [],
   "source": [
    "def mean_with_swap(list_1, list_2):\n",
    "    # Make new lists where some are swapped\n",
    "    new_list_1 = []\n",
    "    new_list_2 = []\n",
    "    for i in range(len(list_1)):\n",
    "        if random.random() >= 0.5:\n",
    "            # Don't swap\n",
    "            value_1 = list_1[i]\n",
    "            value_2 = list_2[i]\n",
    "        else:\n",
    "            # Swap\n",
    "            value_2 = list_1[i]\n",
    "            value_1 = list_2[i]\n",
    "        new_list_1.append(value_1)\n",
    "        new_list_2.append(value_2)\n",
    "    return mean(new_list_1) - mean(new_list_2)"
   ]
  },
  {
   "cell_type": "code",
   "execution_count": null,
   "metadata": {},
   "outputs": [],
   "source": [
    "def paired_permute(variable_1, variable_2):\n",
    "    n_samples = 10000\n",
    "    sampled_means = []\n",
    "    observed = mean(variable_1) - mean(variable_2)\n",
    "    for i in range(n_samples):\n",
    "        one_trial = mean_with_swap(variable_1, variable_2)\n",
    "        sampled_means.append(one_trial)\n",
    "    return observed, sampled_means"
   ]
  },
  {
   "cell_type": "markdown",
   "metadata": {},
   "source": [
    "In action on the animal attitude data:"
   ]
  },
  {
   "cell_type": "code",
   "execution_count": null,
   "metadata": {},
   "outputs": [],
   "source": [
    "import pandas as pd\n",
    "questions = pd.read_csv('animal_questions.csv')\n",
    "trust_uni = list(questions['trust_uni'])\n",
    "trust_protectors = list(questions['trust_protectors'])\n",
    "observed, samples = paired_permute(trust_uni, trust_protectors)\n",
    "observed"
   ]
  },
  {
   "cell_type": "code",
   "execution_count": null,
   "metadata": {},
   "outputs": [],
   "source": [
    "%matplotlib inline"
   ]
  },
  {
   "cell_type": "code",
   "execution_count": null,
   "metadata": {},
   "outputs": [],
   "source": [
    "import matplotlib.pyplot as plt\n",
    "plt.hist(samples)"
   ]
  }
 ],
 "metadata": {},
 "nbformat": 4,
 "nbformat_minor": 2
}