{
 "cells": [
  {
   "cell_type": "markdown",
   "metadata": {},
   "source": [
    "$\\newcommand{L}[1]{\\| #1 \\|}\\newcommand{VL}[1]{\\L{ \\vec{#1} }}\\newcommand{R}[1]{\\operatorname{Re}\\,(#1)}\\newcommand{I}[1]{\\operatorname{Im}\\, (#1)}$\n",
    "\n",
    "## Sampling distribution for linear relationship\n",
    "\n",
    "Test the null hypothesis that the observed linear relationship between\n",
    "variables is compatible with the distribution of relationships when order of\n",
    "the second variable is randomized.\n",
    "\n",
    "See: [Schooling and fertility](https://matthew-brett.github.io/les-pilot/school_and_fertility.html)."
   ]
  },
  {
   "cell_type": "code",
   "execution_count": null,
   "metadata": {},
   "outputs": [],
   "source": [
    "#: The random module\n",
    "import random"
   ]
  },
  {
   "cell_type": "code",
   "execution_count": null,
   "metadata": {},
   "outputs": [],
   "source": [
    "def list_product(first_list, second_list):\n",
    "    product = 0\n",
    "    for i in range(len(first_list)):\n",
    "        value = first_list[i] * second_list[i]\n",
    "        product = product + value\n",
    "    return product"
   ]
  },
  {
   "cell_type": "code",
   "execution_count": null,
   "metadata": {},
   "outputs": [],
   "source": [
    "def linear_permute(measures_1, measures_2):\n",
    "    measures_1 = list(measures_1)\n",
    "    new_measures_2 = list(measures_2)\n",
    "    n_samples = 10000\n",
    "    observed = list_product(measures_1, measures_2)\n",
    "    sample_products = []\n",
    "    for i in range(n_samples):\n",
    "        random.shuffle(new_measures_2)\n",
    "        product = list_product(measures_1, new_measures_2)\n",
    "        sample_products.append(product)\n",
    "    return observed, sample_products"
   ]
  },
  {
   "cell_type": "markdown",
   "metadata": {},
   "source": [
    "In action on the school, fertility data."
   ]
  },
  {
   "cell_type": "code",
   "execution_count": null,
   "metadata": {},
   "outputs": [],
   "source": [
    "import pandas as pd\n",
    "school_fertility = pd.read_csv('school_fertility.csv')\n",
    "school = list(school_fertility['school'])\n",
    "fertility = list(school_fertility['fertility'])\n",
    "observed, distribution = linear_permute(school, fertility)\n",
    "observed"
   ]
  },
  {
   "cell_type": "code",
   "execution_count": null,
   "metadata": {},
   "outputs": [],
   "source": [
    "%matplotlib inline"
   ]
  },
  {
   "cell_type": "code",
   "execution_count": null,
   "metadata": {},
   "outputs": [],
   "source": [
    "import matplotlib.pyplot as plt\n",
    "plt.hist(distribution)"
   ]
  }
 ],
 "metadata": {},
 "nbformat": 4,
 "nbformat_minor": 2
}