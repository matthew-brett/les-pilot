{
 "cells": [
  {
   "cell_type": "markdown",
   "metadata": {},
   "source": [
    "$\\newcommand{L}[1]{\\| #1 \\|}\\newcommand{VL}[1]{\\L{ \\vec{#1} }}\\newcommand{R}[1]{\\operatorname{Re}\\,(#1)}\\newcommand{I}[1]{\\operatorname{Im}\\, (#1)}$\n",
    "\n",
    "<!-- vim: ft=rst -->\n",
    "## For loops again\n",
    "\n",
    "In [For loops](https://matthew-brett.github.io/les-pilot/for_loops.html), we saw that we can repeat something `N` times with a\n",
    "`for` loop, like this:"
   ]
  },
  {
   "cell_type": "code",
   "execution_count": null,
   "metadata": {},
   "outputs": [],
   "source": [
    "#: Doing something N times\n",
    "N = 4   # or whatever number you like\n",
    "for i in range(N):\n",
    "    # Do something\n",
    "    print('i is set equal to', i)\n"
   ]
  },
  {
   "cell_type": "markdown",
   "metadata": {},
   "source": [
    "Now for a little more detail on how this works, and what else you can do with\n",
    "the `for` loop.\n",
    "\n",
    "Consider the start of the loop: `for i in range(N):`.  What is happening, is\n",
    "that Python collects all the values on the right hand side of the loop.  That\n",
    "is, it collects all the values given by `range(N)`.  We can see these values\n",
    "by making a list out of them:"
   ]
  },
  {
   "cell_type": "code",
   "execution_count": null,
   "metadata": {},
   "outputs": [],
   "source": [
    "#: Collecting the values in range(N)\n",
    "#: Remember N == 4\n",
    "list(range(N))"
   ]
  },
  {
   "cell_type": "markdown",
   "metadata": {},
   "source": [
    "So, Python collects the values (in this case) `[0, 1, 2, 3]`, and it feeds\n",
    "them, one by one into the loop, setting the value of `i` with the next value\n",
    "from the right hand side.  So the loop above is the equivalent of:\n",
    "\n",
    "So what is we used something else on the right hand side of `for i in ...` ?\n",
    "Could we use any list?  Yes we could."
   ]
  },
  {
   "cell_type": "code",
   "execution_count": null,
   "metadata": {},
   "outputs": [],
   "source": [
    "#: we can use any list on the right hand side\n",
    "my_list = [0, 9, 1, 8]\n",
    "for i in my_list:\n",
    "    print('i is set equal to', i)\n"
   ]
  },
  {
   "cell_type": "markdown",
   "metadata": {},
   "source": [
    "Again, Python is taking the right hand side - now `my_list`, and feeding\n",
    "each value into the loop, by setting `i` to be the current value.\n",
    "\n",
    "Now for the exercise.\n",
    "\n",
    "First - modify the loop above, and rename the variable `i` to a different\n",
    "name, say `my_variable`.  Does it still work?\n",
    "\n",
    "Next - you have a list."
   ]
  },
  {
   "cell_type": "code",
   "execution_count": null,
   "metadata": {},
   "outputs": [],
   "source": [
    "#: Your list\n",
    "the_list = [12, 4, 3, 1, 5]"
   ]
  },
  {
   "cell_type": "markdown",
   "metadata": {},
   "source": [
    "Your job is to calculate the product of all the values of this list, using a\n",
    "`for` loop.  You should get:"
   ]
  },
  {
   "cell_type": "code",
   "execution_count": null,
   "metadata": {},
   "outputs": [],
   "source": [
    "#: the result you want\n",
    "12 * 4 * 3 * 1 * 5"
   ]
  },
  {
   "cell_type": "markdown",
   "metadata": {},
   "source": [
    "Now your turn.  Read the comments for hints."
   ]
  },
  {
   "cell_type": "code",
   "execution_count": null,
   "metadata": {},
   "outputs": [],
   "source": [
    "#- Make a for loop to calculate product of all elements in the_list\n",
    "#- You are going to start off with something like:\n",
    "#-\n",
    "#- product = 1\n",
    "#- for i in <something you put here>:\n",
    "product = 1\n",
    "for i in the_list:\n",
    "    product = product * i\n",
    "\n",
    "product"
   ]
  }
 ],
 "metadata": {},
 "nbformat": 4,
 "nbformat_minor": 2
}