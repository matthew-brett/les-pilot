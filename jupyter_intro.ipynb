{
 "cells": [
  {
   "cell_type": "markdown",
   "metadata": {},
   "source": [
    "$\\newcommand{L}[1]{\\| #1 \\|}\\newcommand{VL}[1]{\\L{ \\vec{#1} }}\\newcommand{R}[1]{\\operatorname{Re}\\,(#1)}\\newcommand{I}[1]{\\operatorname{Im}\\, (#1)}$\n",
    "\n",
    "## Introduction to the Jupyter Notebook\n",
    "\n",
    "### A Notebook has cells\n",
    "\n",
    "As you can see, the Jupyter Notebook runs in your web browser.\n",
    "\n",
    "It consists of *cells*. This is a text cell.  The cell below is a code cell.\n",
    "\n",
    "You can mix code and text cells in any order.\n",
    "\n",
    "To move from one cell to the next, you can use Shift-Enter. When you do\n",
    "this inside a code cell, it will execute, and move to the next cell.\n",
    "\n",
    "Press Shift-Enter now, to move out of this cell to the next, then Shift-Enter\n",
    "again to run the text cell, and move again."
   ]
  },
  {
   "cell_type": "code",
   "execution_count": null,
   "metadata": {},
   "outputs": [],
   "source": [
    "a = 10"
   ]
  },
  {
   "cell_type": "markdown",
   "metadata": {},
   "source": [
    "It doesn’t look as if anything has happened, but when you did Shift-Enter in\n",
    "the cell above, the Jupyter Notebook sent the code off to be executed by\n",
    "[Python](https://python.org).  Python is a programming language with a\n",
    "simple syntax that many universities use for teaching.  There is also a large\n",
    "community of scientists and tech companies that use Python for data analysis.\n",
    "\n",
    "The code cell above takes the *number* 10, and puts it into a *variable*\n",
    "called `a`. Now, when we use the variable `a`, it will carry the value 10.\n",
    "We say that the *variable* `a` has the *value* 10.\n",
    "\n",
    "We often want to see the values of variables, and the Notebook makes it easy\n",
    "to do that. We put the variable who value we want to see on its own at the end\n",
    "of a cell. The Notebook detects that we have done that, and shows us the\n",
    "value.  Here we display the value of the variable `a`:"
   ]
  },
  {
   "cell_type": "code",
   "execution_count": null,
   "metadata": {},
   "outputs": [],
   "source": [
    "a"
   ]
  },
  {
   "cell_type": "markdown",
   "metadata": {},
   "source": [
    "Notice that the Notebook made a new type of display after the cell, with the\n",
    "prompt in red, and starting with `Out[`. Every code cell has a number, such\n",
    "as 1, or 2. The Notebook labels the cell with its number.  The code that will\n",
    "be executed has the label `In[` followed by the cell number, meaning\n",
    "*Input*. If there is a variable on its own at the end, that will generate an\n",
    "*Output* cell, labeled with `Out[` followed by the cell number.\n",
    "\n",
    "Our code cells can have lines that do some work, followed by a variable on its\n",
    "own, so we can see its value. Like this:"
   ]
  },
  {
   "cell_type": "code",
   "execution_count": null,
   "metadata": {},
   "outputs": [],
   "source": [
    "b = 5\n",
    "b"
   ]
  },
  {
   "cell_type": "markdown",
   "metadata": {},
   "source": [
    "# The Notebook as a calculator\n",
    "\n",
    "To get output from the cell, we don’t actually need to have a variable on its\n",
    "own. We can put any *expression* on the last line. An expression is anything\n",
    "that returns a value.  So `b` on its own returns a value, which is the value\n",
    "of `b` - in this case 5. But we can also do something like this:"
   ]
  },
  {
   "cell_type": "code",
   "execution_count": null,
   "metadata": {},
   "outputs": [],
   "source": [
    "(10 + 5 + 1) / 4"
   ]
  },
  {
   "cell_type": "markdown",
   "metadata": {},
   "source": [
    "Notice, we didn’t use any variables. `(10 + 5 + 1) / 4` is an expression -\n",
    "some code that returns a value.\n",
    "\n",
    "This means that we can use the Notebook as a simple calculator. You’ve\n",
    "already seen `+` and `/` and the parentheses. You also have `\\*`\n",
    "for multiply, and `-` for subtract, and `\\*\\*` for to-the-power-of.\n",
    "For example, here’s $10^4$:"
   ]
  },
  {
   "cell_type": "code",
   "execution_count": null,
   "metadata": {},
   "outputs": [],
   "source": [
    "10 ** 4"
   ]
  },
  {
   "cell_type": "markdown",
   "metadata": {},
   "source": [
    "Try calculating $6 (2^3) / 4$ (it should equal 12):"
   ]
  },
  {
   "cell_type": "code",
   "execution_count": null,
   "metadata": {},
   "outputs": [],
   "source": [
    "6 * 2 ** 3 / 4"
   ]
  },
  {
   "cell_type": "markdown",
   "metadata": {},
   "source": [
    "Try $1024^2 / 2^{16}$"
   ]
  },
  {
   "cell_type": "code",
   "execution_count": null,
   "metadata": {},
   "outputs": [],
   "source": [
    "1024 ** 2 / 2**16"
   ]
  },
  {
   "cell_type": "markdown",
   "metadata": {},
   "source": [
    "We can also use variables in our calculations. For example, we might be\n",
    "interested in the result of $2 x^2 + 3x + 10$. We want to calculate what\n",
    "answer we get for $x = 2$."
   ]
  },
  {
   "cell_type": "code",
   "execution_count": null,
   "metadata": {},
   "outputs": [],
   "source": [
    "x = 2\n",
    "x"
   ]
  },
  {
   "cell_type": "code",
   "execution_count": null,
   "metadata": {},
   "outputs": [],
   "source": [
    "2 * x ** 2 + 3 * x + 10"
   ]
  },
  {
   "cell_type": "markdown",
   "metadata": {},
   "source": [
    "Now we can simply get the answer for $x = 7$, or any other value\n",
    "of $x$:"
   ]
  },
  {
   "cell_type": "code",
   "execution_count": null,
   "metadata": {},
   "outputs": [],
   "source": [
    "x = 7\n",
    "2 * x ** 2 + 3 * x + 10"
   ]
  },
  {
   "cell_type": "markdown",
   "metadata": {},
   "source": [
    "# Comments begin with a hash (#)\n",
    "\n",
    "The code cells in this Notebook, and all the Notebooks we’ll use in the class,\n",
    "will be in the Python programming language. In that language (and many\n",
    "others), a line beginning with `#` is a *comment*, which means that Python\n",
    "does not do anything with that line, and it just serves to explain the code."
   ]
  },
  {
   "cell_type": "code",
   "execution_count": null,
   "metadata": {},
   "outputs": [],
   "source": [
    "# This is a comment.  It doesn't do anything.\n",
    "# This is another comment.  It is just for your reading pleasure.\n",
    "# The line below sets the variable c to have value 10.\n",
    "c = 10\n",
    "# The last line is an expression, and so we see an output of this expression\n",
    "# after the cell.\n",
    "c"
   ]
  },
  {
   "cell_type": "markdown",
   "metadata": {},
   "source": [
    "# Strings contain text\n",
    "\n",
    "So far we have only seen numbers. Another type of information that Python can\n",
    "store and use, is text. Python calls text data: *strings*. For example, here I\n",
    "set the variable `my_name` to the *string* `'Matthew'`. Notice the quotes\n",
    "around the string. The quotes tell Python that this is text (string) data:"
   ]
  },
  {
   "cell_type": "code",
   "execution_count": null,
   "metadata": {},
   "outputs": [],
   "source": [
    "my_name = 'Matthew'\n",
    "my_name"
   ]
  },
  {
   "cell_type": "markdown",
   "metadata": {},
   "source": [
    "You can use single quotes (`'`) to go round strings, or double quotes\n",
    "(`\"`). It doesn’t matter to Python, it recognizes you want to make a\n",
    "string."
   ]
  },
  {
   "cell_type": "code",
   "execution_count": null,
   "metadata": {},
   "outputs": [],
   "source": [
    "# I'm setting your_name to the string 'Alphonse' using single quotes\n",
    "your_name = 'Alphonse'\n",
    "your_name"
   ]
  },
  {
   "cell_type": "code",
   "execution_count": null,
   "metadata": {},
   "outputs": [],
   "source": [
    "# But I could have used double quotes, it ends up the same to Python.\n",
    "third_name = \"Alphonse\"\n",
    "third_name"
   ]
  },
  {
   "cell_type": "markdown",
   "metadata": {},
   "source": [
    "# Functions process things\n",
    "\n",
    "Python also has *functions*. It is easiest to explain a function by example.\n",
    "`len` is a function, returning the length of something. Here we get the\n",
    "length of the string:"
   ]
  },
  {
   "cell_type": "code",
   "execution_count": null,
   "metadata": {},
   "outputs": [],
   "source": [
    "len('Alphonse')"
   ]
  },
  {
   "cell_type": "markdown",
   "metadata": {},
   "source": [
    "The result that Python returned from `len` is the number of characters in\n",
    "the string `'Alphonse'`. The variable `your_name` also points to the\n",
    "string `'Alphonse'`, so we get the same result from calling `len` on the\n",
    "variable `your_name`:"
   ]
  },
  {
   "cell_type": "code",
   "execution_count": null,
   "metadata": {},
   "outputs": [],
   "source": [
    "len(your_name)"
   ]
  },
  {
   "cell_type": "markdown",
   "metadata": {},
   "source": [
    "The function has a name - `len`. We call it, by using its name and then an\n",
    "opening parenthesis, and then the *arguments* that we want to send to the\n",
    "function, and then a closing parenthesis.\n",
    "\n",
    "In this case the function `len` accepts only one argument, which is the\n",
    "thing we want the length of.\n",
    "\n",
    "Now try setting the variable `my_name` to a string containing your first\n",
    "(given) name. Then get the Notebook to tell you how many characters there are\n",
    "in your name. Here’s how I would do that, in the cell below. You can edit the\n",
    "cell to put your name in there instead."
   ]
  },
  {
   "cell_type": "code",
   "execution_count": null,
   "metadata": {},
   "outputs": [],
   "source": [
    "my_name = 'Matthew'\n",
    "len(my_name)"
   ]
  },
  {
   "cell_type": "markdown",
   "metadata": {},
   "source": [
    "There are functions which work on numbers as well. For example, the function\n",
    "`max` accepts two (or more) numbers, and returns the maximum:"
   ]
  },
  {
   "cell_type": "code",
   "execution_count": null,
   "metadata": {},
   "outputs": [],
   "source": [
    "max(10, 4)"
   ]
  },
  {
   "cell_type": "markdown",
   "metadata": {},
   "source": [
    "# Lists\n",
    "\n",
    "Python has other useful types of data. One very useful type is the *list*.\n",
    "Here is a list of two numbers:"
   ]
  },
  {
   "cell_type": "code",
   "execution_count": null,
   "metadata": {},
   "outputs": [],
   "source": [
    "my_list = [10, 4]\n",
    "my_list"
   ]
  },
  {
   "cell_type": "markdown",
   "metadata": {},
   "source": [
    "Notice the square brackets around the list items, and a comma between the\n",
    "items.\n",
    "\n",
    "What do you think you will get calling `len` on this list? Try it."
   ]
  },
  {
   "cell_type": "code",
   "execution_count": null,
   "metadata": {},
   "outputs": [],
   "source": [
    "# Try: len(my_list)"
   ]
  },
  {
   "cell_type": "markdown",
   "metadata": {},
   "source": [
    "You can make an empty list by putting nothing between the brackets:"
   ]
  },
  {
   "cell_type": "code",
   "execution_count": null,
   "metadata": {},
   "outputs": [],
   "source": [
    "my_empty_list = []\n",
    "my_empty_list"
   ]
  },
  {
   "cell_type": "markdown",
   "metadata": {},
   "source": [
    "Another thing we might want to do to a list is append a value.  We can do this\n",
    "using the `append` *method* of the list.  A *method* is a function attached\n",
    "to a value.  This is best seen in action:"
   ]
  },
  {
   "cell_type": "code",
   "execution_count": null,
   "metadata": {},
   "outputs": [],
   "source": [
    "my_list.append(7)\n",
    "my_list"
   ]
  },
  {
   "cell_type": "code",
   "execution_count": null,
   "metadata": {},
   "outputs": [],
   "source": [
    "my_list.append(1)\n",
    "my_list"
   ]
  },
  {
   "cell_type": "markdown",
   "metadata": {},
   "source": [
    "Notice that we *call* the method using the name of the list - here\n",
    "`my_list`, followed by a dot, followed by the name of the method, here\n",
    "`append`.  `append` is a function attached to `my_list`.\n",
    "\n",
    "Don’t worry about the details at the moment, we will have many chances to get\n",
    "used this this idea.\n",
    "\n",
    "# Set equal to and test equal to\n",
    "\n",
    "We have been setting the values of variables with the variable name (e.g.\n",
    ") followed by the equals character  and then the value. For\n",
    "example:"
   ]
  },
  {
   "cell_type": "code",
   "execution_count": null,
   "metadata": {},
   "outputs": [],
   "source": [
    "# Setting variable my_name to have value \"Matthew\"\n",
    "my_name = \"Matthew\""
   ]
  },
  {
   "cell_type": "markdown",
   "metadata": {},
   "source": [
    "This is the use of equal to mean “set the variable on the left equal to the\n",
    "value on the right”.\n",
    "\n",
    "There is another use of “equal” which is to test whether something is equal to\n",
    "something else.  This is called “test equals”.  Python uses double equal signs\n",
    "`==` for that meaning of equals.  For example, here we test whether the\n",
    "value of variable `my_name` is equal to the string :"
   ]
  },
  {
   "cell_type": "code",
   "execution_count": null,
   "metadata": {},
   "outputs": [],
   "source": [
    "# Equal in the sense of test equal to\n",
    "my_name == 'John'"
   ]
  },
  {
   "cell_type": "markdown",
   "metadata": {},
   "source": [
    "Notice that test-equal, with `==`, is an expression, that returns the value\n",
    "`True` if the two sides are equal, and `False` if they are not:"
   ]
  },
  {
   "cell_type": "code",
   "execution_count": null,
   "metadata": {},
   "outputs": [],
   "source": [
    "# Equal in the sense of test equal to\n",
    "my_name == 'Matthew'"
   ]
  },
  {
   "cell_type": "markdown",
   "metadata": {},
   "source": [
    "# Packages\n",
    "\n",
    "So far all the stuff we have seen uses functions that Python will always\n",
    "give you. For example, `len` and `max` are always available to you,\n",
    "whenever you start Python.\n",
    "\n",
    "There are many other things that Python keeps in *modules*. Modules are\n",
    "libraries of functions and other things, that you cannot use, until you\n",
    "load them into Python. You load them into Python using the `import`\n",
    "command.\n",
    "\n",
    "For example, we are soon going to be using the `random` module. This\n",
    "is a module that gives us random numbers of various sorts. Before we can\n",
    "use the `random` module, we have to `import` it - like this:"
   ]
  },
  {
   "cell_type": "code",
   "execution_count": null,
   "metadata": {},
   "outputs": [],
   "source": [
    "import random"
   ]
  },
  {
   "cell_type": "markdown",
   "metadata": {},
   "source": [
    "Now we have the random module loaded, we can access its functions, by\n",
    "typing the module name `random`, followed by a dot, followed by the\n",
    "function we want to use. For example, `random` has a function\n",
    "`randint`, that returns a number between the first argument (the low\n",
    "bound) and the second argument (the high bound). We can get a random\n",
    "number between 0 and 10 like this:"
   ]
  },
  {
   "cell_type": "code",
   "execution_count": null,
   "metadata": {},
   "outputs": [],
   "source": [
    "random.randint(0, 10)"
   ]
  },
  {
   "cell_type": "markdown",
   "metadata": {},
   "source": [
    "# Getting help\n",
    "\n",
    "Often we want to know what a function does, or how many arguments it takes.\n",
    "The Notebook has a useful feature to help us. Type the name of the function\n",
    "you are interested in, followed by `?` and press Shift-Enter. The Notebook\n",
    "will show you pane of help on that function.  Try it now, for `len` and\n",
    "`max`."
   ]
  },
  {
   "cell_type": "code",
   "execution_count": null,
   "metadata": {},
   "outputs": [],
   "source": [
    "# Type (e.g):\n",
    "#\n",
    "# len?\n",
    "#\n",
    "# in the cell below"
   ]
  },
  {
   "cell_type": "markdown",
   "metadata": {},
   "source": [
    "It is also common that we want to know what functions or other goodies there\n",
    "are in a module.  The Notebook can help with that too.  In the code cell\n",
    "below, try typing  (note the trailing dot) and then, without pressing\n",
    "Return, press the Tab key.  The Notebook shows you a list of functions and\n",
    "other things inside the `random` module.  This is called “Tab completion”."
   ]
  },
  {
   "cell_type": "code",
   "execution_count": null,
   "metadata": {},
   "outputs": [],
   "source": [
    "# Type:\n",
    "#\n",
    "# random.\n",
    "#\n",
    "# followed by Tab, in the cell below"
   ]
  }
 ],
 "metadata": {},
 "nbformat": 4,
 "nbformat_minor": 2
}