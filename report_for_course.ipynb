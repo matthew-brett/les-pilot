{
 "cells": [
  {
   "cell_type": "markdown",
   "metadata": {},
   "source": [
    "Student responses"
   ]
  },
  {
   "cell_type": "code",
   "execution_count": 1,
   "metadata": {
    "collapsed": true
   },
   "outputs": [],
   "source": [
    "%matplotlib inline\n",
    "import pandas as pd\n",
    "import matplotlib.pyplot as plt"
   ]
  },
  {
   "cell_type": "code",
   "execution_count": 2,
   "metadata": {
    "collapsed": true
   },
   "outputs": [],
   "source": [
    "responses = pd.read_csv('student_feedback.csv')"
   ]
  },
  {
   "cell_type": "code",
   "execution_count": 3,
   "metadata": {},
   "outputs": [
    {
     "data": {
      "text/html": [
       "<div>\n",
       "<style>\n",
       "    .dataframe thead tr:only-child th {\n",
       "        text-align: right;\n",
       "    }\n",
       "\n",
       "    .dataframe thead th {\n",
       "        text-align: left;\n",
       "    }\n",
       "\n",
       "    .dataframe tbody tr th {\n",
       "        vertical-align: top;\n",
       "    }\n",
       "</style>\n",
       "<table border=\"1\" class=\"dataframe\">\n",
       "  <thead>\n",
       "    <tr style=\"text-align: right;\">\n",
       "      <th></th>\n",
       "      <th>Timestamp</th>\n",
       "      <th>The main reason I wanted to do this course was</th>\n",
       "      <th>How much computer code have you written?</th>\n",
       "      <th>I had a better understanding of statistics after the course.</th>\n",
       "      <th>Writing the statistical procedures in code made them harder to understand.</th>\n",
       "      <th>After the course, I feel more confident about doing my own data analysis</th>\n",
       "      <th>About the pace of the course, was it:</th>\n",
       "      <th>What did you like most about the course?</th>\n",
       "      <th>If there was one thing about the course you could change, what would it be?</th>\n",
       "      <th>Do you have any other suggestions for the next time we do this course?</th>\n",
       "    </tr>\n",
       "  </thead>\n",
       "  <tbody>\n",
       "    <tr>\n",
       "      <th>0</th>\n",
       "      <td>2017/09/21 6:22:52 PM GMT+1</td>\n",
       "      <td>The bursary and the learning were equally impo...</td>\n",
       "      <td>I've never written any code</td>\n",
       "      <td>2</td>\n",
       "      <td>4</td>\n",
       "      <td>3</td>\n",
       "      <td>3</td>\n",
       "      <td>The course was very interactive and fun, and w...</td>\n",
       "      <td>Perhaps have another person (more people) to a...</td>\n",
       "      <td>NaN</td>\n",
       "    </tr>\n",
       "    <tr>\n",
       "      <th>1</th>\n",
       "      <td>2017/09/21 6:32:19 PM GMT+1</td>\n",
       "      <td>The 100 pound bursary</td>\n",
       "      <td>I've never written any code</td>\n",
       "      <td>4</td>\n",
       "      <td>1</td>\n",
       "      <td>1</td>\n",
       "      <td>2</td>\n",
       "      <td>The breaks</td>\n",
       "      <td>Slow down the pace because I couldn't keep up</td>\n",
       "      <td>NaN</td>\n",
       "    </tr>\n",
       "    <tr>\n",
       "      <th>2</th>\n",
       "      <td>2017/09/21 8:18:14 PM GMT+1</td>\n",
       "      <td>I wanted to learn more about data analysis</td>\n",
       "      <td>I have written a lot of useful code.</td>\n",
       "      <td>1</td>\n",
       "      <td>5</td>\n",
       "      <td>1</td>\n",
       "      <td>4</td>\n",
       "      <td>The information given to us was very useful an...</td>\n",
       "      <td>Make the course a bit faster</td>\n",
       "      <td>The programming part could be introduced separ...</td>\n",
       "    </tr>\n",
       "    <tr>\n",
       "      <th>3</th>\n",
       "      <td>2017/09/21 9:29:07 PM GMT+1</td>\n",
       "      <td>I wanted to learn more about data analysis</td>\n",
       "      <td>I have written a small amount of useful code.</td>\n",
       "      <td>1</td>\n",
       "      <td>2</td>\n",
       "      <td>5</td>\n",
       "      <td>3</td>\n",
       "      <td>Learning python and the chance to apply this k...</td>\n",
       "      <td>Increase the timescale and implement a method ...</td>\n",
       "      <td>Develop the students understanding of the pyth...</td>\n",
       "    </tr>\n",
       "    <tr>\n",
       "      <th>4</th>\n",
       "      <td>2017/09/22 8:52:04 AM GMT+1</td>\n",
       "      <td>The bursary and the learning were equally impo...</td>\n",
       "      <td>I've never written any code</td>\n",
       "      <td>2</td>\n",
       "      <td>5</td>\n",
       "      <td>4</td>\n",
       "      <td>3</td>\n",
       "      <td>The practical way in which it was taught</td>\n",
       "      <td>Wouldn’t change it</td>\n",
       "      <td>NaN</td>\n",
       "    </tr>\n",
       "    <tr>\n",
       "      <th>5</th>\n",
       "      <td>2017/09/22 10:34:32 AM GMT+1</td>\n",
       "      <td>I wanted to learn more about data analysis</td>\n",
       "      <td>I've played with code but never wrote anything...</td>\n",
       "      <td>1</td>\n",
       "      <td>4</td>\n",
       "      <td>5</td>\n",
       "      <td>3</td>\n",
       "      <td>I really enjoyed adopting the statistical codi...</td>\n",
       "      <td>I attempted some further coding outside of the...</td>\n",
       "      <td>NaN</td>\n",
       "    </tr>\n",
       "    <tr>\n",
       "      <th>6</th>\n",
       "      <td>2017/09/22 10:37:14 AM GMT+1</td>\n",
       "      <td>The bursary and the learning were equally impo...</td>\n",
       "      <td>I've never written any code</td>\n",
       "      <td>2</td>\n",
       "      <td>2</td>\n",
       "      <td>2</td>\n",
       "      <td>3</td>\n",
       "      <td>The introduction presentation on being skeptic...</td>\n",
       "      <td>It's ok to make mistakes\\n\\nAlways check your ...</td>\n",
       "      <td>Add more courses (or course time) on spending ...</td>\n",
       "    </tr>\n",
       "    <tr>\n",
       "      <th>7</th>\n",
       "      <td>2017/09/22 12:11:27 PM GMT+1</td>\n",
       "      <td>The 100 pound bursary</td>\n",
       "      <td>I have written a small amount of useful code.</td>\n",
       "      <td>2</td>\n",
       "      <td>4</td>\n",
       "      <td>4</td>\n",
       "      <td>1</td>\n",
       "      <td>The enthusaism of the module leader.  The data...</td>\n",
       "      <td>The module leader should be a bit slower. I fe...</td>\n",
       "      <td>People who have greater knowledge in stats sho...</td>\n",
       "    </tr>\n",
       "    <tr>\n",
       "      <th>8</th>\n",
       "      <td>2017/09/25 5:06:44 PM GMT+1</td>\n",
       "      <td>The bursary and the learning were equally impo...</td>\n",
       "      <td>I've never written any code</td>\n",
       "      <td>2</td>\n",
       "      <td>1</td>\n",
       "      <td>3</td>\n",
       "      <td>2</td>\n",
       "      <td>Earning the money</td>\n",
       "      <td>Have it more practical. Like actually typing c...</td>\n",
       "      <td>Maybe a code cheat sheat</td>\n",
       "    </tr>\n",
       "    <tr>\n",
       "      <th>9</th>\n",
       "      <td>2017/09/26 12:29:54 AM GMT+1</td>\n",
       "      <td>The bursary and the learning were equally impo...</td>\n",
       "      <td>I've never written any code</td>\n",
       "      <td>3</td>\n",
       "      <td>1</td>\n",
       "      <td>3</td>\n",
       "      <td>1</td>\n",
       "      <td>Being introduced to code</td>\n",
       "      <td>The pace, it was too fast</td>\n",
       "      <td>Maybe try it spread out over more days as it w...</td>\n",
       "    </tr>\n",
       "    <tr>\n",
       "      <th>10</th>\n",
       "      <td>2017/09/26 4:01:28 PM GMT+1</td>\n",
       "      <td>I wanted to learn more about data analysis</td>\n",
       "      <td>I've played with code but never wrote anything...</td>\n",
       "      <td>2</td>\n",
       "      <td>4</td>\n",
       "      <td>5</td>\n",
       "      <td>2</td>\n",
       "      <td>The tasks were fun to attempt and Matthew gave...</td>\n",
       "      <td>The course needs to be longer, the pace at whi...</td>\n",
       "      <td>If the course was run in a computer suite at t...</td>\n",
       "    </tr>\n",
       "    <tr>\n",
       "      <th>11</th>\n",
       "      <td>2017/09/26 7:26:46 PM GMT+1</td>\n",
       "      <td>I wanted to learn more about data analysis</td>\n",
       "      <td>I've played with code but never wrote anything...</td>\n",
       "      <td>2</td>\n",
       "      <td>5</td>\n",
       "      <td>5</td>\n",
       "      <td>2</td>\n",
       "      <td>Learning how to analyse my own data using simu...</td>\n",
       "      <td>More time on the permutation testing for paire...</td>\n",
       "      <td>No I learnt a lot from this course.</td>\n",
       "    </tr>\n",
       "    <tr>\n",
       "      <th>12</th>\n",
       "      <td>2017/09/27 6:50:57 PM GMT+1</td>\n",
       "      <td>The bursary and the learning were equally impo...</td>\n",
       "      <td>I've played with code but never wrote anything...</td>\n",
       "      <td>2</td>\n",
       "      <td>2</td>\n",
       "      <td>2</td>\n",
       "      <td>3</td>\n",
       "      <td>Learning about new ways to approach statistica...</td>\n",
       "      <td>A provided worksheet with all Jupyter phrases ...</td>\n",
       "      <td>NaN</td>\n",
       "    </tr>\n",
       "    <tr>\n",
       "      <th>13</th>\n",
       "      <td>2017/09/29 1:44:10 AM GMT+1</td>\n",
       "      <td>The 100 pound bursary</td>\n",
       "      <td>I've never written any code</td>\n",
       "      <td>3</td>\n",
       "      <td>2</td>\n",
       "      <td>3</td>\n",
       "      <td>2</td>\n",
       "      <td>Not stuffy teacher</td>\n",
       "      <td>NaN</td>\n",
       "      <td>NaN</td>\n",
       "    </tr>\n",
       "    <tr>\n",
       "      <th>14</th>\n",
       "      <td>2017/10/02 11:51:28 PM GMT+1</td>\n",
       "      <td>I wanted to learn more about data analysis</td>\n",
       "      <td>I've played with code but never wrote anything...</td>\n",
       "      <td>3</td>\n",
       "      <td>4</td>\n",
       "      <td>4</td>\n",
       "      <td>2</td>\n",
       "      <td>Tutor was very helpful, overall the course hel...</td>\n",
       "      <td>Personally was a bit fast paced, so slower pac...</td>\n",
       "      <td>NaN</td>\n",
       "    </tr>\n",
       "  </tbody>\n",
       "</table>\n",
       "</div>"
      ],
      "text/plain": [
       "                       Timestamp  \\\n",
       "0    2017/09/21 6:22:52 PM GMT+1   \n",
       "1    2017/09/21 6:32:19 PM GMT+1   \n",
       "2    2017/09/21 8:18:14 PM GMT+1   \n",
       "3    2017/09/21 9:29:07 PM GMT+1   \n",
       "4    2017/09/22 8:52:04 AM GMT+1   \n",
       "5   2017/09/22 10:34:32 AM GMT+1   \n",
       "6   2017/09/22 10:37:14 AM GMT+1   \n",
       "7   2017/09/22 12:11:27 PM GMT+1   \n",
       "8    2017/09/25 5:06:44 PM GMT+1   \n",
       "9   2017/09/26 12:29:54 AM GMT+1   \n",
       "10   2017/09/26 4:01:28 PM GMT+1   \n",
       "11   2017/09/26 7:26:46 PM GMT+1   \n",
       "12   2017/09/27 6:50:57 PM GMT+1   \n",
       "13   2017/09/29 1:44:10 AM GMT+1   \n",
       "14  2017/10/02 11:51:28 PM GMT+1   \n",
       "\n",
       "       The main reason I wanted to do this course was  \\\n",
       "0   The bursary and the learning were equally impo...   \n",
       "1                               The 100 pound bursary   \n",
       "2          I wanted to learn more about data analysis   \n",
       "3          I wanted to learn more about data analysis   \n",
       "4   The bursary and the learning were equally impo...   \n",
       "5          I wanted to learn more about data analysis   \n",
       "6   The bursary and the learning were equally impo...   \n",
       "7                               The 100 pound bursary   \n",
       "8   The bursary and the learning were equally impo...   \n",
       "9   The bursary and the learning were equally impo...   \n",
       "10         I wanted to learn more about data analysis   \n",
       "11         I wanted to learn more about data analysis   \n",
       "12  The bursary and the learning were equally impo...   \n",
       "13                              The 100 pound bursary   \n",
       "14         I wanted to learn more about data analysis   \n",
       "\n",
       "             How much computer code have you written?  \\\n",
       "0                         I've never written any code   \n",
       "1                         I've never written any code   \n",
       "2                I have written a lot of useful code.   \n",
       "3       I have written a small amount of useful code.   \n",
       "4                         I've never written any code   \n",
       "5   I've played with code but never wrote anything...   \n",
       "6                         I've never written any code   \n",
       "7       I have written a small amount of useful code.   \n",
       "8                         I've never written any code   \n",
       "9                         I've never written any code   \n",
       "10  I've played with code but never wrote anything...   \n",
       "11  I've played with code but never wrote anything...   \n",
       "12  I've played with code but never wrote anything...   \n",
       "13                        I've never written any code   \n",
       "14  I've played with code but never wrote anything...   \n",
       "\n",
       "    I had a better understanding of statistics after the course.  \\\n",
       "0                                                   2              \n",
       "1                                                   4              \n",
       "2                                                   1              \n",
       "3                                                   1              \n",
       "4                                                   2              \n",
       "5                                                   1              \n",
       "6                                                   2              \n",
       "7                                                   2              \n",
       "8                                                   2              \n",
       "9                                                   3              \n",
       "10                                                  2              \n",
       "11                                                  2              \n",
       "12                                                  2              \n",
       "13                                                  3              \n",
       "14                                                  3              \n",
       "\n",
       "    Writing the statistical procedures in code made them harder to understand.  \\\n",
       "0                                                   4                            \n",
       "1                                                   1                            \n",
       "2                                                   5                            \n",
       "3                                                   2                            \n",
       "4                                                   5                            \n",
       "5                                                   4                            \n",
       "6                                                   2                            \n",
       "7                                                   4                            \n",
       "8                                                   1                            \n",
       "9                                                   1                            \n",
       "10                                                  4                            \n",
       "11                                                  5                            \n",
       "12                                                  2                            \n",
       "13                                                  2                            \n",
       "14                                                  4                            \n",
       "\n",
       "    After the course, I feel more confident about doing my own data analysis  \\\n",
       "0                                                   3                          \n",
       "1                                                   1                          \n",
       "2                                                   1                          \n",
       "3                                                   5                          \n",
       "4                                                   4                          \n",
       "5                                                   5                          \n",
       "6                                                   2                          \n",
       "7                                                   4                          \n",
       "8                                                   3                          \n",
       "9                                                   3                          \n",
       "10                                                  5                          \n",
       "11                                                  5                          \n",
       "12                                                  2                          \n",
       "13                                                  3                          \n",
       "14                                                  4                          \n",
       "\n",
       "    About the pace of the course, was it:  \\\n",
       "0                                       3   \n",
       "1                                       2   \n",
       "2                                       4   \n",
       "3                                       3   \n",
       "4                                       3   \n",
       "5                                       3   \n",
       "6                                       3   \n",
       "7                                       1   \n",
       "8                                       2   \n",
       "9                                       1   \n",
       "10                                      2   \n",
       "11                                      2   \n",
       "12                                      3   \n",
       "13                                      2   \n",
       "14                                      2   \n",
       "\n",
       "             What did you like most about the course?  \\\n",
       "0   The course was very interactive and fun, and w...   \n",
       "1                                         The breaks    \n",
       "2   The information given to us was very useful an...   \n",
       "3   Learning python and the chance to apply this k...   \n",
       "4           The practical way in which it was taught    \n",
       "5   I really enjoyed adopting the statistical codi...   \n",
       "6   The introduction presentation on being skeptic...   \n",
       "7   The enthusaism of the module leader.  The data...   \n",
       "8                                   Earning the money   \n",
       "9                            Being introduced to code   \n",
       "10  The tasks were fun to attempt and Matthew gave...   \n",
       "11  Learning how to analyse my own data using simu...   \n",
       "12  Learning about new ways to approach statistica...   \n",
       "13                                 Not stuffy teacher   \n",
       "14  Tutor was very helpful, overall the course hel...   \n",
       "\n",
       "   If there was one thing about the course you could change, what would it be?  \\\n",
       "0   Perhaps have another person (more people) to a...                            \n",
       "1      Slow down the pace because I couldn't keep up                             \n",
       "2                        Make the course a bit faster                            \n",
       "3   Increase the timescale and implement a method ...                            \n",
       "4                                  Wouldn’t change it                            \n",
       "5   I attempted some further coding outside of the...                            \n",
       "6   It's ok to make mistakes\\n\\nAlways check your ...                            \n",
       "7   The module leader should be a bit slower. I fe...                            \n",
       "8   Have it more practical. Like actually typing c...                            \n",
       "9                           The pace, it was too fast                            \n",
       "10  The course needs to be longer, the pace at whi...                            \n",
       "11  More time on the permutation testing for paire...                            \n",
       "12  A provided worksheet with all Jupyter phrases ...                            \n",
       "13                                                NaN                            \n",
       "14  Personally was a bit fast paced, so slower pac...                            \n",
       "\n",
       "   Do you have any other suggestions for the next time we do this course?  \n",
       "0                                                 NaN                      \n",
       "1                                                 NaN                      \n",
       "2   The programming part could be introduced separ...                      \n",
       "3   Develop the students understanding of the pyth...                      \n",
       "4                                                 NaN                      \n",
       "5                                                 NaN                      \n",
       "6   Add more courses (or course time) on spending ...                      \n",
       "7   People who have greater knowledge in stats sho...                      \n",
       "8                            Maybe a code cheat sheat                      \n",
       "9   Maybe try it spread out over more days as it w...                      \n",
       "10  If the course was run in a computer suite at t...                      \n",
       "11                No I learnt a lot from this course.                      \n",
       "12                                                NaN                      \n",
       "13                                                NaN                      \n",
       "14                                                NaN                      "
      ]
     },
     "execution_count": 3,
     "metadata": {},
     "output_type": "execute_result"
    }
   ],
   "source": [
    "responses"
   ]
  },
  {
   "cell_type": "code",
   "execution_count": 62,
   "metadata": {},
   "outputs": [],
   "source": [
    "def default_pie(column):\n",
    "    counts = column.value_counts()\n",
    "    ax = counts.plot(kind='pie', autopct='%1.1f%%', title=counts.name)\n",
    "    ax.set_ylabel('')"
   ]
  },
  {
   "cell_type": "code",
   "execution_count": 69,
   "metadata": {
    "collapsed": true
   },
   "outputs": [],
   "source": [
    "def default_bar(column):\n",
    "    counts = column.value_counts()\n",
    "    ax = counts.plot(kind='bar', title=counts.name)\n",
    "    ax.set_ylabel('')"
   ]
  },
  {
   "cell_type": "code",
   "execution_count": 61,
   "metadata": {},
   "outputs": [
    {
     "data": {
      "image/png": "[encoded data removed]",
      "text/plain": [
       "<matplotlib.figure.Figure at 0x7fd96ee1ea58>"
      ]
     },
     "metadata": {},
     "output_type": "display_data"
    }
   ],
   "source": [
    "default_pie(q1)"
   ]
  },
  {
   "cell_type": "code",
   "execution_count": 63,
   "metadata": {},
   "outputs": [
    {
     "data": {
      "text/plain": [
       "Index(['Timestamp', 'The main reason I wanted to do this course was',\n",
       "       'How much computer code have you written?',\n",
       "       'I had a better understanding of statistics after the course.',\n",
       "       'Writing the statistical procedures in code made them harder to understand.',\n",
       "       'After the course, I feel more confident about doing my own data analysis',\n",
       "       'About the pace of the course, was it:',\n",
       "       'What did you like most about the course?',\n",
       "       'If there was one thing about the course you could change, what would it be?',\n",
       "       'Do you have any other suggestions for the next time we do this course?'],\n",
       "      dtype='object')"
      ]
     },
     "execution_count": 63,
     "metadata": {},
     "output_type": "execute_result"
    }
   ],
   "source": [
    "responses.columns"
   ]
  },
  {
   "cell_type": "code",
   "execution_count": 64,
   "metadata": {},
   "outputs": [
    {
     "data": {
      "image/png": "[encoded data removed]",
      "text/plain": [
       "<matplotlib.figure.Figure at 0x7fd96ed7e588>"
      ]
     },
     "metadata": {},
     "output_type": "display_data"
    }
   ],
   "source": [
    "default_pie(responses['How much computer code have you written?'])"
   ]
  },
  {
   "cell_type": "code",
   "execution_count": 72,
   "metadata": {},
   "outputs": [
    {
     "data": {
      "text/plain": [
       "<matplotlib.axes._subplots.AxesSubplot at 0x7fd96eb88828>"
      ]
     },
     "execution_count": 72,
     "metadata": {},
     "output_type": "execute_result"
    },
    {
     "data": {
      "image/png": "[encoded data removed]",
      "text/plain": [
       "<matplotlib.figure.Figure at 0x7fd96eb92518>"
      ]
     },
     "metadata": {},
     "output_type": "display_data"
    }
   ],
   "source": [
    "responses['I had a better understanding of statistics after the course.'].plot.hist(bins=5)"
   ]
  },
  {
   "cell_type": "code",
   "execution_count": 93,
   "metadata": {},
   "outputs": [],
   "source": [
    "q3 = responses['I had a better understanding of statistics after the course.']\n",
    "q3.value_counts?"
   ]
  },
  {
   "cell_type": "code",
   "execution_count": 88,
   "metadata": {},
   "outputs": [
    {
     "data": {
      "text/plain": [
       "<matplotlib.axes._subplots.AxesSubplot at 0x7fd96f0f48d0>"
      ]
     },
     "execution_count": 88,
     "metadata": {},
     "output_type": "execute_result"
    },
    {
     "data": {
      "image/png": "[encoded data removed]",
      "text/plain": [
       "<matplotlib.figure.Figure at 0x7fd96ed8a320>"
      ]
     },
     "metadata": {},
     "output_type": "display_data"
    }
   ],
   "source": [
    "q3.plot.hist(bins=[]"
   ]
  },
  {
   "cell_type": "code",
   "execution_count": 84,
   "metadata": {},
   "outputs": [],
   "source": [
    "import numpy as np"
   ]
  },
  {
   "cell_type": "code",
   "execution_count": 85,
   "metadata": {
    "collapsed": true
   },
   "outputs": [],
   "source": [
    "np.histogram?"
   ]
  },
  {
   "cell_type": "code",
   "execution_count": 89,
   "metadata": {
    "collapsed": true
   },
   "outputs": [],
   "source": [
    "plt.hist?"
   ]
  },
  {
   "cell_type": "code",
   "execution_count": 90,
   "metadata": {
    "collapsed": true
   },
   "outputs": [],
   "source": [
    "q3.plot.bar?"
   ]
  },
  {
   "cell_type": "code",
   "execution_count": 91,
   "metadata": {
    "collapsed": true
   },
   "outputs": [],
   "source": [
    "q3.plot?"
   ]
  },
  {
   "cell_type": "code",
   "execution_count": null,
   "metadata": {
    "collapsed": true
   },
   "outputs": [],
   "source": []
  }
 ],
 "metadata": {
  "kernelspec": {
   "display_name": "Python 3",
   "language": "python",
   "name": "python3"
  },
  "language_info": {
   "codemirror_mode": {
    "name": "ipython",
    "version": 3
   },
   "file_extension": ".py",
   "mimetype": "text/x-python",
   "name": "python",
   "nbconvert_exporter": "python",
   "pygments_lexer": "ipython3",
   "version": "3.5.4"
  }
 },
 "nbformat": 4,
 "nbformat_minor": 2
}
