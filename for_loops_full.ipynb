{
 "cells": [
  {
   "cell_type": "markdown",
   "metadata": {},
   "source": [
    "$\\newcommand{L}[1]{\\| #1 \\|}\\newcommand{VL}[1]{\\L{ \\vec{#1} }}\\newcommand{R}[1]{\\operatorname{Re}\\,(#1)}\\newcommand{I}[1]{\\operatorname{Im}\\, (#1)}$\n",
    "\n",
    "## For loops\n",
    "\n",
    "See: [Conditionals, functions and loops](https://matthew-brett.github.io/les-pilot/loops_and_functions.html) for an introduction to `while` loops.\n",
    "\n",
    "To start, let us redefine the function to do a coin toss:"
   ]
  },
  {
   "cell_type": "code",
   "execution_count": 1,
   "metadata": {},
   "outputs": [],
   "source": [
    "import random"
   ]
  },
  {
   "cell_type": "code",
   "execution_count": 2,
   "metadata": {},
   "outputs": [],
   "source": [
    "def coin_toss():\n",
    "    random_no = random.random()\n",
    "    if random_no < 0.5:\n",
    "        our_result = 0\n",
    "    else:\n",
    "        our_result = 1\n",
    "    return our_result"
   ]
  },
  {
   "cell_type": "markdown",
   "metadata": {},
   "source": [
    "Actually, people writing Python code do not often use `while` loops.  That\n",
    "is because Python has a particularly nice and general `for` loop.  Here is\n",
    "the way we would write the `while` loop above, using a `for` loop:"
   ]
  },
  {
   "cell_type": "code",
   "execution_count": 3,
   "metadata": {},
   "outputs": [
    {
     "data": {
      "text/plain": [
       "[0, 1, 0, 0]"
      ]
     },
     "execution_count": 3,
     "metadata": {},
     "output_type": "execute_result"
    }
   ],
   "source": [
    "coin_tosses = []\n",
    "for i in range(4):\n",
    "    result = coin_toss()\n",
    "    coin_tosses.append(result)\n",
    "\n",
    "coin_tosses"
   ]
  },
  {
   "cell_type": "markdown",
   "metadata": {},
   "source": [
    "## The take-home\n",
    "\n",
    "If you want to repeat something N times in Python, then use a `for` loop,\n",
    "that starts with something like `for i in range(N):`.\n",
    "\n",
    "That’s the quick version.   If you want to understand more about the `range`\n",
    "and the `i` in that statement, read on.\n",
    "\n",
    "## More detail\n",
    "\n",
    "Notice the use of `range`.  The `range` function here gives us a sequence\n",
    "of numbers, starting at 0, and going up to, but not including 4.  Therefore,\n",
    "the `range` function is giving us 4 numbers, 0, 1, 2, 3:"
   ]
  },
  {
   "cell_type": "code",
   "execution_count": 4,
   "metadata": {},
   "outputs": [
    {
     "data": {
      "text/plain": [
       "[0, 1, 2, 3]"
      ]
     },
     "execution_count": 4,
     "metadata": {},
     "output_type": "execute_result"
    }
   ],
   "source": [
    "list(range(4))"
   ]
  },
  {
   "cell_type": "markdown",
   "metadata": {},
   "source": [
    "Now notice the line `for i in range(4)`.  The for loop will take each of the\n",
    "numbers 0 through 3, and put it into the variable we’ve named `i`. This is\n",
    "the *loop variable*.  You can see better what is going on if we collect the\n",
    "loop variable value in the for loop, instead of doing the coin toss:"
   ]
  },
  {
   "cell_type": "code",
   "execution_count": 5,
   "metadata": {},
   "outputs": [
    {
     "data": {
      "text/plain": [
       "[0, 1, 2, 3]"
      ]
     },
     "execution_count": 5,
     "metadata": {},
     "output_type": "execute_result"
    }
   ],
   "source": [
    "variable_values = []\n",
    "for i in range(4):\n",
    "    variable_values.append(i)\n",
    "\n",
    "variable_values"
   ]
  },
  {
   "cell_type": "markdown",
   "metadata": {},
   "source": [
    "We can see the same thing, if we call the `print` function at each iteration\n",
    "of the loop, to show the value of `i`.   `print` displays the value as\n",
    "text."
   ]
  },
  {
   "cell_type": "code",
   "execution_count": 6,
   "metadata": {},
   "outputs": [
    {
     "name": "stdout",
     "output_type": "stream",
     "text": [
      "Value of i is 0\n",
      "Value of i is 1\n",
      "Value of i is 2\n",
      "Value of i is 3\n"
     ]
    }
   ],
   "source": [
    "for i in range(4):\n",
    "    # Show the value of i at each iteration of the loop\n",
    "    print('Value of i is', i)\n"
   ]
  }
 ],
 "metadata": {},
 "nbformat": 4,
 "nbformat_minor": 2
}